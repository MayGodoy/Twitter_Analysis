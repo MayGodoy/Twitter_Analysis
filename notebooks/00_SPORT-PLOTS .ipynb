{
 "cells": [
  {
   "cell_type": "code",
   "execution_count": 1,
   "metadata": {},
   "outputs": [
    {
     "data": {
      "text/html": [
       "        <script type=\"text/javascript\">\n",
       "        window.PlotlyConfig = {MathJaxConfig: 'local'};\n",
       "        if (window.MathJax) {MathJax.Hub.Config({SVG: {font: \"STIX-Web\"}});}\n",
       "        if (typeof require !== 'undefined') {\n",
       "        require.undef(\"plotly\");\n",
       "        requirejs.config({\n",
       "            paths: {\n",
       "                'plotly': ['https://cdn.plot.ly/plotly-latest.min']\n",
       "            }\n",
       "        });\n",
       "        require(['plotly'], function(Plotly) {\n",
       "            window._Plotly = Plotly;\n",
       "        });\n",
       "        }\n",
       "        </script>\n",
       "        "
      ]
     },
     "metadata": {},
     "output_type": "display_data"
    }
   ],
   "source": [
    "import pandas as pd\n",
    "import numpy as np\n",
    "\n",
    "from datetime import datetime\n",
    "from langdetect import detect\n",
    "\n",
    "import matplotlib\n",
    "import matplotlib.pyplot as plt # for plotting\n",
    "import seaborn as sns # for making plots with seaborn\n",
    "\n",
    "color = sns.color_palette()\n",
    "\n",
    "import plotly.graph_objs as go\n",
    "\n",
    "\n",
    "import cufflinks as cf\n",
    "cf.go_offline()\n",
    "import plotly.express as px\n",
    "\n",
    "# Venn diagram\n",
    "from matplotlib_venn import venn2\n",
    "import re\n",
    "import nltk\n",
    "\n",
    "import gc\n",
    "\n",
    "from sklearn.feature_extraction.text import TfidfVectorizer\n",
    "from sklearn.decomposition import TruncatedSVD\n",
    "\n",
    "import warnings\n",
    "warnings.filterwarnings(\"ignore\")\n",
    "\n",
    "import time\n",
    "import datetime"
   ]
  },
  {
   "cell_type": "code",
   "execution_count": 2,
   "metadata": {},
   "outputs": [],
   "source": [
    "# write the function that detects the language\n",
    "def language_detection(text):\n",
    "    try:\n",
    "        return detect(text)\n",
    "    except:\n",
    "        return None"
   ]
  },
  {
   "cell_type": "code",
   "execution_count": 3,
   "metadata": {},
   "outputs": [],
   "source": [
    "# importing libraries for positives words \n",
    "from sklearn.feature_extraction.text import CountVectorizer\n",
    "from yellowbrick.text.freqdist import FreqDistVisualizer\n",
    "from yellowbrick.style import set_palette"
   ]
  },
  {
   "cell_type": "code",
   "execution_count": 4,
   "metadata": {},
   "outputs": [],
   "source": [
    "# import necessary libraries for wordclouds\n",
    "from nltk.corpus import stopwords\n",
    "from wordcloud import WordCloud\n",
    "from collections import Counter\n",
    "from PIL import Image\n",
    "\n",
    "import re\n",
    "import string"
   ]
  },
  {
   "cell_type": "code",
   "execution_count": 5,
   "metadata": {},
   "outputs": [],
   "source": [
    "def plot_wordcloud(wordcloud, language):\n",
    "    plt.figure(figsize=(12, 10))\n",
    "    plt.imshow(wordcloud, interpolation = 'bilinear')\n",
    "    plt.axis(\"off\")\n",
    "    plt.title(language + ' Comments\\n', fontsize=18, fontweight='bold')\n",
    "    plt.show()"
   ]
  },
  {
   "cell_type": "code",
   "execution_count": 6,
   "metadata": {},
   "outputs": [],
   "source": [
    "## Data preprocessing\n",
    "from nltk.corpus import stopwords \n",
    "from nltk.stem.wordnet import WordNetLemmatizer\n",
    "import string\n",
    "\n",
    "stopwords = set(stopwords.words('english'))\n",
    "punctuation = set(string.punctuation)\n",
    "punctuation.add( \"“\" ) \n",
    "punctuation.add(\"”\" )\n",
    "punctuation.add('’') \n",
    "\n",
    "lemmatize = WordNetLemmatizer()\n",
    "\n",
    "def cleaning(article):\n",
    "    one = \" \".join([i for i in article.lower().split() if i not in stopwords])\n",
    "    two = \"\".join(i for i in one if i not in punctuation)\n",
    "    three = \" \".join(lemmatize.lemmatize(i) for i in two.split())\n",
    "    return three"
   ]
  },
  {
   "cell_type": "code",
   "execution_count": 7,
   "metadata": {},
   "outputs": [
    {
     "data": {
      "text/plain": [
       "{'!',\n",
       " '\"',\n",
       " '#',\n",
       " '$',\n",
       " '%',\n",
       " '&',\n",
       " \"'\",\n",
       " '(',\n",
       " ')',\n",
       " '*',\n",
       " '+',\n",
       " ',',\n",
       " '-',\n",
       " '.',\n",
       " '/',\n",
       " ':',\n",
       " ';',\n",
       " '<',\n",
       " '=',\n",
       " '>',\n",
       " '?',\n",
       " '@',\n",
       " '[',\n",
       " '\\\\',\n",
       " ']',\n",
       " '^',\n",
       " '_',\n",
       " '`',\n",
       " '{',\n",
       " '|',\n",
       " '}',\n",
       " '~',\n",
       " '’',\n",
       " '“',\n",
       " '”'}"
      ]
     },
     "execution_count": 7,
     "metadata": {},
     "output_type": "execute_result"
    }
   ],
   "source": [
    "punctuation"
   ]
  },
  {
   "cell_type": "markdown",
   "metadata": {},
   "source": [
    "## VADER FUNCS"
   ]
  },
  {
   "cell_type": "code",
   "execution_count": 8,
   "metadata": {},
   "outputs": [],
   "source": [
    "# load the SentimentIntensityAnalyser object in\n",
    "from vaderSentiment.vaderSentiment import SentimentIntensityAnalyzer\n",
    "\n",
    "analyzer = SentimentIntensityAnalyzer()"
   ]
  },
  {
   "cell_type": "code",
   "execution_count": 9,
   "metadata": {},
   "outputs": [],
   "source": [
    "def sentiment_analyzer_scores(sentence):\n",
    "    score = analyzer.polarity_scores(sentence)\n",
    "    print(\"{:-<40} {}\".format(sentence, str(score)))\n",
    "    \n",
    "\n",
    "# getting only the negative score\n",
    "def negative_score(text):\n",
    "    negative_value = analyzer.polarity_scores(text)['neg']\n",
    "    return negative_value\n",
    "\n",
    "# getting only the neutral score\n",
    "def neutral_score(text):\n",
    "    neutral_value = analyzer.polarity_scores(text)['neu']\n",
    "    return neutral_value\n",
    "\n",
    "# getting only the positive score\n",
    "def positive_score(text):\n",
    "    positive_value = analyzer.polarity_scores(text)['pos']\n",
    "    return positive_value\n",
    "\n",
    "# getting only the compound score\n",
    "def compound_score(text):\n",
    "    compound_value = analyzer.polarity_scores(text)['compound']\n",
    "    return compound_value"
   ]
  },
  {
   "cell_type": "markdown",
   "metadata": {},
   "source": [
    "# Premier League "
   ]
  },
  {
   "cell_type": "markdown",
   "metadata": {},
   "source": [
    "## Data  Cleaning"
   ]
  },
  {
   "cell_type": "code",
   "execution_count": 10,
   "metadata": {},
   "outputs": [
    {
     "name": "stderr",
     "output_type": "stream",
     "text": [
      "b'Skipping line 2001: expected 8 fields, saw 15\\nSkipping line 4001: expected 8 fields, saw 15\\n'\n"
     ]
    },
    {
     "data": {
      "text/html": [
       "<div>\n",
       "<style scoped>\n",
       "    .dataframe tbody tr th:only-of-type {\n",
       "        vertical-align: middle;\n",
       "    }\n",
       "\n",
       "    .dataframe tbody tr th {\n",
       "        vertical-align: top;\n",
       "    }\n",
       "\n",
       "    .dataframe thead th {\n",
       "        text-align: right;\n",
       "    }\n",
       "</style>\n",
       "<table border=\"1\" class=\"dataframe\">\n",
       "  <thead>\n",
       "    <tr style=\"text-align: right;\">\n",
       "      <th></th>\n",
       "      <th>Name</th>\n",
       "      <th>User</th>\n",
       "      <th>Date</th>\n",
       "      <th>Comment</th>\n",
       "      <th>Answers</th>\n",
       "      <th>Retweet</th>\n",
       "      <th>Likes</th>\n",
       "      <th>Text</th>\n",
       "    </tr>\n",
       "  </thead>\n",
       "  <tbody>\n",
       "    <tr>\n",
       "      <th>0</th>\n",
       "      <td>Man Utd Corner</td>\n",
       "      <td>@ManUtdCorner7</td>\n",
       "      <td>41s</td>\n",
       "      <td>Manchester United have won 8 out of 10 games w...</td>\n",
       "      <td>NaN</td>\n",
       "      <td>NaN</td>\n",
       "      <td>NaN</td>\n",
       "      <td>Man Utd Corner</td>\n",
       "    </tr>\n",
       "    <tr>\n",
       "      <th>1</th>\n",
       "      <td>Mads WIlliam Pagh Thomasen</td>\n",
       "      <td>@m2masen</td>\n",
       "      <td>20min</td>\n",
       "      <td>Man Sheiky got battered the other day, lets ba...</td>\n",
       "      <td>NaN</td>\n",
       "      <td>NaN</td>\n",
       "      <td>NaN</td>\n",
       "      <td>Mads WIlliam Pagh Thomasen</td>\n",
       "    </tr>\n",
       "    <tr>\n",
       "      <th>2</th>\n",
       "      <td>Infogol</td>\n",
       "      <td>@InfogolApp</td>\n",
       "      <td>24min</td>\n",
       "      <td>\"Although #NUFC's loss was expected, the mann...</td>\n",
       "      <td>NaN</td>\n",
       "      <td>5.0</td>\n",
       "      <td>9</td>\n",
       "      <td>Infogol</td>\n",
       "    </tr>\n",
       "    <tr>\n",
       "      <th>3</th>\n",
       "      <td>Billy Wood</td>\n",
       "      <td>@BillyWood__</td>\n",
       "      <td>47min</td>\n",
       "      <td>Andy Cole surely has to be the most underrated...</td>\n",
       "      <td>2</td>\n",
       "      <td>NaN</td>\n",
       "      <td>5</td>\n",
       "      <td>Billy Wood</td>\n",
       "    </tr>\n",
       "    <tr>\n",
       "      <th>4</th>\n",
       "      <td>Sporting Excitement</td>\n",
       "      <td>@SportingExcite</td>\n",
       "      <td>1h</td>\n",
       "      <td>Man Utd verdict: Solskjaer must trust Van de B...</td>\n",
       "      <td>NaN</td>\n",
       "      <td>NaN</td>\n",
       "      <td>NaN</td>\n",
       "      <td>Sporting Excitement</td>\n",
       "    </tr>\n",
       "    <tr>\n",
       "      <th>...</th>\n",
       "      <td>...</td>\n",
       "      <td>...</td>\n",
       "      <td>...</td>\n",
       "      <td>...</td>\n",
       "      <td>...</td>\n",
       "      <td>...</td>\n",
       "      <td>...</td>\n",
       "      <td>...</td>\n",
       "    </tr>\n",
       "    <tr>\n",
       "      <th>5325</th>\n",
       "      <td>Ekemini Daniel</td>\n",
       "      <td>@dee_kemus</td>\n",
       "      <td>21 nov.</td>\n",
       "      <td>3 points in the bag, but na like this we wan t...</td>\n",
       "      <td>1</td>\n",
       "      <td>NaN</td>\n",
       "      <td>2</td>\n",
       "      <td>Ekemini Daniel</td>\n",
       "    </tr>\n",
       "    <tr>\n",
       "      <th>5326</th>\n",
       "      <td>Man Utd Corner</td>\n",
       "      <td>@ManUtdCorner7</td>\n",
       "      <td>21 nov.</td>\n",
       "      <td>The title charge is on\\n\\n#MUFC #ManUtd #Manch...</td>\n",
       "      <td>NaN</td>\n",
       "      <td>NaN</td>\n",
       "      <td>3</td>\n",
       "      <td>Man Utd Corner</td>\n",
       "    </tr>\n",
       "    <tr>\n",
       "      <th>5327</th>\n",
       "      <td>Mats FC</td>\n",
       "      <td>@MatsMUFC</td>\n",
       "      <td>21 nov.</td>\n",
       "      <td>No events in the first half? I have never seen...</td>\n",
       "      <td>NaN</td>\n",
       "      <td>NaN</td>\n",
       "      <td>NaN</td>\n",
       "      <td>Mats FC</td>\n",
       "    </tr>\n",
       "    <tr>\n",
       "      <th>5328</th>\n",
       "      <td>RationalRed</td>\n",
       "      <td>@red_rational</td>\n",
       "      <td>21 nov.</td>\n",
       "      <td>I quite like the idea of VAR. I dont think it ...</td>\n",
       "      <td>NaN</td>\n",
       "      <td>NaN</td>\n",
       "      <td>3</td>\n",
       "      <td>RationalRed</td>\n",
       "    </tr>\n",
       "    <tr>\n",
       "      <th>5329</th>\n",
       "      <td>Noticias Deportivas</td>\n",
       "      <td>@notideportiva</td>\n",
       "      <td>21 nov.</td>\n",
       "      <td>#PremierLeague | Manchester Utd 1 - 0 West Bro...</td>\n",
       "      <td>NaN</td>\n",
       "      <td>NaN</td>\n",
       "      <td>NaN</td>\n",
       "      <td>Noticias Deportivas</td>\n",
       "    </tr>\n",
       "  </tbody>\n",
       "</table>\n",
       "<p>5330 rows × 8 columns</p>\n",
       "</div>"
      ],
      "text/plain": [
       "                            Name             User     Date  \\\n",
       "0                 Man Utd Corner   @ManUtdCorner7      41s   \n",
       "1     Mads WIlliam Pagh Thomasen         @m2masen    20min   \n",
       "2                        Infogol      @InfogolApp    24min   \n",
       "3                     Billy Wood     @BillyWood__    47min   \n",
       "4            Sporting Excitement  @SportingExcite       1h   \n",
       "...                          ...              ...      ...   \n",
       "5325              Ekemini Daniel       @dee_kemus  21 nov.   \n",
       "5326              Man Utd Corner   @ManUtdCorner7  21 nov.   \n",
       "5327                     Mats FC        @MatsMUFC  21 nov.   \n",
       "5328                 RationalRed    @red_rational  21 nov.   \n",
       "5329         Noticias Deportivas   @notideportiva  21 nov.   \n",
       "\n",
       "                                                Comment Answers  Retweet  \\\n",
       "0     Manchester United have won 8 out of 10 games w...     NaN      NaN   \n",
       "1     Man Sheiky got battered the other day, lets ba...     NaN      NaN   \n",
       "2      \"Although #NUFC's loss was expected, the mann...     NaN      5.0   \n",
       "3     Andy Cole surely has to be the most underrated...       2      NaN   \n",
       "4     Man Utd verdict: Solskjaer must trust Van de B...     NaN      NaN   \n",
       "...                                                 ...     ...      ...   \n",
       "5325  3 points in the bag, but na like this we wan t...       1      NaN   \n",
       "5326  The title charge is on\\n\\n#MUFC #ManUtd #Manch...     NaN      NaN   \n",
       "5327  No events in the first half? I have never seen...     NaN      NaN   \n",
       "5328  I quite like the idea of VAR. I dont think it ...     NaN      NaN   \n",
       "5329  #PremierLeague | Manchester Utd 1 - 0 West Bro...     NaN      NaN   \n",
       "\n",
       "     Likes                        Text  \n",
       "0      NaN              Man Utd Corner  \n",
       "1      NaN  Mads WIlliam Pagh Thomasen  \n",
       "2        9                     Infogol  \n",
       "3        5                  Billy Wood  \n",
       "4      NaN         Sporting Excitement  \n",
       "...    ...                         ...  \n",
       "5325     2              Ekemini Daniel  \n",
       "5326     3              Man Utd Corner  \n",
       "5327   NaN                     Mats FC  \n",
       "5328     3                 RationalRed  \n",
       "5329   NaN         Noticias Deportivas  \n",
       "\n",
       "[5330 rows x 8 columns]"
      ]
     },
     "execution_count": 10,
     "metadata": {},
     "output_type": "execute_result"
    }
   ],
   "source": [
    "#Import the data\n",
    "df = pd.read_csv('../datasets/_1-PremierLeague - Búsqueda de Twitter _ Twitter.csv', error_bad_lines=False)\n",
    "df"
   ]
  },
  {
   "cell_type": "code",
   "execution_count": 11,
   "metadata": {},
   "outputs": [],
   "source": [
    "# Change the name of the columns \n",
    "df.columns = \"Name\",\"User\" , \"Date\", \"Text\", \"Comment\", \"Retweet\", \"Likes\", \"Desc\""
   ]
  },
  {
   "cell_type": "code",
   "execution_count": 12,
   "metadata": {},
   "outputs": [
    {
     "name": "stdout",
     "output_type": "stream",
     "text": [
      "The dataset has 5330 rows and 8 columns.\n",
      "It contains 191 duplicates.\n"
     ]
    }
   ],
   "source": [
    "# Checking shape ...\n",
    "print(\"The dataset has {} rows and {} columns.\".format(*df.shape))\n",
    "\n",
    "# ... and duplicates\n",
    "print(\"It contains {} duplicates.\".format(df.Text.duplicated().sum()))"
   ]
  },
  {
   "cell_type": "code",
   "execution_count": 13,
   "metadata": {},
   "outputs": [
    {
     "name": "stdout",
     "output_type": "stream",
     "text": [
      "<class 'pandas.core.frame.DataFrame'>\n",
      "RangeIndex: 5330 entries, 0 to 5329\n",
      "Data columns (total 8 columns):\n",
      " #   Column   Non-Null Count  Dtype  \n",
      "---  ------   --------------  -----  \n",
      " 0   Name     5264 non-null   object \n",
      " 1   User     5327 non-null   object \n",
      " 2   Date     5330 non-null   object \n",
      " 3   Text     5327 non-null   object \n",
      " 4   Comment  835 non-null    object \n",
      " 5   Retweet  1084 non-null   float64\n",
      " 6   Likes    2342 non-null   object \n",
      " 7   Desc     5263 non-null   object \n",
      "dtypes: float64(1), object(7)\n",
      "memory usage: 333.2+ KB\n"
     ]
    }
   ],
   "source": [
    "df.info()"
   ]
  },
  {
   "cell_type": "code",
   "execution_count": 14,
   "metadata": {},
   "outputs": [
    {
     "data": {
      "text/html": [
       "<div>\n",
       "<style scoped>\n",
       "    .dataframe tbody tr th:only-of-type {\n",
       "        vertical-align: middle;\n",
       "    }\n",
       "\n",
       "    .dataframe tbody tr th {\n",
       "        vertical-align: top;\n",
       "    }\n",
       "\n",
       "    .dataframe thead th {\n",
       "        text-align: right;\n",
       "    }\n",
       "</style>\n",
       "<table border=\"1\" class=\"dataframe\">\n",
       "  <thead>\n",
       "    <tr style=\"text-align: right;\">\n",
       "      <th></th>\n",
       "      <th>Name</th>\n",
       "      <th>User</th>\n",
       "      <th>Date</th>\n",
       "      <th>Text</th>\n",
       "      <th>Comment</th>\n",
       "      <th>Retweet</th>\n",
       "      <th>Likes</th>\n",
       "      <th>Desc</th>\n",
       "    </tr>\n",
       "  </thead>\n",
       "  <tbody>\n",
       "    <tr>\n",
       "      <th>168</th>\n",
       "      <td>NaN</td>\n",
       "      <td>NaN</td>\n",
       "      <td>14h</td>\n",
       "      <td>NaN</td>\n",
       "      <td>NaN</td>\n",
       "      <td>NaN</td>\n",
       "      <td>NaN</td>\n",
       "      <td>NaN</td>\n",
       "    </tr>\n",
       "    <tr>\n",
       "      <th>214</th>\n",
       "      <td>NaN</td>\n",
       "      <td>@AvoXFCB</td>\n",
       "      <td>15h</td>\n",
       "      <td>Hahaha whaaat? #PremierLeague</td>\n",
       "      <td>NaN</td>\n",
       "      <td>NaN</td>\n",
       "      <td>NaN</td>\n",
       "      <td>NaN</td>\n",
       "    </tr>\n",
       "    <tr>\n",
       "      <th>219</th>\n",
       "      <td>NaN</td>\n",
       "      <td>@AvoXFCB</td>\n",
       "      <td>16h</td>\n",
       "      <td>Hahaha whaaat? #PremierLeague</td>\n",
       "      <td>NaN</td>\n",
       "      <td>NaN</td>\n",
       "      <td>NaN</td>\n",
       "      <td>NaN</td>\n",
       "    </tr>\n",
       "    <tr>\n",
       "      <th>371</th>\n",
       "      <td>NaN</td>\n",
       "      <td>@IKun_Aguero10I</td>\n",
       "      <td>18h</td>\n",
       "      <td>☆Looking to build agein good squad for next se...</td>\n",
       "      <td>2</td>\n",
       "      <td>1.0</td>\n",
       "      <td>4</td>\n",
       "      <td>NaN</td>\n",
       "    </tr>\n",
       "    <tr>\n",
       "      <th>434</th>\n",
       "      <td>NaN</td>\n",
       "      <td>@PremyerLiqa</td>\n",
       "      <td>19h</td>\n",
       "      <td>After week 10 \\n 2 teams have the same points!...</td>\n",
       "      <td>NaN</td>\n",
       "      <td>13.0</td>\n",
       "      <td>14</td>\n",
       "      <td>NaN</td>\n",
       "    </tr>\n",
       "    <tr>\n",
       "      <th>...</th>\n",
       "      <td>...</td>\n",
       "      <td>...</td>\n",
       "      <td>...</td>\n",
       "      <td>...</td>\n",
       "      <td>...</td>\n",
       "      <td>...</td>\n",
       "      <td>...</td>\n",
       "      <td>...</td>\n",
       "    </tr>\n",
       "    <tr>\n",
       "      <th>4775</th>\n",
       "      <td>NaN</td>\n",
       "      <td>@bluefootball_</td>\n",
       "      <td>22 nov.</td>\n",
       "      <td>Quaquadois de volta, será?\\nImportante é que o...</td>\n",
       "      <td>1</td>\n",
       "      <td>NaN</td>\n",
       "      <td>NaN</td>\n",
       "      <td>NaN</td>\n",
       "    </tr>\n",
       "    <tr>\n",
       "      <th>4985</th>\n",
       "      <td>NaN</td>\n",
       "      <td>@PremyerLiqa</td>\n",
       "      <td>22 nov.</td>\n",
       "      <td>MATCH DAY \\n\\n\\nToday \\n\\n\\nQabala FK \\n Neftc...</td>\n",
       "      <td>1</td>\n",
       "      <td>11.0</td>\n",
       "      <td>13</td>\n",
       "      <td>NaN</td>\n",
       "    </tr>\n",
       "    <tr>\n",
       "      <th>5006</th>\n",
       "      <td>NaN</td>\n",
       "      <td>@Regista_004</td>\n",
       "      <td>22 nov.</td>\n",
       "      <td>And we've got the most expensive front 3 in th...</td>\n",
       "      <td>NaN</td>\n",
       "      <td>NaN</td>\n",
       "      <td>NaN</td>\n",
       "      <td>NaN</td>\n",
       "    </tr>\n",
       "    <tr>\n",
       "      <th>5074</th>\n",
       "      <td>NaN</td>\n",
       "      <td>@Luisito_Bandera</td>\n",
       "      <td>22 nov.</td>\n",
       "      <td>#Futbol\\n Resultados Finales:\\n\\n#PremierLeagu...</td>\n",
       "      <td>NaN</td>\n",
       "      <td>NaN</td>\n",
       "      <td>NaN</td>\n",
       "      <td>NaN</td>\n",
       "    </tr>\n",
       "    <tr>\n",
       "      <th>5213</th>\n",
       "      <td>NaN</td>\n",
       "      <td>@Carlianleeds</td>\n",
       "      <td>22 nov.</td>\n",
       "      <td>#VAR is straight up match fixing. Changing the...</td>\n",
       "      <td>NaN</td>\n",
       "      <td>NaN</td>\n",
       "      <td>NaN</td>\n",
       "      <td>NaN</td>\n",
       "    </tr>\n",
       "  </tbody>\n",
       "</table>\n",
       "<p>66 rows × 8 columns</p>\n",
       "</div>"
      ],
      "text/plain": [
       "     Name              User     Date  \\\n",
       "168   NaN               NaN      14h   \n",
       "214   NaN          @AvoXFCB      15h   \n",
       "219   NaN          @AvoXFCB      16h   \n",
       "371   NaN   @IKun_Aguero10I      18h   \n",
       "434   NaN      @PremyerLiqa      19h   \n",
       "...   ...               ...      ...   \n",
       "4775  NaN    @bluefootball_  22 nov.   \n",
       "4985  NaN      @PremyerLiqa  22 nov.   \n",
       "5006  NaN      @Regista_004  22 nov.   \n",
       "5074  NaN  @Luisito_Bandera  22 nov.   \n",
       "5213  NaN     @Carlianleeds  22 nov.   \n",
       "\n",
       "                                                   Text Comment  Retweet  \\\n",
       "168                                                 NaN     NaN      NaN   \n",
       "214                       Hahaha whaaat? #PremierLeague     NaN      NaN   \n",
       "219                       Hahaha whaaat? #PremierLeague     NaN      NaN   \n",
       "371   ☆Looking to build agein good squad for next se...       2      1.0   \n",
       "434   After week 10 \\n 2 teams have the same points!...     NaN     13.0   \n",
       "...                                                 ...     ...      ...   \n",
       "4775  Quaquadois de volta, será?\\nImportante é que o...       1      NaN   \n",
       "4985  MATCH DAY \\n\\n\\nToday \\n\\n\\nQabala FK \\n Neftc...       1     11.0   \n",
       "5006  And we've got the most expensive front 3 in th...     NaN      NaN   \n",
       "5074  #Futbol\\n Resultados Finales:\\n\\n#PremierLeagu...     NaN      NaN   \n",
       "5213  #VAR is straight up match fixing. Changing the...     NaN      NaN   \n",
       "\n",
       "     Likes Desc  \n",
       "168    NaN  NaN  \n",
       "214    NaN  NaN  \n",
       "219    NaN  NaN  \n",
       "371      4  NaN  \n",
       "434     14  NaN  \n",
       "...    ...  ...  \n",
       "4775   NaN  NaN  \n",
       "4985    13  NaN  \n",
       "5006   NaN  NaN  \n",
       "5074   NaN  NaN  \n",
       "5213   NaN  NaN  \n",
       "\n",
       "[66 rows x 8 columns]"
      ]
     },
     "execution_count": 14,
     "metadata": {},
     "output_type": "execute_result"
    }
   ],
   "source": [
    "# How look like the null-values in the Name, looks 'normal' so move on\n",
    "df[df.Name.isnull()]"
   ]
  },
  {
   "cell_type": "code",
   "execution_count": 15,
   "metadata": {},
   "outputs": [
    {
     "data": {
      "text/html": [
       "<div>\n",
       "<style scoped>\n",
       "    .dataframe tbody tr th:only-of-type {\n",
       "        vertical-align: middle;\n",
       "    }\n",
       "\n",
       "    .dataframe tbody tr th {\n",
       "        vertical-align: top;\n",
       "    }\n",
       "\n",
       "    .dataframe thead th {\n",
       "        text-align: right;\n",
       "    }\n",
       "</style>\n",
       "<table border=\"1\" class=\"dataframe\">\n",
       "  <thead>\n",
       "    <tr style=\"text-align: right;\">\n",
       "      <th></th>\n",
       "      <th>Name</th>\n",
       "      <th>User</th>\n",
       "      <th>Date</th>\n",
       "      <th>Text</th>\n",
       "      <th>Comment</th>\n",
       "      <th>Retweet</th>\n",
       "      <th>Likes</th>\n",
       "      <th>Desc</th>\n",
       "    </tr>\n",
       "  </thead>\n",
       "  <tbody>\n",
       "    <tr>\n",
       "      <th>168</th>\n",
       "      <td>NaN</td>\n",
       "      <td>NaN</td>\n",
       "      <td>14h</td>\n",
       "      <td>NaN</td>\n",
       "      <td>NaN</td>\n",
       "      <td>NaN</td>\n",
       "      <td>NaN</td>\n",
       "      <td>NaN</td>\n",
       "    </tr>\n",
       "    <tr>\n",
       "      <th>2389</th>\n",
       "      <td>NaN</td>\n",
       "      <td>NaN</td>\n",
       "      <td>23 nov.</td>\n",
       "      <td>NaN</td>\n",
       "      <td>NaN</td>\n",
       "      <td>NaN</td>\n",
       "      <td>NaN</td>\n",
       "      <td>NaN</td>\n",
       "    </tr>\n",
       "    <tr>\n",
       "      <th>3784</th>\n",
       "      <td>NaN</td>\n",
       "      <td>NaN</td>\n",
       "      <td>22 nov.</td>\n",
       "      <td>NaN</td>\n",
       "      <td>NaN</td>\n",
       "      <td>NaN</td>\n",
       "      <td>NaN</td>\n",
       "      <td>NaN</td>\n",
       "    </tr>\n",
       "  </tbody>\n",
       "</table>\n",
       "</div>"
      ],
      "text/plain": [
       "     Name User     Date Text Comment  Retweet Likes Desc\n",
       "168   NaN  NaN      14h  NaN     NaN      NaN   NaN  NaN\n",
       "2389  NaN  NaN  23 nov.  NaN     NaN      NaN   NaN  NaN\n",
       "3784  NaN  NaN  22 nov.  NaN     NaN      NaN   NaN  NaN"
      ]
     },
     "execution_count": 15,
     "metadata": {},
     "output_type": "execute_result"
    }
   ],
   "source": [
    "# How look like the null-values in the User, this are empty in the Text value to\n",
    "df[df.User.isnull()]"
   ]
  },
  {
   "cell_type": "code",
   "execution_count": 16,
   "metadata": {},
   "outputs": [],
   "source": [
    "# Selected all the rows that have not null values in User\n",
    "df = df[~df.User.isnull()]"
   ]
  },
  {
   "cell_type": "code",
   "execution_count": 17,
   "metadata": {},
   "outputs": [],
   "source": [
    "# Dropped the values duplicates\n",
    "df.drop(list(df[df.Text.duplicated()].index), axis=0,inplace=True)"
   ]
  },
  {
   "cell_type": "code",
   "execution_count": 18,
   "metadata": {},
   "outputs": [],
   "source": [
    "# Reset the index\n",
    "df.reset_index(drop=True, inplace = True)"
   ]
  },
  {
   "cell_type": "code",
   "execution_count": 19,
   "metadata": {},
   "outputs": [
    {
     "data": {
      "text/plain": [
       "array(['41s', '20min', '24min', '47min', '1h', '2h', '3h', '4h', '5h',\n",
       "       '6h', '7h', '8h', '9h', '10h', '11h', '12h', '13h', '14h', '15h',\n",
       "       '16h', '17h', '18h', '19h', '20h', '21h', '22h', '23h', '24 nov.',\n",
       "       '23 nov.', '22 nov.', '21 nov.'], dtype=object)"
      ]
     },
     "execution_count": 19,
     "metadata": {},
     "output_type": "execute_result"
    }
   ],
   "source": [
    "# Checking the values in Date variable, the tweets of the 25/nov are counting by hours\n",
    "df.Date.unique()"
   ]
  },
  {
   "cell_type": "code",
   "execution_count": 20,
   "metadata": {},
   "outputs": [
    {
     "data": {
      "text/html": [
       "<div>\n",
       "<style scoped>\n",
       "    .dataframe tbody tr th:only-of-type {\n",
       "        vertical-align: middle;\n",
       "    }\n",
       "\n",
       "    .dataframe tbody tr th {\n",
       "        vertical-align: top;\n",
       "    }\n",
       "\n",
       "    .dataframe thead th {\n",
       "        text-align: right;\n",
       "    }\n",
       "</style>\n",
       "<table border=\"1\" class=\"dataframe\">\n",
       "  <thead>\n",
       "    <tr style=\"text-align: right;\">\n",
       "      <th></th>\n",
       "      <th>Name</th>\n",
       "      <th>User</th>\n",
       "      <th>Date</th>\n",
       "      <th>Text</th>\n",
       "      <th>Comment</th>\n",
       "      <th>Retweet</th>\n",
       "      <th>Likes</th>\n",
       "      <th>Desc</th>\n",
       "    </tr>\n",
       "  </thead>\n",
       "  <tbody>\n",
       "    <tr>\n",
       "      <th>617</th>\n",
       "      <td>Edward Fenner</td>\n",
       "      <td>@edfenner77</td>\n",
       "      <td>24 nov.</td>\n",
       "      <td>I do wonder at the attitude of #PremierLeague ...</td>\n",
       "      <td>NaN</td>\n",
       "      <td>NaN</td>\n",
       "      <td>2</td>\n",
       "      <td>Edward Fenner</td>\n",
       "    </tr>\n",
       "    <tr>\n",
       "      <th>618</th>\n",
       "      <td>InsiderSportHQ</td>\n",
       "      <td>@InsiderSportHQ</td>\n",
       "      <td>24 nov.</td>\n",
       "      <td>A 'limited number' of supporters will be allow...</td>\n",
       "      <td>NaN</td>\n",
       "      <td>NaN</td>\n",
       "      <td>NaN</td>\n",
       "      <td>InsiderSportHQ</td>\n",
       "    </tr>\n",
       "    <tr>\n",
       "      <th>619</th>\n",
       "      <td>andy rimmer</td>\n",
       "      <td>@ianandrewrimmer</td>\n",
       "      <td>24 nov.</td>\n",
       "      <td>Returning fans - how can the govt. allow some ...</td>\n",
       "      <td>NaN</td>\n",
       "      <td>NaN</td>\n",
       "      <td>1</td>\n",
       "      <td>andy rimmer</td>\n",
       "    </tr>\n",
       "    <tr>\n",
       "      <th>620</th>\n",
       "      <td>R.Sport</td>\n",
       "      <td>@republic_sports</td>\n",
       "      <td>24 nov.</td>\n",
       "      <td>#ICYMI: Jack Grealish charged once again after...</td>\n",
       "      <td>NaN</td>\n",
       "      <td>NaN</td>\n",
       "      <td>7</td>\n",
       "      <td>R.Sport</td>\n",
       "    </tr>\n",
       "    <tr>\n",
       "      <th>621</th>\n",
       "      <td>Thirst Gen Sports</td>\n",
       "      <td>@ThirstGenSports</td>\n",
       "      <td>24 nov.</td>\n",
       "      <td>#RT \\n@ThePFSA\\n: Wesley Fofana's incredible a...</td>\n",
       "      <td>NaN</td>\n",
       "      <td>NaN</td>\n",
       "      <td>NaN</td>\n",
       "      <td>Thirst Gen Sports</td>\n",
       "    </tr>\n",
       "    <tr>\n",
       "      <th>...</th>\n",
       "      <td>...</td>\n",
       "      <td>...</td>\n",
       "      <td>...</td>\n",
       "      <td>...</td>\n",
       "      <td>...</td>\n",
       "      <td>...</td>\n",
       "      <td>...</td>\n",
       "      <td>...</td>\n",
       "    </tr>\n",
       "    <tr>\n",
       "      <th>5133</th>\n",
       "      <td>Ekemini Daniel</td>\n",
       "      <td>@dee_kemus</td>\n",
       "      <td>21 nov.</td>\n",
       "      <td>3 points in the bag, but na like this we wan t...</td>\n",
       "      <td>1</td>\n",
       "      <td>NaN</td>\n",
       "      <td>2</td>\n",
       "      <td>Ekemini Daniel</td>\n",
       "    </tr>\n",
       "    <tr>\n",
       "      <th>5134</th>\n",
       "      <td>Man Utd Corner</td>\n",
       "      <td>@ManUtdCorner7</td>\n",
       "      <td>21 nov.</td>\n",
       "      <td>The title charge is on\\n\\n#MUFC #ManUtd #Manch...</td>\n",
       "      <td>NaN</td>\n",
       "      <td>NaN</td>\n",
       "      <td>3</td>\n",
       "      <td>Man Utd Corner</td>\n",
       "    </tr>\n",
       "    <tr>\n",
       "      <th>5135</th>\n",
       "      <td>Mats FC</td>\n",
       "      <td>@MatsMUFC</td>\n",
       "      <td>21 nov.</td>\n",
       "      <td>No events in the first half? I have never seen...</td>\n",
       "      <td>NaN</td>\n",
       "      <td>NaN</td>\n",
       "      <td>NaN</td>\n",
       "      <td>Mats FC</td>\n",
       "    </tr>\n",
       "    <tr>\n",
       "      <th>5136</th>\n",
       "      <td>RationalRed</td>\n",
       "      <td>@red_rational</td>\n",
       "      <td>21 nov.</td>\n",
       "      <td>I quite like the idea of VAR. I dont think it ...</td>\n",
       "      <td>NaN</td>\n",
       "      <td>NaN</td>\n",
       "      <td>3</td>\n",
       "      <td>RationalRed</td>\n",
       "    </tr>\n",
       "    <tr>\n",
       "      <th>5137</th>\n",
       "      <td>Noticias Deportivas</td>\n",
       "      <td>@notideportiva</td>\n",
       "      <td>21 nov.</td>\n",
       "      <td>#PremierLeague | Manchester Utd 1 - 0 West Bro...</td>\n",
       "      <td>NaN</td>\n",
       "      <td>NaN</td>\n",
       "      <td>NaN</td>\n",
       "      <td>Noticias Deportivas</td>\n",
       "    </tr>\n",
       "  </tbody>\n",
       "</table>\n",
       "<p>4521 rows × 8 columns</p>\n",
       "</div>"
      ],
      "text/plain": [
       "                     Name              User     Date  \\\n",
       "617         Edward Fenner       @edfenner77  24 nov.   \n",
       "618        InsiderSportHQ   @InsiderSportHQ  24 nov.   \n",
       "619           andy rimmer  @ianandrewrimmer  24 nov.   \n",
       "620               R.Sport  @republic_sports  24 nov.   \n",
       "621     Thirst Gen Sports  @ThirstGenSports  24 nov.   \n",
       "...                   ...               ...      ...   \n",
       "5133       Ekemini Daniel        @dee_kemus  21 nov.   \n",
       "5134       Man Utd Corner    @ManUtdCorner7  21 nov.   \n",
       "5135              Mats FC         @MatsMUFC  21 nov.   \n",
       "5136          RationalRed     @red_rational  21 nov.   \n",
       "5137  Noticias Deportivas    @notideportiva  21 nov.   \n",
       "\n",
       "                                                   Text Comment  Retweet  \\\n",
       "617   I do wonder at the attitude of #PremierLeague ...     NaN      NaN   \n",
       "618   A 'limited number' of supporters will be allow...     NaN      NaN   \n",
       "619   Returning fans - how can the govt. allow some ...     NaN      NaN   \n",
       "620   #ICYMI: Jack Grealish charged once again after...     NaN      NaN   \n",
       "621   #RT \\n@ThePFSA\\n: Wesley Fofana's incredible a...     NaN      NaN   \n",
       "...                                                 ...     ...      ...   \n",
       "5133  3 points in the bag, but na like this we wan t...       1      NaN   \n",
       "5134  The title charge is on\\n\\n#MUFC #ManUtd #Manch...     NaN      NaN   \n",
       "5135  No events in the first half? I have never seen...     NaN      NaN   \n",
       "5136  I quite like the idea of VAR. I dont think it ...     NaN      NaN   \n",
       "5137  #PremierLeague | Manchester Utd 1 - 0 West Bro...     NaN      NaN   \n",
       "\n",
       "     Likes                 Desc  \n",
       "617      2        Edward Fenner  \n",
       "618    NaN       InsiderSportHQ  \n",
       "619      1          andy rimmer  \n",
       "620      7              R.Sport  \n",
       "621    NaN    Thirst Gen Sports  \n",
       "...    ...                  ...  \n",
       "5133     2       Ekemini Daniel  \n",
       "5134     3       Man Utd Corner  \n",
       "5135   NaN              Mats FC  \n",
       "5136     3          RationalRed  \n",
       "5137   NaN  Noticias Deportivas  \n",
       "\n",
       "[4521 rows x 8 columns]"
      ]
     },
     "execution_count": 20,
     "metadata": {},
     "output_type": "execute_result"
    }
   ],
   "source": [
    "df.loc[df.Date.str.contains(\"nov.\")]"
   ]
  },
  {
   "cell_type": "code",
   "execution_count": 21,
   "metadata": {},
   "outputs": [],
   "source": [
    "# Standarized the Date\n",
    "df.loc[~df.Date.str.contains(\"nov.\"), \"Date\"] = \"25 nov.\""
   ]
  },
  {
   "cell_type": "code",
   "execution_count": 22,
   "metadata": {},
   "outputs": [],
   "source": [
    "# Added the 2020 in the Date\n",
    "df.loc[:,\"Date\"] += \" 2020\""
   ]
  },
  {
   "cell_type": "code",
   "execution_count": 23,
   "metadata": {},
   "outputs": [],
   "source": [
    "# Repleced the Nov, for later trasform to datatime\n",
    "df[\"Date\" ]= df.Date.str.replace(\" nov. \", \"-11-\")"
   ]
  },
  {
   "cell_type": "code",
   "execution_count": 24,
   "metadata": {},
   "outputs": [],
   "source": [
    "# Filled the null values in Date, using the ffill method \n",
    "df.Date.fillna(method='ffill', inplace=True) "
   ]
  },
  {
   "cell_type": "code",
   "execution_count": 25,
   "metadata": {},
   "outputs": [],
   "source": [
    "#Trasformed to Datetime\n",
    "df.Date = pd.to_datetime(df.Date, format='%d-%m-%Y')"
   ]
  },
  {
   "cell_type": "code",
   "execution_count": 26,
   "metadata": {},
   "outputs": [
    {
     "data": {
      "text/plain": [
       "2020-11-22    2551\n",
       "2020-11-23    1594\n",
       "2020-11-25     617\n",
       "2020-11-24     276\n",
       "2020-11-21     100\n",
       "Name: Date, dtype: int64"
      ]
     },
     "execution_count": 26,
     "metadata": {},
     "output_type": "execute_result"
    }
   ],
   "source": [
    "df.Date.value_counts()"
   ]
  },
  {
   "cell_type": "code",
   "execution_count": 27,
   "metadata": {
    "scrolled": true
   },
   "outputs": [
    {
     "data": {
      "text/plain": [
       "@EnglishPre_b       197\n",
       "@TabureAbuzer        47\n",
       "@rfutbol             46\n",
       "@LFC_NewStories      41\n",
       "@okezonenews         40\n",
       "                   ... \n",
       "@SanketUikey          1\n",
       "@cappysworldent       1\n",
       "@MikolasAndrej        1\n",
       "@mybrainthoughts      1\n",
       "@neaathletika         1\n",
       "Name: User, Length: 2703, dtype: int64"
      ]
     },
     "execution_count": 27,
     "metadata": {},
     "output_type": "execute_result"
    }
   ],
   "source": [
    "df.User.value_counts()"
   ]
  },
  {
   "cell_type": "code",
   "execution_count": 28,
   "metadata": {
    "scrolled": true
   },
   "outputs": [
    {
     "data": {
      "text/plain": [
       "English Premier League Briefly    197\n",
       "Abuzer                             47\n",
       "Resultados de Fútbol               46\n",
       "LFC News                           41\n",
       "Okezone                            40\n",
       "                                 ... \n",
       "Michał Moch                         1\n",
       "Prem Icon Cards                     1\n",
       "LeicesterTH                         1\n",
       "James Olyott                        1\n",
       "Aiden Boyer - Sports Reports        1\n",
       "Name: Name, Length: 2647, dtype: int64"
      ]
     },
     "execution_count": 28,
     "metadata": {},
     "output_type": "execute_result"
    }
   ],
   "source": [
    "df.Name.value_counts()"
   ]
  },
  {
   "cell_type": "markdown",
   "metadata": {},
   "source": [
    "## Data Trasformation"
   ]
  },
  {
   "cell_type": "code",
   "execution_count": 29,
   "metadata": {},
   "outputs": [
    {
     "data": {
      "text/plain": [
       "['@soccerscoresirl',\n",
       " '@premier_hero',\n",
       " '@notideportiva',\n",
       " '@howlerspodcast',\n",
       " '@statisticsports',\n",
       " '@a09sports',\n",
       " '@juanjojimenez_t',\n",
       " '@footballdayy2',\n",
       " '@wearepleague',\n",
       " '@arsenalamerica',\n",
       " '@talkfootballeur',\n",
       " '@guti99',\n",
       " '@jason_sagini',\n",
       " '@k_apolo_92',\n",
       " '@dekisa_sport',\n",
       " '@diiellzamustafa',\n",
       " '@futbolworldfc',\n",
       " '@bleachersfb',\n",
       " '@sofascorept',\n",
       " '@frank____m',\n",
       " '@oleoleartwork',\n",
       " '@ffootball2020',\n",
       " '@gifts_football',\n",
       " '@f9footballmedia',\n",
       " '@footballfriday6',\n",
       " '@realfootballpod',\n",
       " '@allfootball8k',\n",
       " '@footballlaw',\n",
       " '@hysfootball',\n",
       " '@jda_footballpod',\n",
       " '@footballfundits',\n",
       " '@lavistafootball',\n",
       " '@jpfootball',\n",
       " '@footballcoachx',\n",
       " '@footballisme',\n",
       " '@jobs4football',\n",
       " '@footballtalkx',\n",
       " '@ukfootballscho1',\n",
       " '@anytimefootball',\n",
       " '@footballpubmx_',\n",
       " '@footballmarketx',\n",
       " '@footballlinkup1',\n",
       " '@footballfanapp',\n",
       " '@footballitalia',\n",
       " '@footballlineups',\n",
       " '@onefootball',\n",
       " '@footballhub_pl',\n",
       " '@fbhfootball',\n",
       " '@footballutdtv',\n",
       " '@one2footballuk',\n",
       " '@shock_football',\n",
       " '@footballpoint3',\n",
       " '@_wtfootball_',\n",
       " '@footbalex',\n",
       " '@tfootballgeek',\n",
       " '@footballnomads_',\n",
       " '@footballnetal',\n",
       " '@footballworld_5',\n",
       " '@football_tape',\n",
       " '@aefootball_',\n",
       " '@givefootballes',\n",
       " '@football7index',\n",
       " '@footballkiiing',\n",
       " '@bluefootball_',\n",
       " '@footballexplo',\n",
       " '@lfc_newstories',\n",
       " '@okezonenews',\n",
       " '@pslnewsza',\n",
       " '@wionews',\n",
       " '@92newschannel',\n",
       " '@indiaaheadnews',\n",
       " '@indiatvnews',\n",
       " '@goalnews9',\n",
       " '@coldplnews',\n",
       " '@andysportnews',\n",
       " '@footnewsbe',\n",
       " '@tmat_news',\n",
       " '@easysoccernews',\n",
       " '@dailysportnewso',\n",
       " '@asbnewsng',\n",
       " '@thecitybiznews',\n",
       " '@zonknews20',\n",
       " '@topsportinews',\n",
       " '@mysportnews3',\n",
       " '@concoursenews',\n",
       " '@htsportsnews',\n",
       " '@rmsport_news',\n",
       " '@worldnewsdotcom',\n",
       " '@footytimespod',\n",
       " '@thetoonreview',\n",
       " '@thelouviereview',\n",
       " '@sportingexcite',\n",
       " '@dish_sport_live',\n",
       " '@ministryofsport',\n",
       " '@sportgrill97',\n",
       " '@sapodesporto',\n",
       " '@sportplaylists',\n",
       " '@6dsporting',\n",
       " '@thesportsocial',\n",
       " '@sporttvportugal',\n",
       " '@reyessportco',\n",
       " '@raisport',\n",
       " '@eurosport_it',\n",
       " '@sports_ndtv',\n",
       " '@chambersportz',\n",
       " '@fanonesport__',\n",
       " '@sportradiopl',\n",
       " '@dcesportivo',\n",
       " '@sportzcraazy',\n",
       " '@toisports',\n",
       " '@eurosporthu',\n",
       " '@mjsportsbet',\n",
       " '@sportsleoafrica',\n",
       " '@toquesports',\n",
       " '@livesportcentr1',\n",
       " '@fitsportsindia',\n",
       " '@sportsvzla2',\n",
       " '@sportsmatik',\n",
       " '@the_sportsq',\n",
       " '@sportsmarvel1',\n",
       " '@ssporttr',\n",
       " '@givemesport',\n",
       " '@optussport',\n",
       " '@sportsmint',\n",
       " '@imagosport',\n",
       " '@torchsportses',\n",
       " '@gosporting_',\n",
       " '@sportimef',\n",
       " '@beinsports',\n",
       " '@akhaysports',\n",
       " '@beinsports_aus',\n",
       " '@insidersporthq',\n",
       " '@republic_sports',\n",
       " '@thirstgensports',\n",
       " '@globalsportzone',\n",
       " '@sbb_sport',\n",
       " '@sportsbetio_in',\n",
       " '@novasportsgr',\n",
       " '@sportsbetio',\n",
       " '@praktoreiosport',\n",
       " '@proofsport',\n",
       " '@indiatvsports',\n",
       " '@sportslensaz',\n",
       " '@sportstarweb',\n",
       " '@insidesportind',\n",
       " '@sportsmate',\n",
       " '@21sport3',\n",
       " '@aikosportslaw',\n",
       " '@goaloosports',\n",
       " '@cgamesport',\n",
       " '@bigsportsbrekky',\n",
       " '@sportsmovies20',\n",
       " '@dailysports_bet',\n",
       " '@samsportstalk95',\n",
       " '@sportyrees1',\n",
       " '@sportbuzzbr',\n",
       " '@publisport_mx',\n",
       " '@ssportnetwork',\n",
       " '@sndsport',\n",
       " '@playsports_mx',\n",
       " '@bbcsport',\n",
       " '@sportface2016',\n",
       " '@smm_sportradio',\n",
       " '@mysportsworldes',\n",
       " '@cloudninesports',\n",
       " '@beinsports_nz',\n",
       " '@sport_mediaset',\n",
       " '@sportbuzzer',\n",
       " '@tycsports',\n",
       " '@mesportsodds1',\n",
       " '@beinsports_fr',\n",
       " '@kevshatsports',\n",
       " '@absportsjourno',\n",
       " '@redmptionsports',\n",
       " '@senseisports1',\n",
       " '@dailystar_sport',\n",
       " '@backrowsport',\n",
       " '@sportpoll11',\n",
       " '@showsportcanal',\n",
       " '@sportscityss',\n",
       " '@esporteestante',\n",
       " '@jnbetsport',\n",
       " '@100sports4',\n",
       " '@yfcsports',\n",
       " '@5livesport',\n",
       " '@mulhaksport',\n",
       " '@reval_sports',\n",
       " '@sprungonsports',\n",
       " '@sportverifd',\n",
       " '@24sports',\n",
       " '@nnis_sports',\n",
       " '@skysportsmx',\n",
       " '@wsnsports',\n",
       " '@starsports_bet',\n",
       " '@parklife_sport',\n",
       " '@broadcast_sport',\n",
       " '@sport_klub_slo',\n",
       " '@sportz_x',\n",
       " '@mundo_sports_',\n",
       " '@sportrendyblogs',\n",
       " '@ao_sports',\n",
       " '@business_sport',\n",
       " '@sportydude7',\n",
       " '@sportbusiness',\n",
       " '@sangamsports',\n",
       " '@lukegainssport',\n",
       " '@sportalhd_tsl',\n",
       " '@pods_sports',\n",
       " '@itgdsports',\n",
       " '@pakpassionsport',\n",
       " '@globalsportschn',\n",
       " '@mondosportivoit',\n",
       " '@revistadesport2',\n",
       " '@sport1',\n",
       " '@infosportplus',\n",
       " '@ngsportstv',\n",
       " '@cplussportafr',\n",
       " '@srfsport',\n",
       " '@sport_tvppl',\n",
       " '@voosport',\n",
       " '@thesportscast1',\n",
       " '@sporthousehn',\n",
       " '@ultrasportsuk',\n",
       " '@yardiesports',\n",
       " '@onsportsgr',\n",
       " '@iesportsradio',\n",
       " '@dangraves_sport',\n",
       " '@h2hsports_',\n",
       " '@iolsport',\n",
       " '@sportshubvideo',\n",
       " '@everydaysportsm',\n",
       " '@odsport',\n",
       " '@lhsport_21_',\n",
       " '@calientesports',\n",
       " '@allsportspy',\n",
       " '@thesportsgeek__',\n",
       " '@figuerasports',\n",
       " '@_lapagesport_',\n",
       " '@skysport',\n",
       " '@jmesasports',\n",
       " '@directvsportsco',\n",
       " '@pssportsfr',\n",
       " '@1xbet_sports',\n",
       " '@bbcmerseysport',\n",
       " '@lmdsportsjourno',\n",
       " '@sportsclubclas1',\n",
       " '@versussportssim',\n",
       " '@zsampsonsport',\n",
       " '@sportyleagues1',\n",
       " '@elitesportsvid2',\n",
       " '@sport24ur',\n",
       " '@sportsvotes247',\n",
       " '@grosvenorsport',\n",
       " '@riinasports',\n",
       " '@worldsportsbet',\n",
       " '@milsports1',\n",
       " '@sportsadda_',\n",
       " '@sportstotal11',\n",
       " '@sportscuppa',\n",
       " '@itsgullysports',\n",
       " '@sportsgrasp',\n",
       " '@axdmcflysports',\n",
       " '@okresumensports',\n",
       " '@indiansportfan',\n",
       " '@cgtnsports',\n",
       " '@plugtalksports',\n",
       " '@mcsportsl',\n",
       " '@worldinsport',\n",
       " '@futbolapparel_',\n",
       " '@futbolred',\n",
       " '@studiofutbol',\n",
       " '@red_futbolera',\n",
       " '@futbolclub',\n",
       " '@2futboldata',\n",
       " '@rincon_defutbol',\n",
       " '@msquefutbol2',\n",
       " '@communityfutbol',\n",
       " '@scoresfutbol',\n",
       " '@la5tadelfutbol',\n",
       " '@futbolen_corto',\n",
       " '@rfutbol',\n",
       " '@futboltotarg',\n",
       " '@futball_pundit',\n",
       " '@futbarchelo',\n",
       " '@daticosfutbol',\n",
       " '@aldiafutbol19',\n",
       " '@futballtraction',\n",
       " '@naszfutbol',\n",
       " '@retrofutbolec',\n",
       " '@futboldeelitepy',\n",
       " '@paraelfutbol',\n",
       " '@ondafutboloc',\n",
       " '@planetafutbolgt',\n",
       " '@route1futbol',\n",
       " '@himnofutbol',\n",
       " '@futbolecuador',\n",
       " '@marcafutbolint',\n",
       " '@story_futbol',\n",
       " '@encuentrofutbol',\n",
       " '@_ifutbol_',\n",
       " '@elmundo_futbol',\n",
       " '@prensafutbol',\n",
       " '@brianninofutbol',\n",
       " '@futbolhoycol',\n",
       " '@pausadelfutbol2',\n",
       " '@hfutbolw',\n",
       " '@lfdelfutbol',\n",
       " '@futbolenvivo_co',\n",
       " '@futbollium1',\n",
       " '@dmtodofutbol',\n",
       " '@infogolapp',\n",
       " '@mediagol',\n",
       " '@pasecontrolgol',\n",
       " '@igolpl',\n",
       " '@golalerta',\n",
       " '@planetafutgol',\n",
       " '@goltv',\n",
       " '@contragolpefc',\n",
       " '@golvesut',\n",
       " '@elportaldelgol',\n",
       " '@calciodangolo_',\n",
       " '@wgoldenbet',\n",
       " '@lineadegolcr',\n",
       " '@golesminuto',\n",
       " '@radio_golpl',\n",
       " '@godgolmx',\n",
       " '@goldchipuk',\n",
       " '@youhalal',\n",
       " '@englishpre_b',\n",
       " '@footbottrivia',\n",
       " '@fbpredictions',\n",
       " '@angusmoses',\n",
       " '@EnglishPre_b']"
      ]
     },
     "execution_count": 29,
     "metadata": {},
     "output_type": "execute_result"
    }
   ],
   "source": [
    "# Trasformed the User names to lower case\n",
    "df[\"User\"] = df['User'].map(lambda x: x.lower() if isinstance(x,str) else x)\n",
    "\n",
    "#Genereted a list of user that are magazines, newspaper, and the because these aren't User who express their feeling for the sport, \n",
    "#they are working for the sports just informing. Dropped the results\n",
    "\n",
    "listofno = (list(df[df.Text.str.contains(\"0 - 0\")].User) + list(df[df.Text.str.contains(\"0 - 1\")].User) + \n",
    "            list(df[df.Text.str.contains(\"1 - 0\")].User) + list(df[df.Text.str.contains(\"1 - 1\")].User)  + \n",
    "            list(df[df.Text.str.contains(\"1 - 2\")].User) +  list(df[df.Text.str.contains(\"2 - 3\")].User) + \n",
    "            list(df[df.Text.str.contains(\"3 - 3\")].User)+ list(df[df.User.str.contains(\"footbal\")].User) + \n",
    "            list(df[df.User.str.contains(\"news\")].User)+ list(df[df.User.str.contains(\"times\")].User) + \n",
    "            list(df[df.User.str.contains(\"review\")].User) + list(df[df.User.str.contains(\"sport\")].User)+ \n",
    "            list(df[df.User.str.contains(\"futb\")].User) + list(df[df.User.str.contains(\"gol\")].User)) \n",
    "listofno = listofno + [\"@youhalal\", \"@rfutbol\",  \"@lfc_newstories\" ,\"@englishpre_b\", \"@footbottrivia\",  \"@fbpredictions\", \"@angusmoses\", \"@golalerta\", \"@EnglishPre_b\"]\n",
    "\n",
    "# Dropped the User duplicates in the list\n",
    "listofno = list(dict.fromkeys(listofno)) \n",
    "listofno "
   ]
  },
  {
   "cell_type": "code",
   "execution_count": 30,
   "metadata": {},
   "outputs": [
    {
     "data": {
      "text/html": [
       "<div>\n",
       "<style scoped>\n",
       "    .dataframe tbody tr th:only-of-type {\n",
       "        vertical-align: middle;\n",
       "    }\n",
       "\n",
       "    .dataframe tbody tr th {\n",
       "        vertical-align: top;\n",
       "    }\n",
       "\n",
       "    .dataframe thead th {\n",
       "        text-align: right;\n",
       "    }\n",
       "</style>\n",
       "<table border=\"1\" class=\"dataframe\">\n",
       "  <thead>\n",
       "    <tr style=\"text-align: right;\">\n",
       "      <th></th>\n",
       "      <th>Name</th>\n",
       "      <th>User</th>\n",
       "      <th>Date</th>\n",
       "      <th>Text</th>\n",
       "      <th>Comment</th>\n",
       "      <th>Retweet</th>\n",
       "      <th>Likes</th>\n",
       "      <th>Desc</th>\n",
       "    </tr>\n",
       "  </thead>\n",
       "  <tbody>\n",
       "    <tr>\n",
       "      <th>0</th>\n",
       "      <td>Man Utd Corner</td>\n",
       "      <td>@manutdcorner7</td>\n",
       "      <td>2020-11-25</td>\n",
       "      <td>Manchester United have won 8 out of 10 games w...</td>\n",
       "      <td>NaN</td>\n",
       "      <td>NaN</td>\n",
       "      <td>NaN</td>\n",
       "      <td>Man Utd Corner</td>\n",
       "    </tr>\n",
       "    <tr>\n",
       "      <th>1</th>\n",
       "      <td>Mads WIlliam Pagh Thomasen</td>\n",
       "      <td>@m2masen</td>\n",
       "      <td>2020-11-25</td>\n",
       "      <td>Man Sheiky got battered the other day, lets ba...</td>\n",
       "      <td>NaN</td>\n",
       "      <td>NaN</td>\n",
       "      <td>NaN</td>\n",
       "      <td>Mads WIlliam Pagh Thomasen</td>\n",
       "    </tr>\n",
       "    <tr>\n",
       "      <th>3</th>\n",
       "      <td>Billy Wood</td>\n",
       "      <td>@billywood__</td>\n",
       "      <td>2020-11-25</td>\n",
       "      <td>Andy Cole surely has to be the most underrated...</td>\n",
       "      <td>2</td>\n",
       "      <td>NaN</td>\n",
       "      <td>5</td>\n",
       "      <td>Billy Wood</td>\n",
       "    </tr>\n",
       "    <tr>\n",
       "      <th>5</th>\n",
       "      <td>Akinola Ayodele (ofr)</td>\n",
       "      <td>@awhy03</td>\n",
       "      <td>2020-11-25</td>\n",
       "      <td>En respuesta a \\n@goal</td>\n",
       "      <td>NaN</td>\n",
       "      <td>NaN</td>\n",
       "      <td>NaN</td>\n",
       "      <td>Akinola Ayodele (ofr)</td>\n",
       "    </tr>\n",
       "    <tr>\n",
       "      <th>7</th>\n",
       "      <td>Li Monika</td>\n",
       "      <td>@1xb_chinese</td>\n",
       "      <td>2020-11-25</td>\n",
       "      <td>“圣徒”南安普敦周一在英超客场以1比1战平“狼队”伍尔弗汉普敦，沃尔科特时隔14年再为旧东家...</td>\n",
       "      <td>NaN</td>\n",
       "      <td>NaN</td>\n",
       "      <td>NaN</td>\n",
       "      <td>Li Monika</td>\n",
       "    </tr>\n",
       "    <tr>\n",
       "      <th>8</th>\n",
       "      <td>Inplay Challenges</td>\n",
       "      <td>@bash_the_bookie</td>\n",
       "      <td>2020-11-25</td>\n",
       "      <td>Yet to try out WilliamHill?\\n\\nThey will credi...</td>\n",
       "      <td>NaN</td>\n",
       "      <td>NaN</td>\n",
       "      <td>NaN</td>\n",
       "      <td>Inplay Challenges</td>\n",
       "    </tr>\n",
       "    <tr>\n",
       "      <th>9</th>\n",
       "      <td>The VAR Show</td>\n",
       "      <td>@thevarshow1</td>\n",
       "      <td>2020-11-25</td>\n",
       "      <td>Amazing talk with : \\n@neiljonesgoal\\n\\n\\nTo W...</td>\n",
       "      <td>NaN</td>\n",
       "      <td>NaN</td>\n",
       "      <td>NaN</td>\n",
       "      <td>The VAR Show</td>\n",
       "    </tr>\n",
       "    <tr>\n",
       "      <th>11</th>\n",
       "      <td>Your Betting Offers</td>\n",
       "      <td>@bettngtips</td>\n",
       "      <td>2020-11-25</td>\n",
       "      <td>Betting with Coral\\none of the most familiar n...</td>\n",
       "      <td>NaN</td>\n",
       "      <td>NaN</td>\n",
       "      <td>NaN</td>\n",
       "      <td>Your Betting Offers</td>\n",
       "    </tr>\n",
       "    <tr>\n",
       "      <th>12</th>\n",
       "      <td>David Nicolas Marega</td>\n",
       "      <td>@davidmarega74</td>\n",
       "      <td>2020-11-25</td>\n",
       "      <td>Violencia en el fútbol de #Ucrania, los barras...</td>\n",
       "      <td>NaN</td>\n",
       "      <td>NaN</td>\n",
       "      <td>NaN</td>\n",
       "      <td>David Nicolas Marega</td>\n",
       "    </tr>\n",
       "    <tr>\n",
       "      <th>13</th>\n",
       "      <td>Laura Westwood</td>\n",
       "      <td>@rockchicklau</td>\n",
       "      <td>2020-11-25</td>\n",
       "      <td>En respuesta a \\n@TipsEvolution</td>\n",
       "      <td>NaN</td>\n",
       "      <td>NaN</td>\n",
       "      <td>NaN</td>\n",
       "      <td>Laura Westwood</td>\n",
       "    </tr>\n",
       "  </tbody>\n",
       "</table>\n",
       "</div>"
      ],
      "text/plain": [
       "                          Name              User       Date  \\\n",
       "0               Man Utd Corner    @manutdcorner7 2020-11-25   \n",
       "1   Mads WIlliam Pagh Thomasen          @m2masen 2020-11-25   \n",
       "3                   Billy Wood      @billywood__ 2020-11-25   \n",
       "5        Akinola Ayodele (ofr)           @awhy03 2020-11-25   \n",
       "7                    Li Monika      @1xb_chinese 2020-11-25   \n",
       "8            Inplay Challenges  @bash_the_bookie 2020-11-25   \n",
       "9                 The VAR Show      @thevarshow1 2020-11-25   \n",
       "11         Your Betting Offers       @bettngtips 2020-11-25   \n",
       "12        David Nicolas Marega    @davidmarega74 2020-11-25   \n",
       "13              Laura Westwood     @rockchicklau 2020-11-25   \n",
       "\n",
       "                                                 Text Comment  Retweet Likes  \\\n",
       "0   Manchester United have won 8 out of 10 games w...     NaN      NaN   NaN   \n",
       "1   Man Sheiky got battered the other day, lets ba...     NaN      NaN   NaN   \n",
       "3   Andy Cole surely has to be the most underrated...       2      NaN     5   \n",
       "5                              En respuesta a \\n@goal     NaN      NaN   NaN   \n",
       "7   “圣徒”南安普敦周一在英超客场以1比1战平“狼队”伍尔弗汉普敦，沃尔科特时隔14年再为旧东家...     NaN      NaN   NaN   \n",
       "8   Yet to try out WilliamHill?\\n\\nThey will credi...     NaN      NaN   NaN   \n",
       "9   Amazing talk with : \\n@neiljonesgoal\\n\\n\\nTo W...     NaN      NaN   NaN   \n",
       "11  Betting with Coral\\none of the most familiar n...     NaN      NaN   NaN   \n",
       "12  Violencia en el fútbol de #Ucrania, los barras...     NaN      NaN   NaN   \n",
       "13                    En respuesta a \\n@TipsEvolution     NaN      NaN   NaN   \n",
       "\n",
       "                          Desc  \n",
       "0               Man Utd Corner  \n",
       "1   Mads WIlliam Pagh Thomasen  \n",
       "3                   Billy Wood  \n",
       "5        Akinola Ayodele (ofr)  \n",
       "7                    Li Monika  \n",
       "8            Inplay Challenges  \n",
       "9                 The VAR Show  \n",
       "11         Your Betting Offers  \n",
       "12        David Nicolas Marega  \n",
       "13              Laura Westwood  "
      ]
     },
     "execution_count": 30,
     "metadata": {},
     "output_type": "execute_result"
    }
   ],
   "source": [
    "# Selected the user that aren't in the listofno\n",
    "df1 = df[~df.User.isin(listofno)]\n",
    "df1.head(10)"
   ]
  },
  {
   "cell_type": "code",
   "execution_count": 31,
   "metadata": {},
   "outputs": [
    {
     "data": {
      "text/plain": [
       "@tabureabuzer       47\n",
       "@bettngtips         32\n",
       "@manutdcorner7      22\n",
       "@flyingeze          17\n",
       "@ricky9537          16\n",
       "                    ..\n",
       "@gilmar_zambrano     1\n",
       "@nguvinm             1\n",
       "@kuismorks           1\n",
       "@arsenalstarting     1\n",
       "@neaathletika        1\n",
       "Name: User, Length: 2371, dtype: int64"
      ]
     },
     "execution_count": 31,
     "metadata": {},
     "output_type": "execute_result"
    }
   ],
   "source": [
    "df1.User.value_counts()"
   ]
  },
  {
   "cell_type": "code",
   "execution_count": 32,
   "metadata": {},
   "outputs": [
    {
     "data": {
      "text/html": [
       "<div>\n",
       "<style scoped>\n",
       "    .dataframe tbody tr th:only-of-type {\n",
       "        vertical-align: middle;\n",
       "    }\n",
       "\n",
       "    .dataframe tbody tr th {\n",
       "        vertical-align: top;\n",
       "    }\n",
       "\n",
       "    .dataframe thead th {\n",
       "        text-align: right;\n",
       "    }\n",
       "</style>\n",
       "<table border=\"1\" class=\"dataframe\">\n",
       "  <thead>\n",
       "    <tr style=\"text-align: right;\">\n",
       "      <th></th>\n",
       "      <th>Name</th>\n",
       "      <th>User</th>\n",
       "      <th>Date</th>\n",
       "      <th>Text</th>\n",
       "      <th>Comment</th>\n",
       "      <th>Retweet</th>\n",
       "      <th>Likes</th>\n",
       "      <th>Desc</th>\n",
       "    </tr>\n",
       "  </thead>\n",
       "  <tbody>\n",
       "    <tr>\n",
       "      <th>62</th>\n",
       "      <td>Abuzer</td>\n",
       "      <td>@tabureabuzer</td>\n",
       "      <td>2020-11-25</td>\n",
       "      <td>Canlıda önereceğim maçlar:\\nDortmund-Club Brug...</td>\n",
       "      <td>3</td>\n",
       "      <td>NaN</td>\n",
       "      <td>13</td>\n",
       "      <td>Abuzer</td>\n",
       "    </tr>\n",
       "    <tr>\n",
       "      <th>64</th>\n",
       "      <td>Abuzer</td>\n",
       "      <td>@tabureabuzer</td>\n",
       "      <td>2020-11-25</td>\n",
       "      <td>WOONNNNN biraz erken won aldık demin şimdi old...</td>\n",
       "      <td>1</td>\n",
       "      <td>NaN</td>\n",
       "      <td>6</td>\n",
       "      <td>Abuzer</td>\n",
       "    </tr>\n",
       "    <tr>\n",
       "      <th>72</th>\n",
       "      <td>Abuzer</td>\n",
       "      <td>@tabureabuzer</td>\n",
       "      <td>2020-11-25</td>\n",
       "      <td>Juventus-Ferencvaros\\nCanlı-İY 2,5 Korner Üst\\...</td>\n",
       "      <td>6</td>\n",
       "      <td>1.0</td>\n",
       "      <td>8</td>\n",
       "      <td>Abuzer</td>\n",
       "    </tr>\n",
       "    <tr>\n",
       "      <th>75</th>\n",
       "      <td>Abuzer</td>\n",
       "      <td>@tabureabuzer</td>\n",
       "      <td>2020-11-25</td>\n",
       "      <td>Vereyim mi bir kombin daha isteyenler \\n çöksü...</td>\n",
       "      <td>3</td>\n",
       "      <td>NaN</td>\n",
       "      <td>44</td>\n",
       "      <td>Abuzer</td>\n",
       "    </tr>\n",
       "    <tr>\n",
       "      <th>76</th>\n",
       "      <td>Abuzer</td>\n",
       "      <td>@tabureabuzer</td>\n",
       "      <td>2020-11-25</td>\n",
       "      <td>WOOOOOONNNNN daha ilk yarıların ortasına gelme...</td>\n",
       "      <td>4</td>\n",
       "      <td>NaN</td>\n",
       "      <td>7</td>\n",
       "      <td>Abuzer</td>\n",
       "    </tr>\n",
       "    <tr>\n",
       "      <th>77</th>\n",
       "      <td>Abuzer</td>\n",
       "      <td>@tabureabuzer</td>\n",
       "      <td>2020-11-25</td>\n",
       "      <td>Juve yedi Başakşehir maçına kaldık.\\n#FenerinM...</td>\n",
       "      <td>1</td>\n",
       "      <td>NaN</td>\n",
       "      <td>3</td>\n",
       "      <td>Abuzer</td>\n",
       "    </tr>\n",
       "    <tr>\n",
       "      <th>80</th>\n",
       "      <td>Abuzer</td>\n",
       "      <td>@tabureabuzer</td>\n",
       "      <td>2020-11-25</td>\n",
       "      <td>Manchester United-Başakşehir\\nCanlı-İY 2,5 Kor...</td>\n",
       "      <td>NaN</td>\n",
       "      <td>NaN</td>\n",
       "      <td>1</td>\n",
       "      <td>Abuzer</td>\n",
       "    </tr>\n",
       "    <tr>\n",
       "      <th>87</th>\n",
       "      <td>Abuzer</td>\n",
       "      <td>@tabureabuzer</td>\n",
       "      <td>2020-11-25</td>\n",
       "      <td>Manchester United-Başakşehir İY 1,5 Üst\\nJuven...</td>\n",
       "      <td>5</td>\n",
       "      <td>1.0</td>\n",
       "      <td>7</td>\n",
       "      <td>Abuzer</td>\n",
       "    </tr>\n",
       "    <tr>\n",
       "      <th>91</th>\n",
       "      <td>Abuzer</td>\n",
       "      <td>@tabureabuzer</td>\n",
       "      <td>2020-11-25</td>\n",
       "      <td>Canlılar için hazır mısınız bekleyenler \\n bır...</td>\n",
       "      <td>3</td>\n",
       "      <td>NaN</td>\n",
       "      <td>45</td>\n",
       "      <td>Abuzer</td>\n",
       "    </tr>\n",
       "    <tr>\n",
       "      <th>102</th>\n",
       "      <td>Abuzer</td>\n",
       "      <td>@tabureabuzer</td>\n",
       "      <td>2020-11-25</td>\n",
       "      <td>Chelsea dostlarımı kanser etti birazcık ama be...</td>\n",
       "      <td>4</td>\n",
       "      <td>NaN</td>\n",
       "      <td>11</td>\n",
       "      <td>Abuzer</td>\n",
       "    </tr>\n",
       "    <tr>\n",
       "      <th>105</th>\n",
       "      <td>Abuzer</td>\n",
       "      <td>@tabureabuzer</td>\n",
       "      <td>2020-11-25</td>\n",
       "      <td>WON.\\n#FenerinMaçıVar #PesDoğrusu #PL #iddaa #...</td>\n",
       "      <td>NaN</td>\n",
       "      <td>NaN</td>\n",
       "      <td>5</td>\n",
       "      <td>Abuzer</td>\n",
       "    </tr>\n",
       "    <tr>\n",
       "      <th>107</th>\n",
       "      <td>Abuzer</td>\n",
       "      <td>@tabureabuzer</td>\n",
       "      <td>2020-11-25</td>\n",
       "      <td>Juventus-Ferençvaros\\nMS-Ev 2,5 Üst\\nJuve'de R...</td>\n",
       "      <td>NaN</td>\n",
       "      <td>NaN</td>\n",
       "      <td>6</td>\n",
       "      <td>Abuzer</td>\n",
       "    </tr>\n",
       "    <tr>\n",
       "      <th>109</th>\n",
       "      <td>Abuzer</td>\n",
       "      <td>@tabureabuzer</td>\n",
       "      <td>2020-11-25</td>\n",
       "      <td>PSG-Leipzig\\nMS-2,5 Üst\\nTuchel topun ağzında ...</td>\n",
       "      <td>NaN</td>\n",
       "      <td>NaN</td>\n",
       "      <td>7</td>\n",
       "      <td>Abuzer</td>\n",
       "    </tr>\n",
       "    <tr>\n",
       "      <th>112</th>\n",
       "      <td>Abuzer</td>\n",
       "      <td>@tabureabuzer</td>\n",
       "      <td>2020-11-25</td>\n",
       "      <td>Manchester United-Başakşehir\\nMS-3,5 Üst\\nİlk ...</td>\n",
       "      <td>NaN</td>\n",
       "      <td>2.0</td>\n",
       "      <td>9</td>\n",
       "      <td>Abuzer</td>\n",
       "    </tr>\n",
       "    <tr>\n",
       "      <th>114</th>\n",
       "      <td>Abuzer</td>\n",
       "      <td>@tabureabuzer</td>\n",
       "      <td>2020-11-25</td>\n",
       "      <td>Dortmund-Club Brugge\\nMS-2,5 Üst\\nDortmund ilk...</td>\n",
       "      <td>1</td>\n",
       "      <td>1.0</td>\n",
       "      <td>10</td>\n",
       "      <td>Abuzer</td>\n",
       "    </tr>\n",
       "    <tr>\n",
       "      <th>130</th>\n",
       "      <td>Abuzer</td>\n",
       "      <td>@tabureabuzer</td>\n",
       "      <td>2020-11-25</td>\n",
       "      <td>WOOOOONNNNN aldık mı korneri yine 12,5 ve 13,5...</td>\n",
       "      <td>10</td>\n",
       "      <td>NaN</td>\n",
       "      <td>12</td>\n",
       "      <td>Abuzer</td>\n",
       "    </tr>\n",
       "    <tr>\n",
       "      <th>147</th>\n",
       "      <td>Abuzer</td>\n",
       "      <td>@tabureabuzer</td>\n",
       "      <td>2020-11-25</td>\n",
       "      <td>WOOOOONNNN daha ilk yarıdan geldi bahis korner...</td>\n",
       "      <td>5</td>\n",
       "      <td>NaN</td>\n",
       "      <td>8</td>\n",
       "      <td>Abuzer</td>\n",
       "    </tr>\n",
       "    <tr>\n",
       "      <th>157</th>\n",
       "      <td>Abuzer</td>\n",
       "      <td>@tabureabuzer</td>\n",
       "      <td>2020-11-25</td>\n",
       "      <td>WOOOOOONNNNN güvenin şu reisinize ya bizim 2 b...</td>\n",
       "      <td>3</td>\n",
       "      <td>NaN</td>\n",
       "      <td>15</td>\n",
       "      <td>Abuzer</td>\n",
       "    </tr>\n",
       "    <tr>\n",
       "      <th>160</th>\n",
       "      <td>Abuzer</td>\n",
       "      <td>@tabureabuzer</td>\n",
       "      <td>2020-11-25</td>\n",
       "      <td>Türkgücü lidere karşı golü buldu bizim de bahs...</td>\n",
       "      <td>NaN</td>\n",
       "      <td>NaN</td>\n",
       "      <td>7</td>\n",
       "      <td>Abuzer</td>\n",
       "    </tr>\n",
       "    <tr>\n",
       "      <th>162</th>\n",
       "      <td>Abuzer</td>\n",
       "      <td>@tabureabuzer</td>\n",
       "      <td>2020-11-25</td>\n",
       "      <td>Rennes-Chelsea\\nCanlı-Sıradaki Gol Dep\\nChelse...</td>\n",
       "      <td>2</td>\n",
       "      <td>1.0</td>\n",
       "      <td>10</td>\n",
       "      <td>Abuzer</td>\n",
       "    </tr>\n",
       "    <tr>\n",
       "      <th>198</th>\n",
       "      <td>Abuzer</td>\n",
       "      <td>@tabureabuzer</td>\n",
       "      <td>2020-11-25</td>\n",
       "      <td>Dayanamayıp size baya maç verdim hadi bol şans...</td>\n",
       "      <td>NaN</td>\n",
       "      <td>NaN</td>\n",
       "      <td>16</td>\n",
       "      <td>Abuzer</td>\n",
       "    </tr>\n",
       "    <tr>\n",
       "      <th>200</th>\n",
       "      <td>Abuzer</td>\n",
       "      <td>@tabureabuzer</td>\n",
       "      <td>2020-11-25</td>\n",
       "      <td>Mannheim-Duisburg\\nMS-2,5 Üst\\nDuisburg çok so...</td>\n",
       "      <td>NaN</td>\n",
       "      <td>1.0</td>\n",
       "      <td>8</td>\n",
       "      <td>Abuzer</td>\n",
       "    </tr>\n",
       "    <tr>\n",
       "      <th>208</th>\n",
       "      <td>Abuzer</td>\n",
       "      <td>@tabureabuzer</td>\n",
       "      <td>2020-11-25</td>\n",
       "      <td>SV Wehen Wiesbaden-SV Meppen\\nMS-KG Var\\n#Fene...</td>\n",
       "      <td>NaN</td>\n",
       "      <td>NaN</td>\n",
       "      <td>7</td>\n",
       "      <td>Abuzer</td>\n",
       "    </tr>\n",
       "    <tr>\n",
       "      <th>211</th>\n",
       "      <td>Abuzer</td>\n",
       "      <td>@tabureabuzer</td>\n",
       "      <td>2020-11-25</td>\n",
       "      <td>Krasnodar-Sevilla\\nMS-8,5 Korner Üst\\nİlk maçt...</td>\n",
       "      <td>1</td>\n",
       "      <td>NaN</td>\n",
       "      <td>9</td>\n",
       "      <td>Abuzer</td>\n",
       "    </tr>\n",
       "    <tr>\n",
       "      <th>213</th>\n",
       "      <td>Abuzer</td>\n",
       "      <td>@tabureabuzer</td>\n",
       "      <td>2020-11-25</td>\n",
       "      <td>Rennes-Chelsea\\nMS-1,5 Üst ve 2\\nChelsea çok f...</td>\n",
       "      <td>NaN</td>\n",
       "      <td>1.0</td>\n",
       "      <td>9</td>\n",
       "      <td>Abuzer</td>\n",
       "    </tr>\n",
       "    <tr>\n",
       "      <th>216</th>\n",
       "      <td>Abuzer</td>\n",
       "      <td>@tabureabuzer</td>\n",
       "      <td>2020-11-25</td>\n",
       "      <td>Red Star-Avranches\\nMS-1,5 Üst\\n#FenerinMaçıVa...</td>\n",
       "      <td>NaN</td>\n",
       "      <td>NaN</td>\n",
       "      <td>12</td>\n",
       "      <td>Abuzer</td>\n",
       "    </tr>\n",
       "    <tr>\n",
       "      <th>218</th>\n",
       "      <td>Abuzer</td>\n",
       "      <td>@tabureabuzer</td>\n",
       "      <td>2020-11-25</td>\n",
       "      <td>Jong PSV-Jong Utrecht\\nMS-2,5 Üst\\n#FenerinMaç...</td>\n",
       "      <td>NaN</td>\n",
       "      <td>NaN</td>\n",
       "      <td>8</td>\n",
       "      <td>Abuzer</td>\n",
       "    </tr>\n",
       "    <tr>\n",
       "      <th>219</th>\n",
       "      <td>Abuzer</td>\n",
       "      <td>@tabureabuzer</td>\n",
       "      <td>2020-11-25</td>\n",
       "      <td>Kapfenberg-Aus Lustenau\\nMS-2,5 Üst\\n#FenerinM...</td>\n",
       "      <td>NaN</td>\n",
       "      <td>NaN</td>\n",
       "      <td>11</td>\n",
       "      <td>Abuzer</td>\n",
       "    </tr>\n",
       "    <tr>\n",
       "      <th>222</th>\n",
       "      <td>Abuzer</td>\n",
       "      <td>@tabureabuzer</td>\n",
       "      <td>2020-11-25</td>\n",
       "      <td>Şimdi size en az 5 maçlık analiz atıyorum hepi...</td>\n",
       "      <td>1</td>\n",
       "      <td>1.0</td>\n",
       "      <td>23</td>\n",
       "      <td>Abuzer</td>\n",
       "    </tr>\n",
       "    <tr>\n",
       "      <th>230</th>\n",
       "      <td>Abuzer</td>\n",
       "      <td>@tabureabuzer</td>\n",
       "      <td>2020-11-25</td>\n",
       "      <td>WOOOOOOONNNNN Abuzer'i sıkı takip edin özellik...</td>\n",
       "      <td>1</td>\n",
       "      <td>NaN</td>\n",
       "      <td>12</td>\n",
       "      <td>Abuzer</td>\n",
       "    </tr>\n",
       "    <tr>\n",
       "      <th>263</th>\n",
       "      <td>Abuzer</td>\n",
       "      <td>@tabureabuzer</td>\n",
       "      <td>2020-11-25</td>\n",
       "      <td>W.Beveren-Oostende\\nMS-2,5 Üst\\n#FenerinMaçıVa...</td>\n",
       "      <td>1</td>\n",
       "      <td>1.0</td>\n",
       "      <td>5</td>\n",
       "      <td>Abuzer</td>\n",
       "    </tr>\n",
       "    <tr>\n",
       "      <th>265</th>\n",
       "      <td>Abuzer</td>\n",
       "      <td>@tabureabuzer</td>\n",
       "      <td>2020-11-25</td>\n",
       "      <td>L.Zagreb-Hajduk Split\\nMS-1,5 Üst\\n#FenerinMaç...</td>\n",
       "      <td>1</td>\n",
       "      <td>1.0</td>\n",
       "      <td>6</td>\n",
       "      <td>Abuzer</td>\n",
       "    </tr>\n",
       "    <tr>\n",
       "      <th>266</th>\n",
       "      <td>Abuzer</td>\n",
       "      <td>@tabureabuzer</td>\n",
       "      <td>2020-11-25</td>\n",
       "      <td>Bursaspor-1922 Konya\\nMS-2,5 Üst\\n#FenerinMaçı...</td>\n",
       "      <td>2</td>\n",
       "      <td>NaN</td>\n",
       "      <td>6</td>\n",
       "      <td>Abuzer</td>\n",
       "    </tr>\n",
       "    <tr>\n",
       "      <th>275</th>\n",
       "      <td>Abuzer</td>\n",
       "      <td>@tabureabuzer</td>\n",
       "      <td>2020-11-25</td>\n",
       "      <td>Pek bir istek yok gibi Şampiyonlar Ligi maçlar...</td>\n",
       "      <td>3</td>\n",
       "      <td>NaN</td>\n",
       "      <td>17</td>\n",
       "      <td>Abuzer</td>\n",
       "    </tr>\n",
       "    <tr>\n",
       "      <th>276</th>\n",
       "      <td>Abuzer</td>\n",
       "      <td>@tabureabuzer</td>\n",
       "      <td>2020-11-25</td>\n",
       "      <td>19'da başlayacak maçlar için bekleyenleri göre...</td>\n",
       "      <td>6</td>\n",
       "      <td>3.0</td>\n",
       "      <td>45</td>\n",
       "      <td>Abuzer</td>\n",
       "    </tr>\n",
       "    <tr>\n",
       "      <th>283</th>\n",
       "      <td>Abuzer</td>\n",
       "      <td>@tabureabuzer</td>\n",
       "      <td>2020-11-25</td>\n",
       "      <td>Karagümrük karşısında Esenler Erokspor şov yap...</td>\n",
       "      <td>NaN</td>\n",
       "      <td>NaN</td>\n",
       "      <td>8</td>\n",
       "      <td>Abuzer</td>\n",
       "    </tr>\n",
       "    <tr>\n",
       "      <th>329</th>\n",
       "      <td>Abuzer</td>\n",
       "      <td>@tabureabuzer</td>\n",
       "      <td>2020-11-25</td>\n",
       "      <td>WOOOOOONNN korner de geldi dostlar nasılsınız ...</td>\n",
       "      <td>4</td>\n",
       "      <td>NaN</td>\n",
       "      <td>9</td>\n",
       "      <td>Abuzer</td>\n",
       "    </tr>\n",
       "    <tr>\n",
       "      <th>331</th>\n",
       "      <td>Abuzer</td>\n",
       "      <td>@tabureabuzer</td>\n",
       "      <td>2020-11-25</td>\n",
       "      <td>WOOOOOOOOONNNNN ulan WOOONNN aldık bunu da son...</td>\n",
       "      <td>4</td>\n",
       "      <td>NaN</td>\n",
       "      <td>8</td>\n",
       "      <td>Abuzer</td>\n",
       "    </tr>\n",
       "    <tr>\n",
       "      <th>338</th>\n",
       "      <td>Abuzer</td>\n",
       "      <td>@tabureabuzer</td>\n",
       "      <td>2020-11-25</td>\n",
       "      <td>Perth Glory-Ulsan Hora I\\nCanlı-14,5 Korner Üs...</td>\n",
       "      <td>3</td>\n",
       "      <td>1.0</td>\n",
       "      <td>6</td>\n",
       "      <td>Abuzer</td>\n",
       "    </tr>\n",
       "    <tr>\n",
       "      <th>340</th>\n",
       "      <td>Abuzer</td>\n",
       "      <td>@tabureabuzer</td>\n",
       "      <td>2020-11-25</td>\n",
       "      <td>WOOONNNN analizde yanıldık kornerde yanılmadık...</td>\n",
       "      <td>3</td>\n",
       "      <td>NaN</td>\n",
       "      <td>3</td>\n",
       "      <td>Abuzer</td>\n",
       "    </tr>\n",
       "    <tr>\n",
       "      <th>395</th>\n",
       "      <td>Abuzer</td>\n",
       "      <td>@tabureabuzer</td>\n",
       "      <td>2020-11-25</td>\n",
       "      <td>Perth Glory-Ulsan Hora I\\nCanlı-9,5 Korner Üst...</td>\n",
       "      <td>4</td>\n",
       "      <td>1.0</td>\n",
       "      <td>7</td>\n",
       "      <td>Abuzer</td>\n",
       "    </tr>\n",
       "    <tr>\n",
       "      <th>500</th>\n",
       "      <td>Abuzer</td>\n",
       "      <td>@tabureabuzer</td>\n",
       "      <td>2020-11-25</td>\n",
       "      <td>WOOONNNN korner bahsimiz de geldi iyi gidiyoru...</td>\n",
       "      <td>2</td>\n",
       "      <td>NaN</td>\n",
       "      <td>12</td>\n",
       "      <td>Abuzer</td>\n",
       "    </tr>\n",
       "    <tr>\n",
       "      <th>515</th>\n",
       "      <td>Abuzer</td>\n",
       "      <td>@tabureabuzer</td>\n",
       "      <td>2020-11-25</td>\n",
       "      <td>Süper çok sevindim sizlere müthiş oranlardan y...</td>\n",
       "      <td>1</td>\n",
       "      <td>1.0</td>\n",
       "      <td>5</td>\n",
       "      <td>Abuzer</td>\n",
       "    </tr>\n",
       "    <tr>\n",
       "      <th>517</th>\n",
       "      <td>Abuzer</td>\n",
       "      <td>@tabureabuzer</td>\n",
       "      <td>2020-11-25</td>\n",
       "      <td>WOOOOOOONNNNN günün oranını yakaladık ben 1,9 ...</td>\n",
       "      <td>8</td>\n",
       "      <td>NaN</td>\n",
       "      <td>14</td>\n",
       "      <td>Abuzer</td>\n",
       "    </tr>\n",
       "    <tr>\n",
       "      <th>592</th>\n",
       "      <td>Abuzer</td>\n",
       "      <td>@tabureabuzer</td>\n",
       "      <td>2020-11-25</td>\n",
       "      <td>Beijing Guoan-Melbourne Victory\\nCanlı-Ev 1,5 ...</td>\n",
       "      <td>1</td>\n",
       "      <td>1.0</td>\n",
       "      <td>15</td>\n",
       "      <td>Abuzer</td>\n",
       "    </tr>\n",
       "    <tr>\n",
       "      <th>598</th>\n",
       "      <td>Abuzer</td>\n",
       "      <td>@tabureabuzer</td>\n",
       "      <td>2020-11-25</td>\n",
       "      <td>Tokyo-Shanghai Shenhua\\nCanlı-Dep 0,5 Üst\\nTok...</td>\n",
       "      <td>1</td>\n",
       "      <td>2.0</td>\n",
       "      <td>19</td>\n",
       "      <td>Abuzer</td>\n",
       "    </tr>\n",
       "    <tr>\n",
       "      <th>603</th>\n",
       "      <td>Abuzer</td>\n",
       "      <td>@tabureabuzer</td>\n",
       "      <td>2020-11-25</td>\n",
       "      <td>Şu twiti uçursaydınız 13.00 maçlarını verecekt...</td>\n",
       "      <td>2</td>\n",
       "      <td>NaN</td>\n",
       "      <td>18</td>\n",
       "      <td>Abuzer</td>\n",
       "    </tr>\n",
       "  </tbody>\n",
       "</table>\n",
       "</div>"
      ],
      "text/plain": [
       "       Name           User       Date  \\\n",
       "62   Abuzer  @tabureabuzer 2020-11-25   \n",
       "64   Abuzer  @tabureabuzer 2020-11-25   \n",
       "72   Abuzer  @tabureabuzer 2020-11-25   \n",
       "75   Abuzer  @tabureabuzer 2020-11-25   \n",
       "76   Abuzer  @tabureabuzer 2020-11-25   \n",
       "77   Abuzer  @tabureabuzer 2020-11-25   \n",
       "80   Abuzer  @tabureabuzer 2020-11-25   \n",
       "87   Abuzer  @tabureabuzer 2020-11-25   \n",
       "91   Abuzer  @tabureabuzer 2020-11-25   \n",
       "102  Abuzer  @tabureabuzer 2020-11-25   \n",
       "105  Abuzer  @tabureabuzer 2020-11-25   \n",
       "107  Abuzer  @tabureabuzer 2020-11-25   \n",
       "109  Abuzer  @tabureabuzer 2020-11-25   \n",
       "112  Abuzer  @tabureabuzer 2020-11-25   \n",
       "114  Abuzer  @tabureabuzer 2020-11-25   \n",
       "130  Abuzer  @tabureabuzer 2020-11-25   \n",
       "147  Abuzer  @tabureabuzer 2020-11-25   \n",
       "157  Abuzer  @tabureabuzer 2020-11-25   \n",
       "160  Abuzer  @tabureabuzer 2020-11-25   \n",
       "162  Abuzer  @tabureabuzer 2020-11-25   \n",
       "198  Abuzer  @tabureabuzer 2020-11-25   \n",
       "200  Abuzer  @tabureabuzer 2020-11-25   \n",
       "208  Abuzer  @tabureabuzer 2020-11-25   \n",
       "211  Abuzer  @tabureabuzer 2020-11-25   \n",
       "213  Abuzer  @tabureabuzer 2020-11-25   \n",
       "216  Abuzer  @tabureabuzer 2020-11-25   \n",
       "218  Abuzer  @tabureabuzer 2020-11-25   \n",
       "219  Abuzer  @tabureabuzer 2020-11-25   \n",
       "222  Abuzer  @tabureabuzer 2020-11-25   \n",
       "230  Abuzer  @tabureabuzer 2020-11-25   \n",
       "263  Abuzer  @tabureabuzer 2020-11-25   \n",
       "265  Abuzer  @tabureabuzer 2020-11-25   \n",
       "266  Abuzer  @tabureabuzer 2020-11-25   \n",
       "275  Abuzer  @tabureabuzer 2020-11-25   \n",
       "276  Abuzer  @tabureabuzer 2020-11-25   \n",
       "283  Abuzer  @tabureabuzer 2020-11-25   \n",
       "329  Abuzer  @tabureabuzer 2020-11-25   \n",
       "331  Abuzer  @tabureabuzer 2020-11-25   \n",
       "338  Abuzer  @tabureabuzer 2020-11-25   \n",
       "340  Abuzer  @tabureabuzer 2020-11-25   \n",
       "395  Abuzer  @tabureabuzer 2020-11-25   \n",
       "500  Abuzer  @tabureabuzer 2020-11-25   \n",
       "515  Abuzer  @tabureabuzer 2020-11-25   \n",
       "517  Abuzer  @tabureabuzer 2020-11-25   \n",
       "592  Abuzer  @tabureabuzer 2020-11-25   \n",
       "598  Abuzer  @tabureabuzer 2020-11-25   \n",
       "603  Abuzer  @tabureabuzer 2020-11-25   \n",
       "\n",
       "                                                  Text Comment  Retweet Likes  \\\n",
       "62   Canlıda önereceğim maçlar:\\nDortmund-Club Brug...       3      NaN    13   \n",
       "64   WOONNNNN biraz erken won aldık demin şimdi old...       1      NaN     6   \n",
       "72   Juventus-Ferencvaros\\nCanlı-İY 2,5 Korner Üst\\...       6      1.0     8   \n",
       "75   Vereyim mi bir kombin daha isteyenler \\n çöksü...       3      NaN    44   \n",
       "76   WOOOOOONNNNN daha ilk yarıların ortasına gelme...       4      NaN     7   \n",
       "77   Juve yedi Başakşehir maçına kaldık.\\n#FenerinM...       1      NaN     3   \n",
       "80   Manchester United-Başakşehir\\nCanlı-İY 2,5 Kor...     NaN      NaN     1   \n",
       "87   Manchester United-Başakşehir İY 1,5 Üst\\nJuven...       5      1.0     7   \n",
       "91   Canlılar için hazır mısınız bekleyenler \\n bır...       3      NaN    45   \n",
       "102  Chelsea dostlarımı kanser etti birazcık ama be...       4      NaN    11   \n",
       "105  WON.\\n#FenerinMaçıVar #PesDoğrusu #PL #iddaa #...     NaN      NaN     5   \n",
       "107  Juventus-Ferençvaros\\nMS-Ev 2,5 Üst\\nJuve'de R...     NaN      NaN     6   \n",
       "109  PSG-Leipzig\\nMS-2,5 Üst\\nTuchel topun ağzında ...     NaN      NaN     7   \n",
       "112  Manchester United-Başakşehir\\nMS-3,5 Üst\\nİlk ...     NaN      2.0     9   \n",
       "114  Dortmund-Club Brugge\\nMS-2,5 Üst\\nDortmund ilk...       1      1.0    10   \n",
       "130  WOOOOONNNNN aldık mı korneri yine 12,5 ve 13,5...      10      NaN    12   \n",
       "147  WOOOOONNNN daha ilk yarıdan geldi bahis korner...       5      NaN     8   \n",
       "157  WOOOOOONNNNN güvenin şu reisinize ya bizim 2 b...       3      NaN    15   \n",
       "160  Türkgücü lidere karşı golü buldu bizim de bahs...     NaN      NaN     7   \n",
       "162  Rennes-Chelsea\\nCanlı-Sıradaki Gol Dep\\nChelse...       2      1.0    10   \n",
       "198  Dayanamayıp size baya maç verdim hadi bol şans...     NaN      NaN    16   \n",
       "200  Mannheim-Duisburg\\nMS-2,5 Üst\\nDuisburg çok so...     NaN      1.0     8   \n",
       "208  SV Wehen Wiesbaden-SV Meppen\\nMS-KG Var\\n#Fene...     NaN      NaN     7   \n",
       "211  Krasnodar-Sevilla\\nMS-8,5 Korner Üst\\nİlk maçt...       1      NaN     9   \n",
       "213  Rennes-Chelsea\\nMS-1,5 Üst ve 2\\nChelsea çok f...     NaN      1.0     9   \n",
       "216  Red Star-Avranches\\nMS-1,5 Üst\\n#FenerinMaçıVa...     NaN      NaN    12   \n",
       "218  Jong PSV-Jong Utrecht\\nMS-2,5 Üst\\n#FenerinMaç...     NaN      NaN     8   \n",
       "219  Kapfenberg-Aus Lustenau\\nMS-2,5 Üst\\n#FenerinM...     NaN      NaN    11   \n",
       "222  Şimdi size en az 5 maçlık analiz atıyorum hepi...       1      1.0    23   \n",
       "230  WOOOOOOONNNNN Abuzer'i sıkı takip edin özellik...       1      NaN    12   \n",
       "263  W.Beveren-Oostende\\nMS-2,5 Üst\\n#FenerinMaçıVa...       1      1.0     5   \n",
       "265  L.Zagreb-Hajduk Split\\nMS-1,5 Üst\\n#FenerinMaç...       1      1.0     6   \n",
       "266  Bursaspor-1922 Konya\\nMS-2,5 Üst\\n#FenerinMaçı...       2      NaN     6   \n",
       "275  Pek bir istek yok gibi Şampiyonlar Ligi maçlar...       3      NaN    17   \n",
       "276  19'da başlayacak maçlar için bekleyenleri göre...       6      3.0    45   \n",
       "283  Karagümrük karşısında Esenler Erokspor şov yap...     NaN      NaN     8   \n",
       "329  WOOOOOONNN korner de geldi dostlar nasılsınız ...       4      NaN     9   \n",
       "331  WOOOOOOOOONNNNN ulan WOOONNN aldık bunu da son...       4      NaN     8   \n",
       "338  Perth Glory-Ulsan Hora I\\nCanlı-14,5 Korner Üs...       3      1.0     6   \n",
       "340  WOOONNNN analizde yanıldık kornerde yanılmadık...       3      NaN     3   \n",
       "395  Perth Glory-Ulsan Hora I\\nCanlı-9,5 Korner Üst...       4      1.0     7   \n",
       "500  WOOONNNN korner bahsimiz de geldi iyi gidiyoru...       2      NaN    12   \n",
       "515  Süper çok sevindim sizlere müthiş oranlardan y...       1      1.0     5   \n",
       "517  WOOOOOOONNNNN günün oranını yakaladık ben 1,9 ...       8      NaN    14   \n",
       "592  Beijing Guoan-Melbourne Victory\\nCanlı-Ev 1,5 ...       1      1.0    15   \n",
       "598  Tokyo-Shanghai Shenhua\\nCanlı-Dep 0,5 Üst\\nTok...       1      2.0    19   \n",
       "603  Şu twiti uçursaydınız 13.00 maçlarını verecekt...       2      NaN    18   \n",
       "\n",
       "       Desc  \n",
       "62   Abuzer  \n",
       "64   Abuzer  \n",
       "72   Abuzer  \n",
       "75   Abuzer  \n",
       "76   Abuzer  \n",
       "77   Abuzer  \n",
       "80   Abuzer  \n",
       "87   Abuzer  \n",
       "91   Abuzer  \n",
       "102  Abuzer  \n",
       "105  Abuzer  \n",
       "107  Abuzer  \n",
       "109  Abuzer  \n",
       "112  Abuzer  \n",
       "114  Abuzer  \n",
       "130  Abuzer  \n",
       "147  Abuzer  \n",
       "157  Abuzer  \n",
       "160  Abuzer  \n",
       "162  Abuzer  \n",
       "198  Abuzer  \n",
       "200  Abuzer  \n",
       "208  Abuzer  \n",
       "211  Abuzer  \n",
       "213  Abuzer  \n",
       "216  Abuzer  \n",
       "218  Abuzer  \n",
       "219  Abuzer  \n",
       "222  Abuzer  \n",
       "230  Abuzer  \n",
       "263  Abuzer  \n",
       "265  Abuzer  \n",
       "266  Abuzer  \n",
       "275  Abuzer  \n",
       "276  Abuzer  \n",
       "283  Abuzer  \n",
       "329  Abuzer  \n",
       "331  Abuzer  \n",
       "338  Abuzer  \n",
       "340  Abuzer  \n",
       "395  Abuzer  \n",
       "500  Abuzer  \n",
       "515  Abuzer  \n",
       "517  Abuzer  \n",
       "592  Abuzer  \n",
       "598  Abuzer  \n",
       "603  Abuzer  "
      ]
     },
     "execution_count": 32,
     "metadata": {},
     "output_type": "execute_result"
    }
   ],
   "source": [
    "df1[df1.User == \"@tabureabuzer\"]"
   ]
  },
  {
   "cell_type": "code",
   "execution_count": 33,
   "metadata": {},
   "outputs": [],
   "source": [
    "# Removed the break lines in the tweets \n",
    "df1.Text = df1.Text.apply(lambda x: x.replace(\"\\n\", \" \"))\n",
    "#Create a new column with all the Hashtags used \n",
    "df1[\"Hashtags\"] = df1.Text.apply(lambda x: ' '.join((re.findall(r'\\B#\\w*[a-zA-Z]+\\w*', x))))\n",
    "#Create a new column without the Hashtags \n",
    "df1[\"Clean\"] = df1.Text.apply(lambda x: re.sub(r'\\B#\\w*[a-zA-Z]+\\w*',\" \", x, flags=re.MULTILINE))\n",
    "df = df1.copy()"
   ]
  },
  {
   "cell_type": "code",
   "execution_count": 34,
   "metadata": {},
   "outputs": [
    {
     "data": {
      "text/html": [
       "<div>\n",
       "<style scoped>\n",
       "    .dataframe tbody tr th:only-of-type {\n",
       "        vertical-align: middle;\n",
       "    }\n",
       "\n",
       "    .dataframe tbody tr th {\n",
       "        vertical-align: top;\n",
       "    }\n",
       "\n",
       "    .dataframe thead th {\n",
       "        text-align: right;\n",
       "    }\n",
       "</style>\n",
       "<table border=\"1\" class=\"dataframe\">\n",
       "  <thead>\n",
       "    <tr style=\"text-align: right;\">\n",
       "      <th></th>\n",
       "      <th>Name</th>\n",
       "      <th>User</th>\n",
       "      <th>Date</th>\n",
       "      <th>Text</th>\n",
       "      <th>Comment</th>\n",
       "      <th>Retweet</th>\n",
       "      <th>Likes</th>\n",
       "      <th>Desc</th>\n",
       "      <th>Hashtags</th>\n",
       "      <th>Clean</th>\n",
       "    </tr>\n",
       "  </thead>\n",
       "  <tbody>\n",
       "    <tr>\n",
       "      <th>0</th>\n",
       "      <td>Man Utd Corner</td>\n",
       "      <td>@manutdcorner7</td>\n",
       "      <td>2020-11-25</td>\n",
       "      <td>Manchester United have won 8 out of 10 games w...</td>\n",
       "      <td>NaN</td>\n",
       "      <td>NaN</td>\n",
       "      <td>NaN</td>\n",
       "      <td>Man Utd Corner</td>\n",
       "      <td>#MUFC #ManchesterUnited #UCL #PremierLeague #Fred</td>\n",
       "      <td>Manchester United have won 8 out of 10 games w...</td>\n",
       "    </tr>\n",
       "    <tr>\n",
       "      <th>1</th>\n",
       "      <td>Mads WIlliam Pagh Thomasen</td>\n",
       "      <td>@m2masen</td>\n",
       "      <td>2020-11-25</td>\n",
       "      <td>Man Sheiky got battered the other day, lets ba...</td>\n",
       "      <td>NaN</td>\n",
       "      <td>NaN</td>\n",
       "      <td>NaN</td>\n",
       "      <td>Mads WIlliam Pagh Thomasen</td>\n",
       "      <td>#COYS #PremierLeague</td>\n",
       "      <td>Man Sheiky got battered the other day, lets ba...</td>\n",
       "    </tr>\n",
       "    <tr>\n",
       "      <th>3</th>\n",
       "      <td>Billy Wood</td>\n",
       "      <td>@billywood__</td>\n",
       "      <td>2020-11-25</td>\n",
       "      <td>Andy Cole surely has to be the most underrated...</td>\n",
       "      <td>2</td>\n",
       "      <td>NaN</td>\n",
       "      <td>5</td>\n",
       "      <td>Billy Wood</td>\n",
       "      <td>#PremierLeague #PL</td>\n",
       "      <td>Andy Cole surely has to be the most underrated...</td>\n",
       "    </tr>\n",
       "    <tr>\n",
       "      <th>5</th>\n",
       "      <td>Akinola Ayodele (ofr)</td>\n",
       "      <td>@awhy03</td>\n",
       "      <td>2020-11-25</td>\n",
       "      <td>En respuesta a  @goal</td>\n",
       "      <td>NaN</td>\n",
       "      <td>NaN</td>\n",
       "      <td>NaN</td>\n",
       "      <td>Akinola Ayodele (ofr)</td>\n",
       "      <td></td>\n",
       "      <td>En respuesta a  @goal</td>\n",
       "    </tr>\n",
       "    <tr>\n",
       "      <th>7</th>\n",
       "      <td>Li Monika</td>\n",
       "      <td>@1xb_chinese</td>\n",
       "      <td>2020-11-25</td>\n",
       "      <td>“圣徒”南安普敦周一在英超客场以1比1战平“狼队”伍尔弗汉普敦，沃尔科特时隔14年再为旧东家...</td>\n",
       "      <td>NaN</td>\n",
       "      <td>NaN</td>\n",
       "      <td>NaN</td>\n",
       "      <td>Li Monika</td>\n",
       "      <td>#1xmalaysia #football #malaysia #PremierLeague</td>\n",
       "      <td>“圣徒”南安普敦周一在英超客场以1比1战平“狼队”伍尔弗汉普敦，沃尔科特时隔14年再为旧东家...</td>\n",
       "    </tr>\n",
       "    <tr>\n",
       "      <th>...</th>\n",
       "      <td>...</td>\n",
       "      <td>...</td>\n",
       "      <td>...</td>\n",
       "      <td>...</td>\n",
       "      <td>...</td>\n",
       "      <td>...</td>\n",
       "      <td>...</td>\n",
       "      <td>...</td>\n",
       "      <td>...</td>\n",
       "      <td>...</td>\n",
       "    </tr>\n",
       "    <tr>\n",
       "      <th>5132</th>\n",
       "      <td>Adam Bateman</td>\n",
       "      <td>@boxybate</td>\n",
       "      <td>2020-11-21</td>\n",
       "      <td>Pep still a better manager than Ole yeah???  S...</td>\n",
       "      <td>3</td>\n",
       "      <td>NaN</td>\n",
       "      <td>4</td>\n",
       "      <td>Adam Bateman</td>\n",
       "      <td>#MindTheGap #ManchesterIsRed #PremierLeague</td>\n",
       "      <td>Pep still a better manager than Ole yeah???  S...</td>\n",
       "    </tr>\n",
       "    <tr>\n",
       "      <th>5133</th>\n",
       "      <td>Ekemini Daniel</td>\n",
       "      <td>@dee_kemus</td>\n",
       "      <td>2020-11-21</td>\n",
       "      <td>3 points in the bag, but na like this we wan t...</td>\n",
       "      <td>1</td>\n",
       "      <td>NaN</td>\n",
       "      <td>2</td>\n",
       "      <td>Ekemini Daniel</td>\n",
       "      <td>#MUNWBA #PremierLeague</td>\n",
       "      <td>3 points in the bag, but na like this we wan t...</td>\n",
       "    </tr>\n",
       "    <tr>\n",
       "      <th>5134</th>\n",
       "      <td>Man Utd Corner</td>\n",
       "      <td>@manutdcorner7</td>\n",
       "      <td>2020-11-21</td>\n",
       "      <td>The title charge is on  #MUFC #ManUtd #Manches...</td>\n",
       "      <td>NaN</td>\n",
       "      <td>NaN</td>\n",
       "      <td>3</td>\n",
       "      <td>Man Utd Corner</td>\n",
       "      <td>#MUFC #ManUtd #ManchesterUnited #PremierLeague</td>\n",
       "      <td>The title charge is on</td>\n",
       "    </tr>\n",
       "    <tr>\n",
       "      <th>5135</th>\n",
       "      <td>Mats FC</td>\n",
       "      <td>@matsmufc</td>\n",
       "      <td>2020-11-21</td>\n",
       "      <td>No events in the first half? I have never seen...</td>\n",
       "      <td>NaN</td>\n",
       "      <td>NaN</td>\n",
       "      <td>NaN</td>\n",
       "      <td>Mats FC</td>\n",
       "      <td>#FlashScore #manutd #mufc #MUNWBA #PremierLeague</td>\n",
       "      <td>No events in the first half? I have never seen...</td>\n",
       "    </tr>\n",
       "    <tr>\n",
       "      <th>5136</th>\n",
       "      <td>RationalRed</td>\n",
       "      <td>@red_rational</td>\n",
       "      <td>2020-11-21</td>\n",
       "      <td>I quite like the idea of VAR. I dont think it ...</td>\n",
       "      <td>NaN</td>\n",
       "      <td>NaN</td>\n",
       "      <td>3</td>\n",
       "      <td>RationalRed</td>\n",
       "      <td>#var #MUFC #PremierLeague</td>\n",
       "      <td>I quite like the idea of VAR. I dont think it ...</td>\n",
       "    </tr>\n",
       "  </tbody>\n",
       "</table>\n",
       "<p>3935 rows × 10 columns</p>\n",
       "</div>"
      ],
      "text/plain": [
       "                            Name            User       Date  \\\n",
       "0                 Man Utd Corner  @manutdcorner7 2020-11-25   \n",
       "1     Mads WIlliam Pagh Thomasen        @m2masen 2020-11-25   \n",
       "3                     Billy Wood    @billywood__ 2020-11-25   \n",
       "5          Akinola Ayodele (ofr)         @awhy03 2020-11-25   \n",
       "7                      Li Monika    @1xb_chinese 2020-11-25   \n",
       "...                          ...             ...        ...   \n",
       "5132                Adam Bateman       @boxybate 2020-11-21   \n",
       "5133              Ekemini Daniel      @dee_kemus 2020-11-21   \n",
       "5134              Man Utd Corner  @manutdcorner7 2020-11-21   \n",
       "5135                     Mats FC       @matsmufc 2020-11-21   \n",
       "5136                 RationalRed   @red_rational 2020-11-21   \n",
       "\n",
       "                                                   Text Comment  Retweet  \\\n",
       "0     Manchester United have won 8 out of 10 games w...     NaN      NaN   \n",
       "1     Man Sheiky got battered the other day, lets ba...     NaN      NaN   \n",
       "3     Andy Cole surely has to be the most underrated...       2      NaN   \n",
       "5                                 En respuesta a  @goal     NaN      NaN   \n",
       "7     “圣徒”南安普敦周一在英超客场以1比1战平“狼队”伍尔弗汉普敦，沃尔科特时隔14年再为旧东家...     NaN      NaN   \n",
       "...                                                 ...     ...      ...   \n",
       "5132  Pep still a better manager than Ole yeah???  S...       3      NaN   \n",
       "5133  3 points in the bag, but na like this we wan t...       1      NaN   \n",
       "5134  The title charge is on  #MUFC #ManUtd #Manches...     NaN      NaN   \n",
       "5135  No events in the first half? I have never seen...     NaN      NaN   \n",
       "5136  I quite like the idea of VAR. I dont think it ...     NaN      NaN   \n",
       "\n",
       "     Likes                        Desc  \\\n",
       "0      NaN              Man Utd Corner   \n",
       "1      NaN  Mads WIlliam Pagh Thomasen   \n",
       "3        5                  Billy Wood   \n",
       "5      NaN       Akinola Ayodele (ofr)   \n",
       "7      NaN                   Li Monika   \n",
       "...    ...                         ...   \n",
       "5132     4                Adam Bateman   \n",
       "5133     2              Ekemini Daniel   \n",
       "5134     3              Man Utd Corner   \n",
       "5135   NaN                     Mats FC   \n",
       "5136     3                 RationalRed   \n",
       "\n",
       "                                               Hashtags  \\\n",
       "0     #MUFC #ManchesterUnited #UCL #PremierLeague #Fred   \n",
       "1                                  #COYS #PremierLeague   \n",
       "3                                    #PremierLeague #PL   \n",
       "5                                                         \n",
       "7        #1xmalaysia #football #malaysia #PremierLeague   \n",
       "...                                                 ...   \n",
       "5132        #MindTheGap #ManchesterIsRed #PremierLeague   \n",
       "5133                             #MUNWBA #PremierLeague   \n",
       "5134     #MUFC #ManUtd #ManchesterUnited #PremierLeague   \n",
       "5135   #FlashScore #manutd #mufc #MUNWBA #PremierLeague   \n",
       "5136                          #var #MUFC #PremierLeague   \n",
       "\n",
       "                                                  Clean  \n",
       "0     Manchester United have won 8 out of 10 games w...  \n",
       "1     Man Sheiky got battered the other day, lets ba...  \n",
       "3     Andy Cole surely has to be the most underrated...  \n",
       "5                                 En respuesta a  @goal  \n",
       "7     “圣徒”南安普敦周一在英超客场以1比1战平“狼队”伍尔弗汉普敦，沃尔科特时隔14年再为旧东家...  \n",
       "...                                                 ...  \n",
       "5132  Pep still a better manager than Ole yeah???  S...  \n",
       "5133  3 points in the bag, but na like this we wan t...  \n",
       "5134                    The title charge is on           \n",
       "5135  No events in the first half? I have never seen...  \n",
       "5136  I quite like the idea of VAR. I dont think it ...  \n",
       "\n",
       "[3935 rows x 10 columns]"
      ]
     },
     "execution_count": 34,
     "metadata": {},
     "output_type": "execute_result"
    }
   ],
   "source": [
    "df"
   ]
  },
  {
   "cell_type": "code",
   "execution_count": 35,
   "metadata": {},
   "outputs": [],
   "source": [
    "#Created a new column with the language\n",
    "df['language'] = df['Clean'].apply(language_detection)\n"
   ]
  },
  {
   "cell_type": "code",
   "execution_count": 36,
   "metadata": {},
   "outputs": [
    {
     "data": {
      "text/plain": [
       "en    0.552482\n",
       "es    0.195708\n",
       "fr    0.056101\n",
       "pt    0.025078\n",
       "tr    0.021200\n",
       "it    0.019907\n",
       "de    0.016805\n",
       "id    0.014736\n",
       "nl    0.013961\n",
       "pl    0.013702\n",
       "Name: language, dtype: float64"
      ]
     },
     "execution_count": 36,
     "metadata": {},
     "output_type": "execute_result"
    }
   ],
   "source": [
    "# Visualizated types of language\n",
    "df.language.value_counts(normalize=True).head(10).sort_values(ascending = False)"
   ]
  },
  {
   "cell_type": "code",
   "execution_count": 37,
   "metadata": {},
   "outputs": [
    {
     "data": {
      "image/png": "[encoded data removed]",
      "text/plain": [
       "<Figure size 648x360 with 1 Axes>"
      ]
     },
     "metadata": {},
     "output_type": "display_data"
    }
   ],
   "source": [
    "# visualizing the comments' languages b) neat and clean\n",
    "ax = df.language.value_counts().head(5).plot(kind='barh', figsize=(9,5), color=\"steelblue\", \n",
    "                                             fontsize=12);\n",
    "\n",
    "ax.set_title(\"\\nWhat are the most frequent languages comments are written in #PremierLeague?\\n\", \n",
    "             fontsize=12, fontweight='bold')\n",
    "ax.set_xlabel(\" Total Number of Comments\", fontsize=10)\n",
    "ax.set_yticklabels(['English', 'Spanish', 'French', 'Turkish', 'Italian'])\n",
    "\n",
    "# create a list to collect the plt.patches data\n",
    "totals = []\n",
    "\n",
    "# find the ind. values and append to list\n",
    "for i in ax.patches:\n",
    "    totals.append(i.get_width())\n",
    "# get total\n",
    "total = df.language.value_counts().sum()\n",
    "\n",
    "# set individual bar labels using above list\n",
    "for i in ax.patches:\n",
    "    ax.text(x=i.get_width(), y=i.get_y()+.35, \n",
    "            s=str(round((i.get_width()/total)*100, 2))+'%', \n",
    "            fontsize=10, color='black')\n",
    "\n",
    "# invert for largest on top \n",
    "ax.invert_yaxis()\n",
    "ax.figure.savefig(\"../Fig/freq-lang_#PremierLeague.png\")"
   ]
  },
  {
   "cell_type": "code",
   "execution_count": 38,
   "metadata": {},
   "outputs": [],
   "source": [
    "df = df.reset_index(drop=True)"
   ]
  },
  {
   "cell_type": "code",
   "execution_count": 39,
   "metadata": {
    "scrolled": false
   },
   "outputs": [],
   "source": [
    "df_eng = df[(df['language']=='en')]\n",
    "df_de  = df[(df['language']=='de')]\n",
    "df_fr  = df[(df['language']=='fr')]"
   ]
  },
  {
   "cell_type": "markdown",
   "metadata": {},
   "source": [
    "## VADER"
   ]
  },
  {
   "cell_type": "code",
   "execution_count": 40,
   "metadata": {},
   "outputs": [
    {
     "data": {
      "text/html": [
       "<div>\n",
       "<style scoped>\n",
       "    .dataframe tbody tr th:only-of-type {\n",
       "        vertical-align: middle;\n",
       "    }\n",
       "\n",
       "    .dataframe tbody tr th {\n",
       "        vertical-align: top;\n",
       "    }\n",
       "\n",
       "    .dataframe thead th {\n",
       "        text-align: right;\n",
       "    }\n",
       "</style>\n",
       "<table border=\"1\" class=\"dataframe\">\n",
       "  <thead>\n",
       "    <tr style=\"text-align: right;\">\n",
       "      <th></th>\n",
       "      <th>Name</th>\n",
       "      <th>User</th>\n",
       "      <th>Date</th>\n",
       "      <th>Text</th>\n",
       "      <th>Comment</th>\n",
       "      <th>Retweet</th>\n",
       "      <th>Likes</th>\n",
       "      <th>Desc</th>\n",
       "      <th>Hashtags</th>\n",
       "      <th>Clean</th>\n",
       "      <th>language</th>\n",
       "    </tr>\n",
       "  </thead>\n",
       "  <tbody>\n",
       "    <tr>\n",
       "      <th>0</th>\n",
       "      <td>Man Utd Corner</td>\n",
       "      <td>@manutdcorner7</td>\n",
       "      <td>2020-11-25</td>\n",
       "      <td>Manchester United have won 8 out of 10 games w...</td>\n",
       "      <td>NaN</td>\n",
       "      <td>NaN</td>\n",
       "      <td>NaN</td>\n",
       "      <td>Man Utd Corner</td>\n",
       "      <td>#MUFC #ManchesterUnited #UCL #PremierLeague #Fred</td>\n",
       "      <td>Manchester United have won 8 out of 10 games w...</td>\n",
       "      <td>en</td>\n",
       "    </tr>\n",
       "    <tr>\n",
       "      <th>1</th>\n",
       "      <td>Mads WIlliam Pagh Thomasen</td>\n",
       "      <td>@m2masen</td>\n",
       "      <td>2020-11-25</td>\n",
       "      <td>Man Sheiky got battered the other day, lets ba...</td>\n",
       "      <td>NaN</td>\n",
       "      <td>NaN</td>\n",
       "      <td>NaN</td>\n",
       "      <td>Mads WIlliam Pagh Thomasen</td>\n",
       "      <td>#COYS #PremierLeague</td>\n",
       "      <td>Man Sheiky got battered the other day, lets ba...</td>\n",
       "      <td>en</td>\n",
       "    </tr>\n",
       "    <tr>\n",
       "      <th>2</th>\n",
       "      <td>Billy Wood</td>\n",
       "      <td>@billywood__</td>\n",
       "      <td>2020-11-25</td>\n",
       "      <td>Andy Cole surely has to be the most underrated...</td>\n",
       "      <td>2</td>\n",
       "      <td>NaN</td>\n",
       "      <td>5</td>\n",
       "      <td>Billy Wood</td>\n",
       "      <td>#PremierLeague #PL</td>\n",
       "      <td>Andy Cole surely has to be the most underrated...</td>\n",
       "      <td>en</td>\n",
       "    </tr>\n",
       "    <tr>\n",
       "      <th>3</th>\n",
       "      <td>Inplay Challenges</td>\n",
       "      <td>@bash_the_bookie</td>\n",
       "      <td>2020-11-25</td>\n",
       "      <td>Yet to try out WilliamHill?  They will credit ...</td>\n",
       "      <td>NaN</td>\n",
       "      <td>NaN</td>\n",
       "      <td>NaN</td>\n",
       "      <td>Inplay Challenges</td>\n",
       "      <td>#Ad #HorseRacing #Football #PremierLeague</td>\n",
       "      <td>Yet to try out WilliamHill?  They will credit ...</td>\n",
       "      <td>en</td>\n",
       "    </tr>\n",
       "    <tr>\n",
       "      <th>4</th>\n",
       "      <td>The VAR Show</td>\n",
       "      <td>@thevarshow1</td>\n",
       "      <td>2020-11-25</td>\n",
       "      <td>Amazing talk with :  @neiljonesgoal   To Watch...</td>\n",
       "      <td>NaN</td>\n",
       "      <td>NaN</td>\n",
       "      <td>NaN</td>\n",
       "      <td>The VAR Show</td>\n",
       "      <td>#Liverpool #LiverpoolAtalanta #Goal #Klopp #Ne...</td>\n",
       "      <td>Amazing talk with :  @neiljonesgoal   To Watch...</td>\n",
       "      <td>en</td>\n",
       "    </tr>\n",
       "    <tr>\n",
       "      <th>...</th>\n",
       "      <td>...</td>\n",
       "      <td>...</td>\n",
       "      <td>...</td>\n",
       "      <td>...</td>\n",
       "      <td>...</td>\n",
       "      <td>...</td>\n",
       "      <td>...</td>\n",
       "      <td>...</td>\n",
       "      <td>...</td>\n",
       "      <td>...</td>\n",
       "      <td>...</td>\n",
       "    </tr>\n",
       "    <tr>\n",
       "      <th>2132</th>\n",
       "      <td>Adam Bateman</td>\n",
       "      <td>@boxybate</td>\n",
       "      <td>2020-11-21</td>\n",
       "      <td>Pep still a better manager than Ole yeah???  S...</td>\n",
       "      <td>3</td>\n",
       "      <td>NaN</td>\n",
       "      <td>4</td>\n",
       "      <td>Adam Bateman</td>\n",
       "      <td>#MindTheGap #ManchesterIsRed #PremierLeague</td>\n",
       "      <td>Pep still a better manager than Ole yeah???  S...</td>\n",
       "      <td>en</td>\n",
       "    </tr>\n",
       "    <tr>\n",
       "      <th>2133</th>\n",
       "      <td>Ekemini Daniel</td>\n",
       "      <td>@dee_kemus</td>\n",
       "      <td>2020-11-21</td>\n",
       "      <td>3 points in the bag, but na like this we wan t...</td>\n",
       "      <td>1</td>\n",
       "      <td>NaN</td>\n",
       "      <td>2</td>\n",
       "      <td>Ekemini Daniel</td>\n",
       "      <td>#MUNWBA #PremierLeague</td>\n",
       "      <td>3 points in the bag, but na like this we wan t...</td>\n",
       "      <td>en</td>\n",
       "    </tr>\n",
       "    <tr>\n",
       "      <th>2134</th>\n",
       "      <td>Man Utd Corner</td>\n",
       "      <td>@manutdcorner7</td>\n",
       "      <td>2020-11-21</td>\n",
       "      <td>The title charge is on  #MUFC #ManUtd #Manches...</td>\n",
       "      <td>NaN</td>\n",
       "      <td>NaN</td>\n",
       "      <td>3</td>\n",
       "      <td>Man Utd Corner</td>\n",
       "      <td>#MUFC #ManUtd #ManchesterUnited #PremierLeague</td>\n",
       "      <td>The title charge is on</td>\n",
       "      <td>en</td>\n",
       "    </tr>\n",
       "    <tr>\n",
       "      <th>2135</th>\n",
       "      <td>Mats FC</td>\n",
       "      <td>@matsmufc</td>\n",
       "      <td>2020-11-21</td>\n",
       "      <td>No events in the first half? I have never seen...</td>\n",
       "      <td>NaN</td>\n",
       "      <td>NaN</td>\n",
       "      <td>NaN</td>\n",
       "      <td>Mats FC</td>\n",
       "      <td>#FlashScore #manutd #mufc #MUNWBA #PremierLeague</td>\n",
       "      <td>No events in the first half? I have never seen...</td>\n",
       "      <td>en</td>\n",
       "    </tr>\n",
       "    <tr>\n",
       "      <th>2136</th>\n",
       "      <td>RationalRed</td>\n",
       "      <td>@red_rational</td>\n",
       "      <td>2020-11-21</td>\n",
       "      <td>I quite like the idea of VAR. I dont think it ...</td>\n",
       "      <td>NaN</td>\n",
       "      <td>NaN</td>\n",
       "      <td>3</td>\n",
       "      <td>RationalRed</td>\n",
       "      <td>#var #MUFC #PremierLeague</td>\n",
       "      <td>I quite like the idea of VAR. I dont think it ...</td>\n",
       "      <td>en</td>\n",
       "    </tr>\n",
       "  </tbody>\n",
       "</table>\n",
       "<p>2137 rows × 11 columns</p>\n",
       "</div>"
      ],
      "text/plain": [
       "                            Name              User       Date  \\\n",
       "0                 Man Utd Corner    @manutdcorner7 2020-11-25   \n",
       "1     Mads WIlliam Pagh Thomasen          @m2masen 2020-11-25   \n",
       "2                     Billy Wood      @billywood__ 2020-11-25   \n",
       "3              Inplay Challenges  @bash_the_bookie 2020-11-25   \n",
       "4                   The VAR Show      @thevarshow1 2020-11-25   \n",
       "...                          ...               ...        ...   \n",
       "2132                Adam Bateman         @boxybate 2020-11-21   \n",
       "2133              Ekemini Daniel        @dee_kemus 2020-11-21   \n",
       "2134              Man Utd Corner    @manutdcorner7 2020-11-21   \n",
       "2135                     Mats FC         @matsmufc 2020-11-21   \n",
       "2136                 RationalRed     @red_rational 2020-11-21   \n",
       "\n",
       "                                                   Text Comment  Retweet  \\\n",
       "0     Manchester United have won 8 out of 10 games w...     NaN      NaN   \n",
       "1     Man Sheiky got battered the other day, lets ba...     NaN      NaN   \n",
       "2     Andy Cole surely has to be the most underrated...       2      NaN   \n",
       "3     Yet to try out WilliamHill?  They will credit ...     NaN      NaN   \n",
       "4     Amazing talk with :  @neiljonesgoal   To Watch...     NaN      NaN   \n",
       "...                                                 ...     ...      ...   \n",
       "2132  Pep still a better manager than Ole yeah???  S...       3      NaN   \n",
       "2133  3 points in the bag, but na like this we wan t...       1      NaN   \n",
       "2134  The title charge is on  #MUFC #ManUtd #Manches...     NaN      NaN   \n",
       "2135  No events in the first half? I have never seen...     NaN      NaN   \n",
       "2136  I quite like the idea of VAR. I dont think it ...     NaN      NaN   \n",
       "\n",
       "     Likes                        Desc  \\\n",
       "0      NaN              Man Utd Corner   \n",
       "1      NaN  Mads WIlliam Pagh Thomasen   \n",
       "2        5                  Billy Wood   \n",
       "3      NaN           Inplay Challenges   \n",
       "4      NaN                The VAR Show   \n",
       "...    ...                         ...   \n",
       "2132     4                Adam Bateman   \n",
       "2133     2              Ekemini Daniel   \n",
       "2134     3              Man Utd Corner   \n",
       "2135   NaN                     Mats FC   \n",
       "2136     3                 RationalRed   \n",
       "\n",
       "                                               Hashtags  \\\n",
       "0     #MUFC #ManchesterUnited #UCL #PremierLeague #Fred   \n",
       "1                                  #COYS #PremierLeague   \n",
       "2                                    #PremierLeague #PL   \n",
       "3             #Ad #HorseRacing #Football #PremierLeague   \n",
       "4     #Liverpool #LiverpoolAtalanta #Goal #Klopp #Ne...   \n",
       "...                                                 ...   \n",
       "2132        #MindTheGap #ManchesterIsRed #PremierLeague   \n",
       "2133                             #MUNWBA #PremierLeague   \n",
       "2134     #MUFC #ManUtd #ManchesterUnited #PremierLeague   \n",
       "2135   #FlashScore #manutd #mufc #MUNWBA #PremierLeague   \n",
       "2136                          #var #MUFC #PremierLeague   \n",
       "\n",
       "                                                  Clean language  \n",
       "0     Manchester United have won 8 out of 10 games w...       en  \n",
       "1     Man Sheiky got battered the other day, lets ba...       en  \n",
       "2     Andy Cole surely has to be the most underrated...       en  \n",
       "3     Yet to try out WilliamHill?  They will credit ...       en  \n",
       "4     Amazing talk with :  @neiljonesgoal   To Watch...       en  \n",
       "...                                                 ...      ...  \n",
       "2132  Pep still a better manager than Ole yeah???  S...       en  \n",
       "2133  3 points in the bag, but na like this we wan t...       en  \n",
       "2134                    The title charge is on                en  \n",
       "2135  No events in the first half? I have never seen...       en  \n",
       "2136  I quite like the idea of VAR. I dont think it ...       en  \n",
       "\n",
       "[2137 rows x 11 columns]"
      ]
     },
     "execution_count": 40,
     "metadata": {},
     "output_type": "execute_result"
    }
   ],
   "source": [
    "df_eng.reset_index(drop=True)"
   ]
  },
  {
   "cell_type": "code",
   "execution_count": 41,
   "metadata": {},
   "outputs": [
    {
     "name": "stdout",
     "output_type": "stream",
     "text": [
      "Wall time: 1.35 s\n"
     ]
    }
   ],
   "source": [
    "%%time\n",
    "\n",
    "df_eng['sentiment_neg'] = df_eng['Clean'].apply(negative_score)\n",
    "df_eng['sentiment_neu'] = df_eng['Clean'].apply(neutral_score)\n",
    "df_eng['sentiment_pos'] = df_eng['Clean'].apply(positive_score)\n",
    "df_eng['sentiment_compound'] = df_eng['Clean'].apply(compound_score)"
   ]
  },
  {
   "cell_type": "code",
   "execution_count": 42,
   "metadata": {},
   "outputs": [
    {
     "data": {
      "text/html": [
       "<div>\n",
       "<style scoped>\n",
       "    .dataframe tbody tr th:only-of-type {\n",
       "        vertical-align: middle;\n",
       "    }\n",
       "\n",
       "    .dataframe tbody tr th {\n",
       "        vertical-align: top;\n",
       "    }\n",
       "\n",
       "    .dataframe thead th {\n",
       "        text-align: right;\n",
       "    }\n",
       "</style>\n",
       "<table border=\"1\" class=\"dataframe\">\n",
       "  <thead>\n",
       "    <tr style=\"text-align: right;\">\n",
       "      <th></th>\n",
       "      <th>Name</th>\n",
       "      <th>User</th>\n",
       "      <th>Date</th>\n",
       "      <th>Text</th>\n",
       "      <th>Comment</th>\n",
       "      <th>Retweet</th>\n",
       "      <th>Likes</th>\n",
       "      <th>Desc</th>\n",
       "      <th>Hashtags</th>\n",
       "      <th>Clean</th>\n",
       "      <th>language</th>\n",
       "      <th>sentiment_neg</th>\n",
       "      <th>sentiment_neu</th>\n",
       "      <th>sentiment_pos</th>\n",
       "      <th>sentiment_compound</th>\n",
       "    </tr>\n",
       "  </thead>\n",
       "  <tbody>\n",
       "    <tr>\n",
       "      <th>0</th>\n",
       "      <td>Man Utd Corner</td>\n",
       "      <td>@manutdcorner7</td>\n",
       "      <td>2020-11-25</td>\n",
       "      <td>Manchester United have won 8 out of 10 games w...</td>\n",
       "      <td>NaN</td>\n",
       "      <td>NaN</td>\n",
       "      <td>NaN</td>\n",
       "      <td>Man Utd Corner</td>\n",
       "      <td>#MUFC #ManchesterUnited #UCL #PremierLeague #Fred</td>\n",
       "      <td>Manchester United have won 8 out of 10 games w...</td>\n",
       "      <td>en</td>\n",
       "      <td>0.000</td>\n",
       "      <td>0.667</td>\n",
       "      <td>0.333</td>\n",
       "      <td>0.7579</td>\n",
       "    </tr>\n",
       "    <tr>\n",
       "      <th>1</th>\n",
       "      <td>Mads WIlliam Pagh Thomasen</td>\n",
       "      <td>@m2masen</td>\n",
       "      <td>2020-11-25</td>\n",
       "      <td>Man Sheiky got battered the other day, lets ba...</td>\n",
       "      <td>NaN</td>\n",
       "      <td>NaN</td>\n",
       "      <td>NaN</td>\n",
       "      <td>Mads WIlliam Pagh Thomasen</td>\n",
       "      <td>#COYS #PremierLeague</td>\n",
       "      <td>Man Sheiky got battered the other day, lets ba...</td>\n",
       "      <td>en</td>\n",
       "      <td>0.000</td>\n",
       "      <td>1.000</td>\n",
       "      <td>0.000</td>\n",
       "      <td>0.0000</td>\n",
       "    </tr>\n",
       "    <tr>\n",
       "      <th>2</th>\n",
       "      <td>Billy Wood</td>\n",
       "      <td>@billywood__</td>\n",
       "      <td>2020-11-25</td>\n",
       "      <td>Andy Cole surely has to be the most underrated...</td>\n",
       "      <td>2</td>\n",
       "      <td>NaN</td>\n",
       "      <td>5</td>\n",
       "      <td>Billy Wood</td>\n",
       "      <td>#PremierLeague #PL</td>\n",
       "      <td>Andy Cole surely has to be the most underrated...</td>\n",
       "      <td>en</td>\n",
       "      <td>0.000</td>\n",
       "      <td>0.894</td>\n",
       "      <td>0.106</td>\n",
       "      <td>0.6114</td>\n",
       "    </tr>\n",
       "    <tr>\n",
       "      <th>5</th>\n",
       "      <td>Inplay Challenges</td>\n",
       "      <td>@bash_the_bookie</td>\n",
       "      <td>2020-11-25</td>\n",
       "      <td>Yet to try out WilliamHill?  They will credit ...</td>\n",
       "      <td>NaN</td>\n",
       "      <td>NaN</td>\n",
       "      <td>NaN</td>\n",
       "      <td>Inplay Challenges</td>\n",
       "      <td>#Ad #HorseRacing #Football #PremierLeague</td>\n",
       "      <td>Yet to try out WilliamHill?  They will credit ...</td>\n",
       "      <td>en</td>\n",
       "      <td>0.000</td>\n",
       "      <td>0.751</td>\n",
       "      <td>0.249</td>\n",
       "      <td>0.8986</td>\n",
       "    </tr>\n",
       "    <tr>\n",
       "      <th>6</th>\n",
       "      <td>The VAR Show</td>\n",
       "      <td>@thevarshow1</td>\n",
       "      <td>2020-11-25</td>\n",
       "      <td>Amazing talk with :  @neiljonesgoal   To Watch...</td>\n",
       "      <td>NaN</td>\n",
       "      <td>NaN</td>\n",
       "      <td>NaN</td>\n",
       "      <td>The VAR Show</td>\n",
       "      <td>#Liverpool #LiverpoolAtalanta #Goal #Klopp #Ne...</td>\n",
       "      <td>Amazing talk with :  @neiljonesgoal   To Watch...</td>\n",
       "      <td>en</td>\n",
       "      <td>0.000</td>\n",
       "      <td>0.798</td>\n",
       "      <td>0.202</td>\n",
       "      <td>0.5859</td>\n",
       "    </tr>\n",
       "    <tr>\n",
       "      <th>...</th>\n",
       "      <td>...</td>\n",
       "      <td>...</td>\n",
       "      <td>...</td>\n",
       "      <td>...</td>\n",
       "      <td>...</td>\n",
       "      <td>...</td>\n",
       "      <td>...</td>\n",
       "      <td>...</td>\n",
       "      <td>...</td>\n",
       "      <td>...</td>\n",
       "      <td>...</td>\n",
       "      <td>...</td>\n",
       "      <td>...</td>\n",
       "      <td>...</td>\n",
       "      <td>...</td>\n",
       "    </tr>\n",
       "    <tr>\n",
       "      <th>3930</th>\n",
       "      <td>Adam Bateman</td>\n",
       "      <td>@boxybate</td>\n",
       "      <td>2020-11-21</td>\n",
       "      <td>Pep still a better manager than Ole yeah???  S...</td>\n",
       "      <td>3</td>\n",
       "      <td>NaN</td>\n",
       "      <td>4</td>\n",
       "      <td>Adam Bateman</td>\n",
       "      <td>#MindTheGap #ManchesterIsRed #PremierLeague</td>\n",
       "      <td>Pep still a better manager than Ole yeah???  S...</td>\n",
       "      <td>en</td>\n",
       "      <td>0.046</td>\n",
       "      <td>0.564</td>\n",
       "      <td>0.390</td>\n",
       "      <td>0.8677</td>\n",
       "    </tr>\n",
       "    <tr>\n",
       "      <th>3931</th>\n",
       "      <td>Ekemini Daniel</td>\n",
       "      <td>@dee_kemus</td>\n",
       "      <td>2020-11-21</td>\n",
       "      <td>3 points in the bag, but na like this we wan t...</td>\n",
       "      <td>1</td>\n",
       "      <td>NaN</td>\n",
       "      <td>2</td>\n",
       "      <td>Ekemini Daniel</td>\n",
       "      <td>#MUNWBA #PremierLeague</td>\n",
       "      <td>3 points in the bag, but na like this we wan t...</td>\n",
       "      <td>en</td>\n",
       "      <td>0.000</td>\n",
       "      <td>0.812</td>\n",
       "      <td>0.188</td>\n",
       "      <td>0.5023</td>\n",
       "    </tr>\n",
       "    <tr>\n",
       "      <th>3932</th>\n",
       "      <td>Man Utd Corner</td>\n",
       "      <td>@manutdcorner7</td>\n",
       "      <td>2020-11-21</td>\n",
       "      <td>The title charge is on  #MUFC #ManUtd #Manches...</td>\n",
       "      <td>NaN</td>\n",
       "      <td>NaN</td>\n",
       "      <td>3</td>\n",
       "      <td>Man Utd Corner</td>\n",
       "      <td>#MUFC #ManUtd #ManchesterUnited #PremierLeague</td>\n",
       "      <td>The title charge is on</td>\n",
       "      <td>en</td>\n",
       "      <td>0.000</td>\n",
       "      <td>1.000</td>\n",
       "      <td>0.000</td>\n",
       "      <td>0.0000</td>\n",
       "    </tr>\n",
       "    <tr>\n",
       "      <th>3933</th>\n",
       "      <td>Mats FC</td>\n",
       "      <td>@matsmufc</td>\n",
       "      <td>2020-11-21</td>\n",
       "      <td>No events in the first half? I have never seen...</td>\n",
       "      <td>NaN</td>\n",
       "      <td>NaN</td>\n",
       "      <td>NaN</td>\n",
       "      <td>Mats FC</td>\n",
       "      <td>#FlashScore #manutd #mufc #MUNWBA #PremierLeague</td>\n",
       "      <td>No events in the first half? I have never seen...</td>\n",
       "      <td>en</td>\n",
       "      <td>0.282</td>\n",
       "      <td>0.718</td>\n",
       "      <td>0.000</td>\n",
       "      <td>-0.5122</td>\n",
       "    </tr>\n",
       "    <tr>\n",
       "      <th>3934</th>\n",
       "      <td>RationalRed</td>\n",
       "      <td>@red_rational</td>\n",
       "      <td>2020-11-21</td>\n",
       "      <td>I quite like the idea of VAR. I dont think it ...</td>\n",
       "      <td>NaN</td>\n",
       "      <td>NaN</td>\n",
       "      <td>3</td>\n",
       "      <td>RationalRed</td>\n",
       "      <td>#var #MUFC #PremierLeague</td>\n",
       "      <td>I quite like the idea of VAR. I dont think it ...</td>\n",
       "      <td>en</td>\n",
       "      <td>0.230</td>\n",
       "      <td>0.650</td>\n",
       "      <td>0.120</td>\n",
       "      <td>-0.8374</td>\n",
       "    </tr>\n",
       "  </tbody>\n",
       "</table>\n",
       "<p>2137 rows × 15 columns</p>\n",
       "</div>"
      ],
      "text/plain": [
       "                            Name              User       Date  \\\n",
       "0                 Man Utd Corner    @manutdcorner7 2020-11-25   \n",
       "1     Mads WIlliam Pagh Thomasen          @m2masen 2020-11-25   \n",
       "2                     Billy Wood      @billywood__ 2020-11-25   \n",
       "5              Inplay Challenges  @bash_the_bookie 2020-11-25   \n",
       "6                   The VAR Show      @thevarshow1 2020-11-25   \n",
       "...                          ...               ...        ...   \n",
       "3930                Adam Bateman         @boxybate 2020-11-21   \n",
       "3931              Ekemini Daniel        @dee_kemus 2020-11-21   \n",
       "3932              Man Utd Corner    @manutdcorner7 2020-11-21   \n",
       "3933                     Mats FC         @matsmufc 2020-11-21   \n",
       "3934                 RationalRed     @red_rational 2020-11-21   \n",
       "\n",
       "                                                   Text Comment  Retweet  \\\n",
       "0     Manchester United have won 8 out of 10 games w...     NaN      NaN   \n",
       "1     Man Sheiky got battered the other day, lets ba...     NaN      NaN   \n",
       "2     Andy Cole surely has to be the most underrated...       2      NaN   \n",
       "5     Yet to try out WilliamHill?  They will credit ...     NaN      NaN   \n",
       "6     Amazing talk with :  @neiljonesgoal   To Watch...     NaN      NaN   \n",
       "...                                                 ...     ...      ...   \n",
       "3930  Pep still a better manager than Ole yeah???  S...       3      NaN   \n",
       "3931  3 points in the bag, but na like this we wan t...       1      NaN   \n",
       "3932  The title charge is on  #MUFC #ManUtd #Manches...     NaN      NaN   \n",
       "3933  No events in the first half? I have never seen...     NaN      NaN   \n",
       "3934  I quite like the idea of VAR. I dont think it ...     NaN      NaN   \n",
       "\n",
       "     Likes                        Desc  \\\n",
       "0      NaN              Man Utd Corner   \n",
       "1      NaN  Mads WIlliam Pagh Thomasen   \n",
       "2        5                  Billy Wood   \n",
       "5      NaN           Inplay Challenges   \n",
       "6      NaN                The VAR Show   \n",
       "...    ...                         ...   \n",
       "3930     4                Adam Bateman   \n",
       "3931     2              Ekemini Daniel   \n",
       "3932     3              Man Utd Corner   \n",
       "3933   NaN                     Mats FC   \n",
       "3934     3                 RationalRed   \n",
       "\n",
       "                                               Hashtags  \\\n",
       "0     #MUFC #ManchesterUnited #UCL #PremierLeague #Fred   \n",
       "1                                  #COYS #PremierLeague   \n",
       "2                                    #PremierLeague #PL   \n",
       "5             #Ad #HorseRacing #Football #PremierLeague   \n",
       "6     #Liverpool #LiverpoolAtalanta #Goal #Klopp #Ne...   \n",
       "...                                                 ...   \n",
       "3930        #MindTheGap #ManchesterIsRed #PremierLeague   \n",
       "3931                             #MUNWBA #PremierLeague   \n",
       "3932     #MUFC #ManUtd #ManchesterUnited #PremierLeague   \n",
       "3933   #FlashScore #manutd #mufc #MUNWBA #PremierLeague   \n",
       "3934                          #var #MUFC #PremierLeague   \n",
       "\n",
       "                                                  Clean language  \\\n",
       "0     Manchester United have won 8 out of 10 games w...       en   \n",
       "1     Man Sheiky got battered the other day, lets ba...       en   \n",
       "2     Andy Cole surely has to be the most underrated...       en   \n",
       "5     Yet to try out WilliamHill?  They will credit ...       en   \n",
       "6     Amazing talk with :  @neiljonesgoal   To Watch...       en   \n",
       "...                                                 ...      ...   \n",
       "3930  Pep still a better manager than Ole yeah???  S...       en   \n",
       "3931  3 points in the bag, but na like this we wan t...       en   \n",
       "3932                    The title charge is on                en   \n",
       "3933  No events in the first half? I have never seen...       en   \n",
       "3934  I quite like the idea of VAR. I dont think it ...       en   \n",
       "\n",
       "      sentiment_neg  sentiment_neu  sentiment_pos  sentiment_compound  \n",
       "0             0.000          0.667          0.333              0.7579  \n",
       "1             0.000          1.000          0.000              0.0000  \n",
       "2             0.000          0.894          0.106              0.6114  \n",
       "5             0.000          0.751          0.249              0.8986  \n",
       "6             0.000          0.798          0.202              0.5859  \n",
       "...             ...            ...            ...                 ...  \n",
       "3930          0.046          0.564          0.390              0.8677  \n",
       "3931          0.000          0.812          0.188              0.5023  \n",
       "3932          0.000          1.000          0.000              0.0000  \n",
       "3933          0.282          0.718          0.000             -0.5122  \n",
       "3934          0.230          0.650          0.120             -0.8374  \n",
       "\n",
       "[2137 rows x 15 columns]"
      ]
     },
     "execution_count": 42,
     "metadata": {},
     "output_type": "execute_result"
    }
   ],
   "source": [
    "df_eng"
   ]
  },
  {
   "cell_type": "code",
   "execution_count": 43,
   "metadata": {},
   "outputs": [
    {
     "data": {
      "text/html": [
       "<div>\n",
       "<style scoped>\n",
       "    .dataframe tbody tr th:only-of-type {\n",
       "        vertical-align: middle;\n",
       "    }\n",
       "\n",
       "    .dataframe tbody tr th {\n",
       "        vertical-align: top;\n",
       "    }\n",
       "\n",
       "    .dataframe thead th {\n",
       "        text-align: right;\n",
       "    }\n",
       "</style>\n",
       "<table border=\"1\" class=\"dataframe\">\n",
       "  <thead>\n",
       "    <tr style=\"text-align: right;\">\n",
       "      <th></th>\n",
       "      <th>Name</th>\n",
       "      <th>User</th>\n",
       "      <th>Date</th>\n",
       "      <th>Text</th>\n",
       "      <th>Comment</th>\n",
       "      <th>Retweet</th>\n",
       "      <th>Likes</th>\n",
       "      <th>Desc</th>\n",
       "      <th>Hashtags</th>\n",
       "      <th>Clean</th>\n",
       "      <th>language</th>\n",
       "      <th>sentiment_neg</th>\n",
       "      <th>sentiment_neu</th>\n",
       "      <th>sentiment_pos</th>\n",
       "      <th>sentiment_compound</th>\n",
       "    </tr>\n",
       "  </thead>\n",
       "  <tbody>\n",
       "    <tr>\n",
       "      <th>1</th>\n",
       "      <td>Mads WIlliam Pagh Thomasen</td>\n",
       "      <td>@m2masen</td>\n",
       "      <td>2020-11-25</td>\n",
       "      <td>Man Sheiky got battered the other day, lets ba...</td>\n",
       "      <td>NaN</td>\n",
       "      <td>NaN</td>\n",
       "      <td>NaN</td>\n",
       "      <td>Mads WIlliam Pagh Thomasen</td>\n",
       "      <td>#COYS #PremierLeague</td>\n",
       "      <td>Man Sheiky got battered the other day, lets ba...</td>\n",
       "      <td>en</td>\n",
       "      <td>0.0</td>\n",
       "      <td>1.0</td>\n",
       "      <td>0.0</td>\n",
       "      <td>0.0</td>\n",
       "    </tr>\n",
       "    <tr>\n",
       "      <th>10</th>\n",
       "      <td>Across the Pond Restaurant &amp; Pub</td>\n",
       "      <td>@acrosstheponddc</td>\n",
       "      <td>2020-11-25</td>\n",
       "      <td>Hear about new specials, upcoming sporting eve...</td>\n",
       "      <td>NaN</td>\n",
       "      <td>NaN</td>\n",
       "      <td>NaN</td>\n",
       "      <td>Across the Pond Restaurant &amp; Pub</td>\n",
       "      <td>#irishpub #rugby #washingtondc #dupontcircle #...</td>\n",
       "      <td>Hear about new specials, upcoming sporting eve...</td>\n",
       "      <td>en</td>\n",
       "      <td>0.0</td>\n",
       "      <td>1.0</td>\n",
       "      <td>0.0</td>\n",
       "      <td>0.0</td>\n",
       "    </tr>\n",
       "    <tr>\n",
       "      <th>13</th>\n",
       "      <td>IMVP</td>\n",
       "      <td>@inmyviewpodcast</td>\n",
       "      <td>2020-11-25</td>\n",
       "      <td>Listen to the most recent episode of my podcas...</td>\n",
       "      <td>NaN</td>\n",
       "      <td>4.0</td>\n",
       "      <td>4</td>\n",
       "      <td>IMVP</td>\n",
       "      <td>#PLfans #ManchesterUnited #PremierLeague #bbcf...</td>\n",
       "      <td>Listen to the most recent episode of my podcas...</td>\n",
       "      <td>en</td>\n",
       "      <td>0.0</td>\n",
       "      <td>1.0</td>\n",
       "      <td>0.0</td>\n",
       "      <td>0.0</td>\n",
       "    </tr>\n",
       "    <tr>\n",
       "      <th>21</th>\n",
       "      <td>The North End Pod Cast</td>\n",
       "      <td>@thenorthendpod1</td>\n",
       "      <td>2020-11-25</td>\n",
       "      <td>NEW EPISODE!  This week we get cozy with  @CPF...</td>\n",
       "      <td>NaN</td>\n",
       "      <td>1.0</td>\n",
       "      <td>1</td>\n",
       "      <td>The North End Pod Cast</td>\n",
       "      <td>#PremierLeague #cpfc</td>\n",
       "      <td>NEW EPISODE!  This week we get cozy with  @CPF...</td>\n",
       "      <td>en</td>\n",
       "      <td>0.0</td>\n",
       "      <td>1.0</td>\n",
       "      <td>0.0</td>\n",
       "      <td>0.0</td>\n",
       "    </tr>\n",
       "    <tr>\n",
       "      <th>28</th>\n",
       "      <td>graham coleman</td>\n",
       "      <td>@grahamcoleman09</td>\n",
       "      <td>2020-11-25</td>\n",
       "      <td>#PremierLeague #PremierLeagueiscorrupt #PL2 #t...</td>\n",
       "      <td>NaN</td>\n",
       "      <td>1.0</td>\n",
       "      <td>5</td>\n",
       "      <td>graham coleman</td>\n",
       "      <td>#PremierLeague #PremierLeagueiscorrupt #PL2 #t...</td>\n",
       "      <td>Bet you they are both saying : Wh...</td>\n",
       "      <td>en</td>\n",
       "      <td>0.0</td>\n",
       "      <td>1.0</td>\n",
       "      <td>0.0</td>\n",
       "      <td>0.0</td>\n",
       "    </tr>\n",
       "    <tr>\n",
       "      <th>...</th>\n",
       "      <td>...</td>\n",
       "      <td>...</td>\n",
       "      <td>...</td>\n",
       "      <td>...</td>\n",
       "      <td>...</td>\n",
       "      <td>...</td>\n",
       "      <td>...</td>\n",
       "      <td>...</td>\n",
       "      <td>...</td>\n",
       "      <td>...</td>\n",
       "      <td>...</td>\n",
       "      <td>...</td>\n",
       "      <td>...</td>\n",
       "      <td>...</td>\n",
       "      <td>...</td>\n",
       "    </tr>\n",
       "    <tr>\n",
       "      <th>3914</th>\n",
       "      <td>Omi Sido</td>\n",
       "      <td>@omisido</td>\n",
       "      <td>2020-11-21</td>\n",
       "      <td>From Mourinho to Ole. This is the biggest down...</td>\n",
       "      <td>2</td>\n",
       "      <td>NaN</td>\n",
       "      <td>1</td>\n",
       "      <td>Omi Sido</td>\n",
       "      <td>#MUFC #PremierLeague #MUNWBA #PL</td>\n",
       "      <td>From Mourinho to Ole. This is the biggest down...</td>\n",
       "      <td>en</td>\n",
       "      <td>0.0</td>\n",
       "      <td>1.0</td>\n",
       "      <td>0.0</td>\n",
       "      <td>0.0</td>\n",
       "    </tr>\n",
       "    <tr>\n",
       "      <th>3919</th>\n",
       "      <td>Sanket Uikey</td>\n",
       "      <td>@sanketuikey</td>\n",
       "      <td>2020-11-21</td>\n",
       "      <td>How many times are we gonna use 'Bruno's - Get...</td>\n",
       "      <td>NaN</td>\n",
       "      <td>NaN</td>\n",
       "      <td>NaN</td>\n",
       "      <td>Sanket Uikey</td>\n",
       "      <td>#MUNWBA #PremierLeague</td>\n",
       "      <td>How many times are we gonna use 'Bruno's - Get...</td>\n",
       "      <td>en</td>\n",
       "      <td>0.0</td>\n",
       "      <td>1.0</td>\n",
       "      <td>0.0</td>\n",
       "      <td>0.0</td>\n",
       "    </tr>\n",
       "    <tr>\n",
       "      <th>3923</th>\n",
       "      <td>Omi Sido</td>\n",
       "      <td>@omisido</td>\n",
       "      <td>2020-11-21</td>\n",
       "      <td>VAR OVERTURNS: DECISIONS FOR  Man Utd 5 Bright...</td>\n",
       "      <td>1</td>\n",
       "      <td>NaN</td>\n",
       "      <td>2</td>\n",
       "      <td>Omi Sido</td>\n",
       "      <td>#MUFC #PremierLeague #MUNWBA #PL</td>\n",
       "      <td>VAR OVERTURNS: DECISIONS FOR  Man Utd 5 Bright...</td>\n",
       "      <td>en</td>\n",
       "      <td>0.0</td>\n",
       "      <td>1.0</td>\n",
       "      <td>0.0</td>\n",
       "      <td>0.0</td>\n",
       "    </tr>\n",
       "    <tr>\n",
       "      <th>3926</th>\n",
       "      <td>Jamie White</td>\n",
       "      <td>@jswhite12</td>\n",
       "      <td>2020-11-21</td>\n",
       "      <td>David Coote should never ref another premier l...</td>\n",
       "      <td>NaN</td>\n",
       "      <td>NaN</td>\n",
       "      <td>NaN</td>\n",
       "      <td>Jamie White</td>\n",
       "      <td>#PremierLeague #United #ManUvsWestBrom #Refere...</td>\n",
       "      <td>David Coote should never ref another premier l...</td>\n",
       "      <td>en</td>\n",
       "      <td>0.0</td>\n",
       "      <td>1.0</td>\n",
       "      <td>0.0</td>\n",
       "      <td>0.0</td>\n",
       "    </tr>\n",
       "    <tr>\n",
       "      <th>3932</th>\n",
       "      <td>Man Utd Corner</td>\n",
       "      <td>@manutdcorner7</td>\n",
       "      <td>2020-11-21</td>\n",
       "      <td>The title charge is on  #MUFC #ManUtd #Manches...</td>\n",
       "      <td>NaN</td>\n",
       "      <td>NaN</td>\n",
       "      <td>3</td>\n",
       "      <td>Man Utd Corner</td>\n",
       "      <td>#MUFC #ManUtd #ManchesterUnited #PremierLeague</td>\n",
       "      <td>The title charge is on</td>\n",
       "      <td>en</td>\n",
       "      <td>0.0</td>\n",
       "      <td>1.0</td>\n",
       "      <td>0.0</td>\n",
       "      <td>0.0</td>\n",
       "    </tr>\n",
       "  </tbody>\n",
       "</table>\n",
       "<p>725 rows × 15 columns</p>\n",
       "</div>"
      ],
      "text/plain": [
       "                                  Name              User       Date  \\\n",
       "1           Mads WIlliam Pagh Thomasen          @m2masen 2020-11-25   \n",
       "10    Across the Pond Restaurant & Pub  @acrosstheponddc 2020-11-25   \n",
       "13                                IMVP  @inmyviewpodcast 2020-11-25   \n",
       "21              The North End Pod Cast  @thenorthendpod1 2020-11-25   \n",
       "28                      graham coleman  @grahamcoleman09 2020-11-25   \n",
       "...                                ...               ...        ...   \n",
       "3914                          Omi Sido          @omisido 2020-11-21   \n",
       "3919                      Sanket Uikey      @sanketuikey 2020-11-21   \n",
       "3923                          Omi Sido          @omisido 2020-11-21   \n",
       "3926                       Jamie White        @jswhite12 2020-11-21   \n",
       "3932                    Man Utd Corner    @manutdcorner7 2020-11-21   \n",
       "\n",
       "                                                   Text Comment  Retweet  \\\n",
       "1     Man Sheiky got battered the other day, lets ba...     NaN      NaN   \n",
       "10    Hear about new specials, upcoming sporting eve...     NaN      NaN   \n",
       "13    Listen to the most recent episode of my podcas...     NaN      4.0   \n",
       "21    NEW EPISODE!  This week we get cozy with  @CPF...     NaN      1.0   \n",
       "28    #PremierLeague #PremierLeagueiscorrupt #PL2 #t...     NaN      1.0   \n",
       "...                                                 ...     ...      ...   \n",
       "3914  From Mourinho to Ole. This is the biggest down...       2      NaN   \n",
       "3919  How many times are we gonna use 'Bruno's - Get...     NaN      NaN   \n",
       "3923  VAR OVERTURNS: DECISIONS FOR  Man Utd 5 Bright...       1      NaN   \n",
       "3926  David Coote should never ref another premier l...     NaN      NaN   \n",
       "3932  The title charge is on  #MUFC #ManUtd #Manches...     NaN      NaN   \n",
       "\n",
       "     Likes                              Desc  \\\n",
       "1      NaN        Mads WIlliam Pagh Thomasen   \n",
       "10     NaN  Across the Pond Restaurant & Pub   \n",
       "13       4                              IMVP   \n",
       "21       1            The North End Pod Cast   \n",
       "28       5                    graham coleman   \n",
       "...    ...                               ...   \n",
       "3914     1                          Omi Sido   \n",
       "3919   NaN                      Sanket Uikey   \n",
       "3923     2                          Omi Sido   \n",
       "3926   NaN                       Jamie White   \n",
       "3932     3                    Man Utd Corner   \n",
       "\n",
       "                                               Hashtags  \\\n",
       "1                                  #COYS #PremierLeague   \n",
       "10    #irishpub #rugby #washingtondc #dupontcircle #...   \n",
       "13    #PLfans #ManchesterUnited #PremierLeague #bbcf...   \n",
       "21                                 #PremierLeague #cpfc   \n",
       "28    #PremierLeague #PremierLeagueiscorrupt #PL2 #t...   \n",
       "...                                                 ...   \n",
       "3914                   #MUFC #PremierLeague #MUNWBA #PL   \n",
       "3919                             #MUNWBA #PremierLeague   \n",
       "3923                   #MUFC #PremierLeague #MUNWBA #PL   \n",
       "3926  #PremierLeague #United #ManUvsWestBrom #Refere...   \n",
       "3932     #MUFC #ManUtd #ManchesterUnited #PremierLeague   \n",
       "\n",
       "                                                  Clean language  \\\n",
       "1     Man Sheiky got battered the other day, lets ba...       en   \n",
       "10    Hear about new specials, upcoming sporting eve...       en   \n",
       "13    Listen to the most recent episode of my podcas...       en   \n",
       "21    NEW EPISODE!  This week we get cozy with  @CPF...       en   \n",
       "28                 Bet you they are both saying : Wh...       en   \n",
       "...                                                 ...      ...   \n",
       "3914  From Mourinho to Ole. This is the biggest down...       en   \n",
       "3919  How many times are we gonna use 'Bruno's - Get...       en   \n",
       "3923  VAR OVERTURNS: DECISIONS FOR  Man Utd 5 Bright...       en   \n",
       "3926  David Coote should never ref another premier l...       en   \n",
       "3932                    The title charge is on                en   \n",
       "\n",
       "      sentiment_neg  sentiment_neu  sentiment_pos  sentiment_compound  \n",
       "1               0.0            1.0            0.0                 0.0  \n",
       "10              0.0            1.0            0.0                 0.0  \n",
       "13              0.0            1.0            0.0                 0.0  \n",
       "21              0.0            1.0            0.0                 0.0  \n",
       "28              0.0            1.0            0.0                 0.0  \n",
       "...             ...            ...            ...                 ...  \n",
       "3914            0.0            1.0            0.0                 0.0  \n",
       "3919            0.0            1.0            0.0                 0.0  \n",
       "3923            0.0            1.0            0.0                 0.0  \n",
       "3926            0.0            1.0            0.0                 0.0  \n",
       "3932            0.0            1.0            0.0                 0.0  \n",
       "\n",
       "[725 rows x 15 columns]"
      ]
     },
     "execution_count": 43,
     "metadata": {},
     "output_type": "execute_result"
    }
   ],
   "source": [
    "df_eng[df_eng.sentiment_neu == 1]"
   ]
  },
  {
   "cell_type": "code",
   "execution_count": 44,
   "metadata": {},
   "outputs": [],
   "source": [
    "a = df_eng[['User','sentiment_compound']].groupby('User').agg(['count','mean'])\n",
    "a = a.sentiment_compound.reset_index()\n",
    "a = a.copy()\n",
    "a.columns = \"User\" , \"Count\", \"sentiment_compound\""
   ]
  },
  {
   "cell_type": "code",
   "execution_count": 45,
   "metadata": {},
   "outputs": [
    {
     "data": {
      "text/html": [
       "<div>\n",
       "<style scoped>\n",
       "    .dataframe tbody tr th:only-of-type {\n",
       "        vertical-align: middle;\n",
       "    }\n",
       "\n",
       "    .dataframe tbody tr th {\n",
       "        vertical-align: top;\n",
       "    }\n",
       "\n",
       "    .dataframe thead th {\n",
       "        text-align: right;\n",
       "    }\n",
       "</style>\n",
       "<table border=\"1\" class=\"dataframe\">\n",
       "  <thead>\n",
       "    <tr style=\"text-align: right;\">\n",
       "      <th></th>\n",
       "      <th>User</th>\n",
       "      <th>Count</th>\n",
       "      <th>sentiment_compound</th>\n",
       "    </tr>\n",
       "  </thead>\n",
       "  <tbody>\n",
       "    <tr>\n",
       "      <th>3</th>\n",
       "      <td>@109oratile</td>\n",
       "      <td>1</td>\n",
       "      <td>0.0</td>\n",
       "    </tr>\n",
       "    <tr>\n",
       "      <th>942</th>\n",
       "      <td>@obsessedhashtag</td>\n",
       "      <td>1</td>\n",
       "      <td>0.0</td>\n",
       "    </tr>\n",
       "    <tr>\n",
       "      <th>939</th>\n",
       "      <td>@nutmegiwobi</td>\n",
       "      <td>1</td>\n",
       "      <td>0.0</td>\n",
       "    </tr>\n",
       "    <tr>\n",
       "      <th>937</th>\n",
       "      <td>@nova88official</td>\n",
       "      <td>1</td>\n",
       "      <td>0.0</td>\n",
       "    </tr>\n",
       "    <tr>\n",
       "      <th>926</th>\n",
       "      <td>@nicky_johnny</td>\n",
       "      <td>1</td>\n",
       "      <td>0.0</td>\n",
       "    </tr>\n",
       "    <tr>\n",
       "      <th>...</th>\n",
       "      <td>...</td>\n",
       "      <td>...</td>\n",
       "      <td>...</td>\n",
       "    </tr>\n",
       "    <tr>\n",
       "      <th>764</th>\n",
       "      <td>@lebensgeister13</td>\n",
       "      <td>4</td>\n",
       "      <td>0.0</td>\n",
       "    </tr>\n",
       "    <tr>\n",
       "      <th>138</th>\n",
       "      <td>@ariaristimuno</td>\n",
       "      <td>4</td>\n",
       "      <td>0.0</td>\n",
       "    </tr>\n",
       "    <tr>\n",
       "      <th>751</th>\n",
       "      <td>@laguiapambolera</td>\n",
       "      <td>5</td>\n",
       "      <td>0.0</td>\n",
       "    </tr>\n",
       "    <tr>\n",
       "      <th>343</th>\n",
       "      <td>@cybermc11</td>\n",
       "      <td>5</td>\n",
       "      <td>0.0</td>\n",
       "    </tr>\n",
       "    <tr>\n",
       "      <th>81</th>\n",
       "      <td>@afs11v11</td>\n",
       "      <td>6</td>\n",
       "      <td>0.0</td>\n",
       "    </tr>\n",
       "  </tbody>\n",
       "</table>\n",
       "<p>423 rows × 3 columns</p>\n",
       "</div>"
      ],
      "text/plain": [
       "                 User  Count  sentiment_compound\n",
       "3         @109oratile      1                 0.0\n",
       "942  @obsessedhashtag      1                 0.0\n",
       "939      @nutmegiwobi      1                 0.0\n",
       "937   @nova88official      1                 0.0\n",
       "926     @nicky_johnny      1                 0.0\n",
       "..                ...    ...                 ...\n",
       "764  @lebensgeister13      4                 0.0\n",
       "138    @ariaristimuno      4                 0.0\n",
       "751  @laguiapambolera      5                 0.0\n",
       "343        @cybermc11      5                 0.0\n",
       "81          @afs11v11      6                 0.0\n",
       "\n",
       "[423 rows x 3 columns]"
      ]
     },
     "execution_count": 45,
     "metadata": {},
     "output_type": "execute_result"
    }
   ],
   "source": [
    "a[a.sentiment_compound == 0].sort_values(by=\"Count\")"
   ]
  },
  {
   "cell_type": "code",
   "execution_count": 46,
   "metadata": {},
   "outputs": [
    {
     "data": {
      "image/png": "[encoded data removed]",
      "text/plain": [
       "<Figure size 720x576 with 4 Axes>"
      ]
     },
     "metadata": {},
     "output_type": "display_data"
    }
   ],
   "source": [
    "# all scores in 4 histograms\n",
    "fig, axes = plt.subplots(2, 2, figsize=(10,8))\n",
    "\n",
    "# plot all 4 histograms\n",
    "df_eng.hist('sentiment_neg', bins=25, ax=axes[0,0], color='lightcoral', alpha=0.6)\n",
    "axes[0,0].set_title('Negative Sentiment Score')\n",
    "\n",
    "df_eng.hist('sentiment_neu', bins=25, ax=axes[0,1], color='lightsteelblue', alpha=0.6)\n",
    "axes[0,1].set_title('Neutral Sentiment Score')\n",
    "\n",
    "df_eng.hist('sentiment_pos', bins=25, ax=axes[1,0], color='chartreuse', alpha=0.6)\n",
    "axes[1,0].set_title('Positive Sentiment Score')\n",
    "\n",
    "df_eng.hist('sentiment_compound', bins=25, ax=axes[1,1], color='navajowhite', alpha=0.6)\n",
    "axes[1,1].set_title('Compound')\n",
    "\n",
    "# plot common x- and y-label\n",
    "fig.text(0.5, 0.04, 'Sentiment Scores',  fontweight='bold', ha='center')\n",
    "fig.text(0.04, 0.5, 'Number of Reviews', fontweight='bold', va='center', rotation='vertical')\n",
    "\n",
    "# plot title\n",
    "plt.suptitle('Sentiment Analysis of PremierLeague Hashtag\\n\\n', fontsize=12, fontweight='bold');"
   ]
  },
  {
   "cell_type": "code",
   "execution_count": 47,
   "metadata": {},
   "outputs": [],
   "source": [
    "# Categorized the compound\n",
    "df_eng['comp_cat'] = df_eng['sentiment_compound'].apply(lambda c: 'pos' if c >=0.5 else ('neg' if c <=-0.5  else 'neu'))\n"
   ]
  },
  {
   "cell_type": "code",
   "execution_count": 48,
   "metadata": {
    "scrolled": false
   },
   "outputs": [
    {
     "data": {
      "text/html": [
       "<div>\n",
       "<style scoped>\n",
       "    .dataframe tbody tr th:only-of-type {\n",
       "        vertical-align: middle;\n",
       "    }\n",
       "\n",
       "    .dataframe tbody tr th {\n",
       "        vertical-align: top;\n",
       "    }\n",
       "\n",
       "    .dataframe thead th {\n",
       "        text-align: right;\n",
       "    }\n",
       "</style>\n",
       "<table border=\"1\" class=\"dataframe\">\n",
       "  <thead>\n",
       "    <tr style=\"text-align: right;\">\n",
       "      <th></th>\n",
       "      <th>Name</th>\n",
       "      <th>User</th>\n",
       "      <th>Date</th>\n",
       "      <th>Text</th>\n",
       "      <th>Comment</th>\n",
       "      <th>Retweet</th>\n",
       "      <th>Likes</th>\n",
       "      <th>Desc</th>\n",
       "      <th>Hashtags</th>\n",
       "      <th>Clean</th>\n",
       "      <th>language</th>\n",
       "      <th>sentiment_neg</th>\n",
       "      <th>sentiment_neu</th>\n",
       "      <th>sentiment_pos</th>\n",
       "      <th>sentiment_compound</th>\n",
       "      <th>comp_cat</th>\n",
       "    </tr>\n",
       "  </thead>\n",
       "  <tbody>\n",
       "    <tr>\n",
       "      <th>0</th>\n",
       "      <td>Man Utd Corner</td>\n",
       "      <td>@manutdcorner7</td>\n",
       "      <td>2020-11-25</td>\n",
       "      <td>Manchester United have won 8 out of 10 games w...</td>\n",
       "      <td>NaN</td>\n",
       "      <td>NaN</td>\n",
       "      <td>NaN</td>\n",
       "      <td>Man Utd Corner</td>\n",
       "      <td>#MUFC #ManchesterUnited #UCL #PremierLeague #Fred</td>\n",
       "      <td>Manchester United have won 8 out of 10 games w...</td>\n",
       "      <td>en</td>\n",
       "      <td>0.000</td>\n",
       "      <td>0.667</td>\n",
       "      <td>0.333</td>\n",
       "      <td>0.7579</td>\n",
       "      <td>pos</td>\n",
       "    </tr>\n",
       "    <tr>\n",
       "      <th>1</th>\n",
       "      <td>Mads WIlliam Pagh Thomasen</td>\n",
       "      <td>@m2masen</td>\n",
       "      <td>2020-11-25</td>\n",
       "      <td>Man Sheiky got battered the other day, lets ba...</td>\n",
       "      <td>NaN</td>\n",
       "      <td>NaN</td>\n",
       "      <td>NaN</td>\n",
       "      <td>Mads WIlliam Pagh Thomasen</td>\n",
       "      <td>#COYS #PremierLeague</td>\n",
       "      <td>Man Sheiky got battered the other day, lets ba...</td>\n",
       "      <td>en</td>\n",
       "      <td>0.000</td>\n",
       "      <td>1.000</td>\n",
       "      <td>0.000</td>\n",
       "      <td>0.0000</td>\n",
       "      <td>neu</td>\n",
       "    </tr>\n",
       "    <tr>\n",
       "      <th>2</th>\n",
       "      <td>Billy Wood</td>\n",
       "      <td>@billywood__</td>\n",
       "      <td>2020-11-25</td>\n",
       "      <td>Andy Cole surely has to be the most underrated...</td>\n",
       "      <td>2</td>\n",
       "      <td>NaN</td>\n",
       "      <td>5</td>\n",
       "      <td>Billy Wood</td>\n",
       "      <td>#PremierLeague #PL</td>\n",
       "      <td>Andy Cole surely has to be the most underrated...</td>\n",
       "      <td>en</td>\n",
       "      <td>0.000</td>\n",
       "      <td>0.894</td>\n",
       "      <td>0.106</td>\n",
       "      <td>0.6114</td>\n",
       "      <td>pos</td>\n",
       "    </tr>\n",
       "    <tr>\n",
       "      <th>5</th>\n",
       "      <td>Inplay Challenges</td>\n",
       "      <td>@bash_the_bookie</td>\n",
       "      <td>2020-11-25</td>\n",
       "      <td>Yet to try out WilliamHill?  They will credit ...</td>\n",
       "      <td>NaN</td>\n",
       "      <td>NaN</td>\n",
       "      <td>NaN</td>\n",
       "      <td>Inplay Challenges</td>\n",
       "      <td>#Ad #HorseRacing #Football #PremierLeague</td>\n",
       "      <td>Yet to try out WilliamHill?  They will credit ...</td>\n",
       "      <td>en</td>\n",
       "      <td>0.000</td>\n",
       "      <td>0.751</td>\n",
       "      <td>0.249</td>\n",
       "      <td>0.8986</td>\n",
       "      <td>pos</td>\n",
       "    </tr>\n",
       "    <tr>\n",
       "      <th>6</th>\n",
       "      <td>The VAR Show</td>\n",
       "      <td>@thevarshow1</td>\n",
       "      <td>2020-11-25</td>\n",
       "      <td>Amazing talk with :  @neiljonesgoal   To Watch...</td>\n",
       "      <td>NaN</td>\n",
       "      <td>NaN</td>\n",
       "      <td>NaN</td>\n",
       "      <td>The VAR Show</td>\n",
       "      <td>#Liverpool #LiverpoolAtalanta #Goal #Klopp #Ne...</td>\n",
       "      <td>Amazing talk with :  @neiljonesgoal   To Watch...</td>\n",
       "      <td>en</td>\n",
       "      <td>0.000</td>\n",
       "      <td>0.798</td>\n",
       "      <td>0.202</td>\n",
       "      <td>0.5859</td>\n",
       "      <td>pos</td>\n",
       "    </tr>\n",
       "    <tr>\n",
       "      <th>...</th>\n",
       "      <td>...</td>\n",
       "      <td>...</td>\n",
       "      <td>...</td>\n",
       "      <td>...</td>\n",
       "      <td>...</td>\n",
       "      <td>...</td>\n",
       "      <td>...</td>\n",
       "      <td>...</td>\n",
       "      <td>...</td>\n",
       "      <td>...</td>\n",
       "      <td>...</td>\n",
       "      <td>...</td>\n",
       "      <td>...</td>\n",
       "      <td>...</td>\n",
       "      <td>...</td>\n",
       "      <td>...</td>\n",
       "    </tr>\n",
       "    <tr>\n",
       "      <th>3930</th>\n",
       "      <td>Adam Bateman</td>\n",
       "      <td>@boxybate</td>\n",
       "      <td>2020-11-21</td>\n",
       "      <td>Pep still a better manager than Ole yeah???  S...</td>\n",
       "      <td>3</td>\n",
       "      <td>NaN</td>\n",
       "      <td>4</td>\n",
       "      <td>Adam Bateman</td>\n",
       "      <td>#MindTheGap #ManchesterIsRed #PremierLeague</td>\n",
       "      <td>Pep still a better manager than Ole yeah???  S...</td>\n",
       "      <td>en</td>\n",
       "      <td>0.046</td>\n",
       "      <td>0.564</td>\n",
       "      <td>0.390</td>\n",
       "      <td>0.8677</td>\n",
       "      <td>pos</td>\n",
       "    </tr>\n",
       "    <tr>\n",
       "      <th>3931</th>\n",
       "      <td>Ekemini Daniel</td>\n",
       "      <td>@dee_kemus</td>\n",
       "      <td>2020-11-21</td>\n",
       "      <td>3 points in the bag, but na like this we wan t...</td>\n",
       "      <td>1</td>\n",
       "      <td>NaN</td>\n",
       "      <td>2</td>\n",
       "      <td>Ekemini Daniel</td>\n",
       "      <td>#MUNWBA #PremierLeague</td>\n",
       "      <td>3 points in the bag, but na like this we wan t...</td>\n",
       "      <td>en</td>\n",
       "      <td>0.000</td>\n",
       "      <td>0.812</td>\n",
       "      <td>0.188</td>\n",
       "      <td>0.5023</td>\n",
       "      <td>pos</td>\n",
       "    </tr>\n",
       "    <tr>\n",
       "      <th>3932</th>\n",
       "      <td>Man Utd Corner</td>\n",
       "      <td>@manutdcorner7</td>\n",
       "      <td>2020-11-21</td>\n",
       "      <td>The title charge is on  #MUFC #ManUtd #Manches...</td>\n",
       "      <td>NaN</td>\n",
       "      <td>NaN</td>\n",
       "      <td>3</td>\n",
       "      <td>Man Utd Corner</td>\n",
       "      <td>#MUFC #ManUtd #ManchesterUnited #PremierLeague</td>\n",
       "      <td>The title charge is on</td>\n",
       "      <td>en</td>\n",
       "      <td>0.000</td>\n",
       "      <td>1.000</td>\n",
       "      <td>0.000</td>\n",
       "      <td>0.0000</td>\n",
       "      <td>neu</td>\n",
       "    </tr>\n",
       "    <tr>\n",
       "      <th>3933</th>\n",
       "      <td>Mats FC</td>\n",
       "      <td>@matsmufc</td>\n",
       "      <td>2020-11-21</td>\n",
       "      <td>No events in the first half? I have never seen...</td>\n",
       "      <td>NaN</td>\n",
       "      <td>NaN</td>\n",
       "      <td>NaN</td>\n",
       "      <td>Mats FC</td>\n",
       "      <td>#FlashScore #manutd #mufc #MUNWBA #PremierLeague</td>\n",
       "      <td>No events in the first half? I have never seen...</td>\n",
       "      <td>en</td>\n",
       "      <td>0.282</td>\n",
       "      <td>0.718</td>\n",
       "      <td>0.000</td>\n",
       "      <td>-0.5122</td>\n",
       "      <td>neg</td>\n",
       "    </tr>\n",
       "    <tr>\n",
       "      <th>3934</th>\n",
       "      <td>RationalRed</td>\n",
       "      <td>@red_rational</td>\n",
       "      <td>2020-11-21</td>\n",
       "      <td>I quite like the idea of VAR. I dont think it ...</td>\n",
       "      <td>NaN</td>\n",
       "      <td>NaN</td>\n",
       "      <td>3</td>\n",
       "      <td>RationalRed</td>\n",
       "      <td>#var #MUFC #PremierLeague</td>\n",
       "      <td>I quite like the idea of VAR. I dont think it ...</td>\n",
       "      <td>en</td>\n",
       "      <td>0.230</td>\n",
       "      <td>0.650</td>\n",
       "      <td>0.120</td>\n",
       "      <td>-0.8374</td>\n",
       "      <td>neg</td>\n",
       "    </tr>\n",
       "  </tbody>\n",
       "</table>\n",
       "<p>2137 rows × 16 columns</p>\n",
       "</div>"
      ],
      "text/plain": [
       "                            Name              User       Date  \\\n",
       "0                 Man Utd Corner    @manutdcorner7 2020-11-25   \n",
       "1     Mads WIlliam Pagh Thomasen          @m2masen 2020-11-25   \n",
       "2                     Billy Wood      @billywood__ 2020-11-25   \n",
       "5              Inplay Challenges  @bash_the_bookie 2020-11-25   \n",
       "6                   The VAR Show      @thevarshow1 2020-11-25   \n",
       "...                          ...               ...        ...   \n",
       "3930                Adam Bateman         @boxybate 2020-11-21   \n",
       "3931              Ekemini Daniel        @dee_kemus 2020-11-21   \n",
       "3932              Man Utd Corner    @manutdcorner7 2020-11-21   \n",
       "3933                     Mats FC         @matsmufc 2020-11-21   \n",
       "3934                 RationalRed     @red_rational 2020-11-21   \n",
       "\n",
       "                                                   Text Comment  Retweet  \\\n",
       "0     Manchester United have won 8 out of 10 games w...     NaN      NaN   \n",
       "1     Man Sheiky got battered the other day, lets ba...     NaN      NaN   \n",
       "2     Andy Cole surely has to be the most underrated...       2      NaN   \n",
       "5     Yet to try out WilliamHill?  They will credit ...     NaN      NaN   \n",
       "6     Amazing talk with :  @neiljonesgoal   To Watch...     NaN      NaN   \n",
       "...                                                 ...     ...      ...   \n",
       "3930  Pep still a better manager than Ole yeah???  S...       3      NaN   \n",
       "3931  3 points in the bag, but na like this we wan t...       1      NaN   \n",
       "3932  The title charge is on  #MUFC #ManUtd #Manches...     NaN      NaN   \n",
       "3933  No events in the first half? I have never seen...     NaN      NaN   \n",
       "3934  I quite like the idea of VAR. I dont think it ...     NaN      NaN   \n",
       "\n",
       "     Likes                        Desc  \\\n",
       "0      NaN              Man Utd Corner   \n",
       "1      NaN  Mads WIlliam Pagh Thomasen   \n",
       "2        5                  Billy Wood   \n",
       "5      NaN           Inplay Challenges   \n",
       "6      NaN                The VAR Show   \n",
       "...    ...                         ...   \n",
       "3930     4                Adam Bateman   \n",
       "3931     2              Ekemini Daniel   \n",
       "3932     3              Man Utd Corner   \n",
       "3933   NaN                     Mats FC   \n",
       "3934     3                 RationalRed   \n",
       "\n",
       "                                               Hashtags  \\\n",
       "0     #MUFC #ManchesterUnited #UCL #PremierLeague #Fred   \n",
       "1                                  #COYS #PremierLeague   \n",
       "2                                    #PremierLeague #PL   \n",
       "5             #Ad #HorseRacing #Football #PremierLeague   \n",
       "6     #Liverpool #LiverpoolAtalanta #Goal #Klopp #Ne...   \n",
       "...                                                 ...   \n",
       "3930        #MindTheGap #ManchesterIsRed #PremierLeague   \n",
       "3931                             #MUNWBA #PremierLeague   \n",
       "3932     #MUFC #ManUtd #ManchesterUnited #PremierLeague   \n",
       "3933   #FlashScore #manutd #mufc #MUNWBA #PremierLeague   \n",
       "3934                          #var #MUFC #PremierLeague   \n",
       "\n",
       "                                                  Clean language  \\\n",
       "0     Manchester United have won 8 out of 10 games w...       en   \n",
       "1     Man Sheiky got battered the other day, lets ba...       en   \n",
       "2     Andy Cole surely has to be the most underrated...       en   \n",
       "5     Yet to try out WilliamHill?  They will credit ...       en   \n",
       "6     Amazing talk with :  @neiljonesgoal   To Watch...       en   \n",
       "...                                                 ...      ...   \n",
       "3930  Pep still a better manager than Ole yeah???  S...       en   \n",
       "3931  3 points in the bag, but na like this we wan t...       en   \n",
       "3932                    The title charge is on                en   \n",
       "3933  No events in the first half? I have never seen...       en   \n",
       "3934  I quite like the idea of VAR. I dont think it ...       en   \n",
       "\n",
       "      sentiment_neg  sentiment_neu  sentiment_pos  sentiment_compound comp_cat  \n",
       "0             0.000          0.667          0.333              0.7579      pos  \n",
       "1             0.000          1.000          0.000              0.0000      neu  \n",
       "2             0.000          0.894          0.106              0.6114      pos  \n",
       "5             0.000          0.751          0.249              0.8986      pos  \n",
       "6             0.000          0.798          0.202              0.5859      pos  \n",
       "...             ...            ...            ...                 ...      ...  \n",
       "3930          0.046          0.564          0.390              0.8677      pos  \n",
       "3931          0.000          0.812          0.188              0.5023      pos  \n",
       "3932          0.000          1.000          0.000              0.0000      neu  \n",
       "3933          0.282          0.718          0.000             -0.5122      neg  \n",
       "3934          0.230          0.650          0.120             -0.8374      neg  \n",
       "\n",
       "[2137 rows x 16 columns]"
      ]
     },
     "execution_count": 48,
     "metadata": {},
     "output_type": "execute_result"
    }
   ],
   "source": [
    "df_eng"
   ]
  },
  {
   "cell_type": "code",
   "execution_count": 49,
   "metadata": {},
   "outputs": [
    {
     "data": {
      "text/plain": [
       "neu    0.635938\n",
       "pos    0.295274\n",
       "neg    0.068788\n",
       "Name: comp_cat, dtype: float64"
      ]
     },
     "execution_count": 49,
     "metadata": {},
     "output_type": "execute_result"
    }
   ],
   "source": [
    "df_eng['comp_cat'].value_counts(normalize=True)"
   ]
  },
  {
   "cell_type": "code",
   "execution_count": 50,
   "metadata": {},
   "outputs": [
    {
     "data": {
      "image/png": "[encoded data removed]",
      "text/plain": [
       "<Figure size 504x504 with 1 Axes>"
      ]
     },
     "metadata": {},
     "output_type": "display_data"
    }
   ],
   "source": [
    "# assign the data\n",
    "data = df_eng['comp_cat'].value_counts(normalize=True)\n",
    "names = ['Neutral Comments','Positive Comments', 'Negative Comments']\n",
    "\n",
    "\n",
    "# call a pie chart\n",
    "plt.pie(data, labels= names, colors=['lightgray', 'limegreen', 'indianred' ], \n",
    "        autopct='%.2f%%', pctdistance=0.8,\n",
    "        wedgeprops={'linewidth':7, 'edgecolor':'white' })\n",
    "\n",
    "# create circle for the center of the plot to make the pie look like a donut\n",
    "my_circle = plt.Circle((0,0), 0.6, color='white')\n",
    "\n",
    "# plot the donut chart\n",
    "plt.title('Sentimental Analysis of Premier League Hashtag\\n', fontweight='bold')\n",
    "\n",
    "fig = plt.gcf()\n",
    "fig.set_size_inches(7,7)\n",
    "fig.gca().add_artist(my_circle)\n",
    "plt.show()\n",
    "\n",
    "\n",
    "fig.savefig(\"../Fig/SA_#PremierLeague.png\")"
   ]
  },
  {
   "cell_type": "code",
   "execution_count": 51,
   "metadata": {},
   "outputs": [],
   "source": [
    "# full dataframe with NEGATIVE comments\n",
    "df_neg = df_eng.loc[df_eng.sentiment_compound <= -0.50]\n",
    "\n",
    "# only corpus of NEGATIVE comments\n",
    "neg_comments = df_neg['Text'].tolist()"
   ]
  },
  {
   "cell_type": "code",
   "execution_count": 52,
   "metadata": {},
   "outputs": [
    {
     "data": {
      "text/html": [
       "<div>\n",
       "<style scoped>\n",
       "    .dataframe tbody tr th:only-of-type {\n",
       "        vertical-align: middle;\n",
       "    }\n",
       "\n",
       "    .dataframe tbody tr th {\n",
       "        vertical-align: top;\n",
       "    }\n",
       "\n",
       "    .dataframe thead th {\n",
       "        text-align: right;\n",
       "    }\n",
       "</style>\n",
       "<table border=\"1\" class=\"dataframe\">\n",
       "  <thead>\n",
       "    <tr style=\"text-align: right;\">\n",
       "      <th></th>\n",
       "      <th>Name</th>\n",
       "      <th>User</th>\n",
       "      <th>Date</th>\n",
       "      <th>Text</th>\n",
       "      <th>Comment</th>\n",
       "      <th>Retweet</th>\n",
       "      <th>Likes</th>\n",
       "      <th>Desc</th>\n",
       "      <th>Hashtags</th>\n",
       "      <th>Clean</th>\n",
       "      <th>language</th>\n",
       "      <th>sentiment_neg</th>\n",
       "      <th>sentiment_neu</th>\n",
       "      <th>sentiment_pos</th>\n",
       "      <th>sentiment_compound</th>\n",
       "      <th>comp_cat</th>\n",
       "    </tr>\n",
       "  </thead>\n",
       "  <tbody>\n",
       "    <tr>\n",
       "      <th>162</th>\n",
       "      <td>Simon Currie</td>\n",
       "      <td>@sicurrie</td>\n",
       "      <td>2020-11-25</td>\n",
       "      <td>Stupid decision by the govt to allow fans back...</td>\n",
       "      <td>NaN</td>\n",
       "      <td>NaN</td>\n",
       "      <td>NaN</td>\n",
       "      <td>Simon Currie</td>\n",
       "      <td>#PremierLeague</td>\n",
       "      <td>Stupid decision by the govt to allow fans back...</td>\n",
       "      <td>en</td>\n",
       "      <td>0.250</td>\n",
       "      <td>0.675</td>\n",
       "      <td>0.075</td>\n",
       "      <td>-0.6597</td>\n",
       "      <td>neg</td>\n",
       "    </tr>\n",
       "    <tr>\n",
       "      <th>215</th>\n",
       "      <td>Wee_Rogue (@</td>\n",
       "      <td>@rogue_wee</td>\n",
       "      <td>2020-11-25</td>\n",
       "      <td>#PremierLeague Team Ratings model update follo...</td>\n",
       "      <td>1</td>\n",
       "      <td>5.0</td>\n",
       "      <td>22</td>\n",
       "      <td>Wee_Rogue (@</td>\n",
       "      <td>#PremierLeague</td>\n",
       "      <td>Team Ratings model update following GW9  Som...</td>\n",
       "      <td>en</td>\n",
       "      <td>0.178</td>\n",
       "      <td>0.764</td>\n",
       "      <td>0.057</td>\n",
       "      <td>-0.6906</td>\n",
       "      <td>neg</td>\n",
       "    </tr>\n",
       "    <tr>\n",
       "      <th>293</th>\n",
       "      <td>Boot Room Podcast</td>\n",
       "      <td>@bootroompodcast</td>\n",
       "      <td>2020-11-25</td>\n",
       "      <td>Very hard to argue with Lampard on Paul Pogba....</td>\n",
       "      <td>2</td>\n",
       "      <td>4.0</td>\n",
       "      <td>14</td>\n",
       "      <td>Boot Room Podcast</td>\n",
       "      <td>#MUFC #Pogba #PremierLeague</td>\n",
       "      <td>Very hard to argue with Lampard on Paul Pogba....</td>\n",
       "      <td>en</td>\n",
       "      <td>0.326</td>\n",
       "      <td>0.674</td>\n",
       "      <td>0.000</td>\n",
       "      <td>-0.5198</td>\n",
       "      <td>neg</td>\n",
       "    </tr>\n",
       "    <tr>\n",
       "      <th>345</th>\n",
       "      <td>Boot Room Podcast</td>\n",
       "      <td>@bootroompodcast</td>\n",
       "      <td>2020-11-25</td>\n",
       "      <td>In last night's podcast  @JamieHolme   @alanro...</td>\n",
       "      <td>2</td>\n",
       "      <td>1.0</td>\n",
       "      <td>7</td>\n",
       "      <td>Boot Room Podcast</td>\n",
       "      <td>#TOTMCI #MCFC #PremierLeague</td>\n",
       "      <td>In last night's podcast  @JamieHolme   @alanro...</td>\n",
       "      <td>en</td>\n",
       "      <td>0.214</td>\n",
       "      <td>0.786</td>\n",
       "      <td>0.000</td>\n",
       "      <td>-0.7845</td>\n",
       "      <td>neg</td>\n",
       "    </tr>\n",
       "    <tr>\n",
       "      <th>353</th>\n",
       "      <td>Austin The Red</td>\n",
       "      <td>@austin_utd</td>\n",
       "      <td>2020-11-25</td>\n",
       "      <td>Kills the whole aspect of having fans.  #Epl #...</td>\n",
       "      <td>NaN</td>\n",
       "      <td>NaN</td>\n",
       "      <td>1</td>\n",
       "      <td>Austin The Red</td>\n",
       "      <td>#Epl #PremierLeague #football #borrisjohnson</td>\n",
       "      <td>Kills the whole aspect of having fans.</td>\n",
       "      <td>en</td>\n",
       "      <td>0.368</td>\n",
       "      <td>0.632</td>\n",
       "      <td>0.000</td>\n",
       "      <td>-0.5423</td>\n",
       "      <td>neg</td>\n",
       "    </tr>\n",
       "    <tr>\n",
       "      <th>...</th>\n",
       "      <td>...</td>\n",
       "      <td>...</td>\n",
       "      <td>...</td>\n",
       "      <td>...</td>\n",
       "      <td>...</td>\n",
       "      <td>...</td>\n",
       "      <td>...</td>\n",
       "      <td>...</td>\n",
       "      <td>...</td>\n",
       "      <td>...</td>\n",
       "      <td>...</td>\n",
       "      <td>...</td>\n",
       "      <td>...</td>\n",
       "      <td>...</td>\n",
       "      <td>...</td>\n",
       "      <td>...</td>\n",
       "    </tr>\n",
       "    <tr>\n",
       "      <th>3920</th>\n",
       "      <td>Daniel Kay</td>\n",
       "      <td>@dk4poetry</td>\n",
       "      <td>2020-11-21</td>\n",
       "      <td>#MUNWBA #wba everyone hates us, and we’re not ...</td>\n",
       "      <td>1</td>\n",
       "      <td>NaN</td>\n",
       "      <td>1</td>\n",
       "      <td>Daniel Kay</td>\n",
       "      <td>#MUNWBA #wba #PremierLeague</td>\n",
       "      <td>everyone hates us, and we’re not welcome i...</td>\n",
       "      <td>en</td>\n",
       "      <td>0.435</td>\n",
       "      <td>0.565</td>\n",
       "      <td>0.000</td>\n",
       "      <td>-0.6575</td>\n",
       "      <td>neg</td>\n",
       "    </tr>\n",
       "    <tr>\n",
       "      <th>3924</th>\n",
       "      <td>Aydn Loffman</td>\n",
       "      <td>@aydn_loffman</td>\n",
       "      <td>2020-11-21</td>\n",
       "      <td>VAR is a f@*k$*g disgrace. 4 officials in the ...</td>\n",
       "      <td>NaN</td>\n",
       "      <td>NaN</td>\n",
       "      <td>3</td>\n",
       "      <td>Aydn Loffman</td>\n",
       "      <td>#wbafc #PremierLeague</td>\n",
       "      <td>VAR is a f@*k$*g disgrace. 4 officials in the ...</td>\n",
       "      <td>en</td>\n",
       "      <td>0.190</td>\n",
       "      <td>0.670</td>\n",
       "      <td>0.140</td>\n",
       "      <td>-0.5707</td>\n",
       "      <td>neg</td>\n",
       "    </tr>\n",
       "    <tr>\n",
       "      <th>3928</th>\n",
       "      <td>Babajide Fadoju</td>\n",
       "      <td>@babajidefadoju</td>\n",
       "      <td>2020-11-21</td>\n",
       "      <td>Imagine Goliath telling the referee to tie Dav...</td>\n",
       "      <td>2</td>\n",
       "      <td>4.0</td>\n",
       "      <td>3</td>\n",
       "      <td>Babajide Fadoju</td>\n",
       "      <td>#MUNWBA #PremierLeague</td>\n",
       "      <td>Imagine Goliath telling the referee to tie Dav...</td>\n",
       "      <td>en</td>\n",
       "      <td>0.282</td>\n",
       "      <td>0.718</td>\n",
       "      <td>0.000</td>\n",
       "      <td>-0.9175</td>\n",
       "      <td>neg</td>\n",
       "    </tr>\n",
       "    <tr>\n",
       "      <th>3933</th>\n",
       "      <td>Mats FC</td>\n",
       "      <td>@matsmufc</td>\n",
       "      <td>2020-11-21</td>\n",
       "      <td>No events in the first half? I have never seen...</td>\n",
       "      <td>NaN</td>\n",
       "      <td>NaN</td>\n",
       "      <td>NaN</td>\n",
       "      <td>Mats FC</td>\n",
       "      <td>#FlashScore #manutd #mufc #MUNWBA #PremierLeague</td>\n",
       "      <td>No events in the first half? I have never seen...</td>\n",
       "      <td>en</td>\n",
       "      <td>0.282</td>\n",
       "      <td>0.718</td>\n",
       "      <td>0.000</td>\n",
       "      <td>-0.5122</td>\n",
       "      <td>neg</td>\n",
       "    </tr>\n",
       "    <tr>\n",
       "      <th>3934</th>\n",
       "      <td>RationalRed</td>\n",
       "      <td>@red_rational</td>\n",
       "      <td>2020-11-21</td>\n",
       "      <td>I quite like the idea of VAR. I dont think it ...</td>\n",
       "      <td>NaN</td>\n",
       "      <td>NaN</td>\n",
       "      <td>3</td>\n",
       "      <td>RationalRed</td>\n",
       "      <td>#var #MUFC #PremierLeague</td>\n",
       "      <td>I quite like the idea of VAR. I dont think it ...</td>\n",
       "      <td>en</td>\n",
       "      <td>0.230</td>\n",
       "      <td>0.650</td>\n",
       "      <td>0.120</td>\n",
       "      <td>-0.8374</td>\n",
       "      <td>neg</td>\n",
       "    </tr>\n",
       "  </tbody>\n",
       "</table>\n",
       "<p>147 rows × 16 columns</p>\n",
       "</div>"
      ],
      "text/plain": [
       "                    Name              User       Date  \\\n",
       "162         Simon Currie         @sicurrie 2020-11-25   \n",
       "215         Wee_Rogue (@        @rogue_wee 2020-11-25   \n",
       "293   Boot Room Podcast   @bootroompodcast 2020-11-25   \n",
       "345   Boot Room Podcast   @bootroompodcast 2020-11-25   \n",
       "353      Austin The Red        @austin_utd 2020-11-25   \n",
       "...                  ...               ...        ...   \n",
       "3920          Daniel Kay        @dk4poetry 2020-11-21   \n",
       "3924        Aydn Loffman     @aydn_loffman 2020-11-21   \n",
       "3928     Babajide Fadoju   @babajidefadoju 2020-11-21   \n",
       "3933             Mats FC         @matsmufc 2020-11-21   \n",
       "3934         RationalRed     @red_rational 2020-11-21   \n",
       "\n",
       "                                                   Text Comment  Retweet  \\\n",
       "162   Stupid decision by the govt to allow fans back...     NaN      NaN   \n",
       "215   #PremierLeague Team Ratings model update follo...       1      5.0   \n",
       "293   Very hard to argue with Lampard on Paul Pogba....       2      4.0   \n",
       "345   In last night's podcast  @JamieHolme   @alanro...       2      1.0   \n",
       "353   Kills the whole aspect of having fans.  #Epl #...     NaN      NaN   \n",
       "...                                                 ...     ...      ...   \n",
       "3920  #MUNWBA #wba everyone hates us, and we’re not ...       1      NaN   \n",
       "3924  VAR is a f@*k$*g disgrace. 4 officials in the ...     NaN      NaN   \n",
       "3928  Imagine Goliath telling the referee to tie Dav...       2      4.0   \n",
       "3933  No events in the first half? I have never seen...     NaN      NaN   \n",
       "3934  I quite like the idea of VAR. I dont think it ...     NaN      NaN   \n",
       "\n",
       "     Likes                Desc  \\\n",
       "162    NaN        Simon Currie   \n",
       "215     22        Wee_Rogue (@   \n",
       "293     14  Boot Room Podcast    \n",
       "345      7  Boot Room Podcast    \n",
       "353      1     Austin The Red    \n",
       "...    ...                 ...   \n",
       "3920     1          Daniel Kay   \n",
       "3924     3        Aydn Loffman   \n",
       "3928     3     Babajide Fadoju   \n",
       "3933   NaN             Mats FC   \n",
       "3934     3         RationalRed   \n",
       "\n",
       "                                              Hashtags  \\\n",
       "162                                     #PremierLeague   \n",
       "215                                     #PremierLeague   \n",
       "293                        #MUFC #Pogba #PremierLeague   \n",
       "345                       #TOTMCI #MCFC #PremierLeague   \n",
       "353       #Epl #PremierLeague #football #borrisjohnson   \n",
       "...                                                ...   \n",
       "3920                       #MUNWBA #wba #PremierLeague   \n",
       "3924                             #wbafc #PremierLeague   \n",
       "3928                            #MUNWBA #PremierLeague   \n",
       "3933  #FlashScore #manutd #mufc #MUNWBA #PremierLeague   \n",
       "3934                         #var #MUFC #PremierLeague   \n",
       "\n",
       "                                                  Clean language  \\\n",
       "162   Stupid decision by the govt to allow fans back...       en   \n",
       "215     Team Ratings model update following GW9  Som...       en   \n",
       "293   Very hard to argue with Lampard on Paul Pogba....       en   \n",
       "345   In last night's podcast  @JamieHolme   @alanro...       en   \n",
       "353     Kills the whole aspect of having fans.                en   \n",
       "...                                                 ...      ...   \n",
       "3920      everyone hates us, and we’re not welcome i...       en   \n",
       "3924  VAR is a f@*k$*g disgrace. 4 officials in the ...       en   \n",
       "3928  Imagine Goliath telling the referee to tie Dav...       en   \n",
       "3933  No events in the first half? I have never seen...       en   \n",
       "3934  I quite like the idea of VAR. I dont think it ...       en   \n",
       "\n",
       "      sentiment_neg  sentiment_neu  sentiment_pos  sentiment_compound comp_cat  \n",
       "162           0.250          0.675          0.075             -0.6597      neg  \n",
       "215           0.178          0.764          0.057             -0.6906      neg  \n",
       "293           0.326          0.674          0.000             -0.5198      neg  \n",
       "345           0.214          0.786          0.000             -0.7845      neg  \n",
       "353           0.368          0.632          0.000             -0.5423      neg  \n",
       "...             ...            ...            ...                 ...      ...  \n",
       "3920          0.435          0.565          0.000             -0.6575      neg  \n",
       "3924          0.190          0.670          0.140             -0.5707      neg  \n",
       "3928          0.282          0.718          0.000             -0.9175      neg  \n",
       "3933          0.282          0.718          0.000             -0.5122      neg  \n",
       "3934          0.230          0.650          0.120             -0.8374      neg  \n",
       "\n",
       "[147 rows x 16 columns]"
      ]
     },
     "execution_count": 52,
     "metadata": {},
     "output_type": "execute_result"
    }
   ],
   "source": [
    "df_neg"
   ]
  },
  {
   "cell_type": "code",
   "execution_count": 53,
   "metadata": {
    "scrolled": true
   },
   "outputs": [
    {
     "name": "stdout",
     "output_type": "stream",
     "text": [
      "Stupid decision by the govt to allow fans back in to stadiums. Boris showing how weak a leader he is. #PremierLeague\n",
      "Very hard to argue with Lampard on Paul Pogba....   #MUFC | #Pogba | #PremierLeague\n",
      "Kills the whole aspect of having fans.  #Epl #PremierLeague #football #borrisjohnson\n",
      "These man tryna take the #PremierLeague for Wimbledon   recipe for disaster!\n",
      "Andre Marriner is stealing a living! The best league In the   with the worst officials   #WOLSOU #PremierLeague\n",
      "Tommy Smith on #COVID19 and #PremierLeague openings was th most painfully stupid things I've heard\n",
      "Really didn’t understand that decision , so poor    #PremierLeague\n",
      "Leeds fail to score against stubborn 10 man Arsenal #premierleague #SuperSunday #Arsenal #LeedsUnited #Pépé\n",
      "Crisis? What crisis? Champions in cruise control. #LIVLEI 3-0 #PremierLeague\n",
      "Who's had the worst performance of the day.....  #lcfc #lfc #LIVLEI #PremierLeague\n",
      "#PremierLeague I thought Liverpool were supposed to be shit nowadays... #LIVLEI\n",
      "Leicester have been so disappointing tonight    #LIVLEI #LFC #LCFC #PremierLeague\n",
      "Expected to struggle against this Leicester side but dominating so far      #LIVLEI #PremierLeague\n",
      "@Carra23  who the fuck made you a commentator mate?   #LIVLEI #PremierLeague\n",
      "i hate own goals.....they ruin a good game #PremierLeague\n",
      "Johnny, la gente esta muy loca, What the fuck?  #LIVLEI #PremierLeague\n",
      "Idk what’s worse: A.) the   fail or B.) #Arsenal’s performance issues   #PremierLeague #LeedsArsenal #MyPLMorning\n",
      "Shaqiri back in the basement for another 6 months. When will the pain end #LiverpoolFC #PremierLeague\n",
      "Anyone know what's up with Shaq? Not on a bench that's weak enough as it is? #Liverpool #PremierLeague\n",
      "Leeds have only themselves to blame for not winning that game against Arsenal  #PremierLeague\n",
      "Leeds held by Leeds. Headline fail. #PremierLeague\n",
      "Did Leno put a shaman on his goalie or sumn Leeds hits the posts 3 times ffs #LEEARS #PremierLeague\n",
      "HOW is Willian a part of this Arsenal team?  He might be the biggest football fraud ever.  #PremierLeague #pldk #LEEARS\n",
      "Not only he is the biggest flop in #PremierLeague history, #Pepe is also stupid. And I am à #Arsenal fan\n",
      "Complete disaster or extraordinary performance. I don't see anything in between.  #PremierLeague #Arsenal #LEEARS #COYG\n",
      "I mean the relegation fight this year is going to be incredibly dull #PremierLeague\n",
      "Holy Shit  #ChampionsLeague #aekael #PremierLeague #Championship #EFL #Football #swfc\n",
      "BIG BATTLE Liverpool vs Leicester  #football #PremierLeague #LiverpoolFC #Leicester #22bet\n",
      "Should that penalty not be taken again for the encroachment of the Everton defenders???? #FULEVE #PremierLeague\n",
      "What a horrific penalty. #FULEVE #PremierLeague\n",
      "What the fuck was that   #FULEVE #PremierLeague\n",
      "How bad are Fulham at penalties   #PremierLeague #FULEVE\n",
      "Another penalty embarrassment by Fulham   #PremierLeague \n",
      "#PremierLeague How bad are Fulham at penalties, man?    #FULEVE\n",
      "Over the bar ... Penalty curse? #FULEVE #PremierLeague\n",
      "Tell me the commentator didn’t just say ‘Tranmere fucked Grimsby’  #FULEVE #PremierLeague\n",
      "What a strange tweet.   City’s mentality as a club comes across as very odd.   #MCFC | #PremierLeague\n",
      "Is Carlo laying traps and banking on teams attacking our weak right side? #FULEVE #Everton #PremierLeague\n",
      "Got to be nothing but a win today Everton let’s get back to it  @Everton  #COYB #FULEVE #PremierLeague\n",
      "VAR is possessed by the soul of Rob Styles #VAR #PremierLeague\n",
      "This tweet did not age well. I hate you #FPL   #BetterDaysAhead #dislike #FantasyFootball #PremierLeague #GW9\n",
      "Ummmm #Coote Wth? Thats a Penalty. Like 100% Ughhhh  #PremierLeague  #MUNWBA  #DavidCoote  #penalty\n",
      "#DavidCoot is a weak ass, spineless, disgrace of a referee. RT #wba #PremierLeague #MUNWBA\n",
      "#MUNWBA #wba everyone hates us, and we’re not welcome in the #PremierLeague\n",
      "No events in the first half? I have never seen anything like this. #FlashScore #manutd #mufc #MUNWBA #PremierLeague\n"
     ]
    }
   ],
   "source": [
    "for i in df_neg.Text:\n",
    "    if len(i) < 120:\n",
    "        print(i)"
   ]
  },
  {
   "cell_type": "code",
   "execution_count": 54,
   "metadata": {},
   "outputs": [
    {
     "data": {
      "image/png": "[encoded data removed]",
      "text/plain": [
       "<Figure size 1296x576 with 1 Axes>"
      ]
     },
     "metadata": {},
     "output_type": "display_data"
    }
   ],
   "source": [
    "# vectorizing text\n",
    "vectorizer = CountVectorizer(stop_words='english')\n",
    "docs = vectorizer.fit_transform(neg_comments)\n",
    "features = vectorizer.get_feature_names()\n",
    "\n",
    "# preparing the plot\n",
    "set_palette('pastel')\n",
    "plt.figure(figsize=(18,8))\n",
    "plt.title('The Top 10 most frequent words used in NEGATIVE comments\\n', fontweight='bold')\n",
    "\n",
    "# instantiating and fitting the FreqDistVisualizer, plotting the top 30 most frequent terms\n",
    "visualizer = FreqDistVisualizer(features=features, n=10)\n",
    "visualizer.fit(docs)\n",
    "visualizer.poof;"
   ]
  },
  {
   "cell_type": "markdown",
   "metadata": {},
   "source": [
    "## Word Cleaning"
   ]
  },
  {
   "cell_type": "code",
   "execution_count": 55,
   "metadata": {},
   "outputs": [],
   "source": [
    "df_eng[\"Clean\"] = df_eng['Clean'].apply(lambda x: cleaning(x)) "
   ]
  },
  {
   "cell_type": "code",
   "execution_count": 56,
   "metadata": {},
   "outputs": [
    {
     "data": {
      "text/plain": [
       "[('game', 275),\n",
       " ('v', 274),\n",
       " ('league', 233),\n",
       " ('arsenal', 205),\n",
       " ('get', 193),\n",
       " ('liverpool', 188),\n",
       " ('premier', 164),\n",
       " ('win', 163),\n",
       " ('team', 156),\n",
       " ('goal', 152),\n",
       " ('united', 140),\n",
       " ('season', 140),\n",
       " ('leicester', 127),\n",
       " ('city', 124),\n",
       " ('fan', 123),\n",
       " ('leeds', 121),\n",
       " ('match', 120),\n",
       " ('football', 119),\n",
       " ('player', 110),\n",
       " ('back', 109)]"
      ]
     },
     "execution_count": 56,
     "metadata": {},
     "output_type": "execute_result"
    }
   ],
   "source": [
    "from collections import Counter\n",
    "\n",
    "vocab = Counter()\n",
    "for tweet in df_eng[\"Clean\"]:\n",
    "    for word in tweet.split(' '):\n",
    "        vocab[word] += 1\n",
    "\n",
    "vocab.most_common(20)"
   ]
  },
  {
   "cell_type": "code",
   "execution_count": 57,
   "metadata": {},
   "outputs": [
    {
     "data": {
      "image/png": "[encoded data removed]",
      "text/plain": [
       "<Figure size 1440x504 with 1 Axes>"
      ]
     },
     "metadata": {},
     "output_type": "display_data"
    }
   ],
   "source": [
    "from nltk.probability import FreqDist\n",
    "\n",
    "freq_dist = FreqDist([word for text in df_eng[\"Clean\"].str.replace('[^a-za-z0-9^,!.\\/+-=]',' ') for word in text.split()])\n",
    "plt.figure(figsize=(20, 7))\n",
    "plt.title('Word frequency on question body (Raw data)').set_fontsize(25)\n",
    "plt.xlabel('').set_fontsize(25)\n",
    "plt.ylabel('').set_fontsize(25)\n",
    "freq_dist.plot(30,cumulative=False)\n",
    "plt.show()"
   ]
  },
  {
   "cell_type": "code",
   "execution_count": 58,
   "metadata": {},
   "outputs": [
    {
     "name": "stdout",
     "output_type": "stream",
     "text": [
      "<class 'pandas.core.frame.DataFrame'>\n",
      "Int64Index: 2137 entries, 0 to 3934\n",
      "Data columns (total 16 columns):\n",
      " #   Column              Non-Null Count  Dtype         \n",
      "---  ------              --------------  -----         \n",
      " 0   Name                2103 non-null   object        \n",
      " 1   User                2137 non-null   object        \n",
      " 2   Date                2137 non-null   datetime64[ns]\n",
      " 3   Text                2137 non-null   object        \n",
      " 4   Comment             353 non-null    object        \n",
      " 5   Retweet             421 non-null    float64       \n",
      " 6   Likes               948 non-null    object        \n",
      " 7   Desc                2102 non-null   object        \n",
      " 8   Hashtags            2137 non-null   object        \n",
      " 9   Clean               2137 non-null   object        \n",
      " 10  language            2137 non-null   object        \n",
      " 11  sentiment_neg       2137 non-null   float64       \n",
      " 12  sentiment_neu       2137 non-null   float64       \n",
      " 13  sentiment_pos       2137 non-null   float64       \n",
      " 14  sentiment_compound  2137 non-null   float64       \n",
      " 15  comp_cat            2137 non-null   object        \n",
      "dtypes: datetime64[ns](1), float64(5), object(10)\n",
      "memory usage: 363.8+ KB\n"
     ]
    }
   ],
   "source": [
    "df_eng.info()"
   ]
  },
  {
   "cell_type": "code",
   "execution_count": 59,
   "metadata": {},
   "outputs": [],
   "source": [
    "prin = df_eng.Date.value_counts().reset_index()\n",
    "prin.columns= \"Date\", \"Coun\"\n",
    "prin = prin.sort_values(by=\"Date\")"
   ]
  },
  {
   "cell_type": "code",
   "execution_count": 60,
   "metadata": {},
   "outputs": [
    {
     "data": {
      "text/plain": [
       "427.4"
      ]
     },
     "execution_count": 60,
     "metadata": {},
     "output_type": "execute_result"
    }
   ],
   "source": [
    "prin.Coun.mean()"
   ]
  },
  {
   "cell_type": "code",
   "execution_count": 61,
   "metadata": {
    "scrolled": true
   },
   "outputs": [
    {
     "data": {
      "application/vnd.plotly.v1+json": {
       "config": {
        "plotlyServerURL": "https://plotly.com"
       },
       "data": [
        {
         "mode": "lines+markers",
         "name": "lines+markers",
         "type": "scatter",
         "x": [
          "2020-11-21T00:00:00",
          "2020-11-22T00:00:00",
          "2020-11-23T00:00:00",
          "2020-11-24T00:00:00",
          "2020-11-25T00:00:00"
         ],
         "y": [
          55,
          1088,
          629,
          105,
          260
         ]
        }
       ],
       "layout": {
        "template": {
         "data": {
          "bar": [
           {
            "error_x": {
             "color": "#2a3f5f"
            },
            "error_y": {
             "color": "#2a3f5f"
            },
            "marker": {
             "line": {
              "color": "#E5ECF6",
              "width": 0.5
             }
            },
            "type": "bar"
           }
          ],
          "barpolar": [
           {
            "marker": {
             "line": {
              "color": "#E5ECF6",
              "width": 0.5
             }
            },
            "type": "barpolar"
           }
          ],
          "carpet": [
           {
            "aaxis": {
             "endlinecolor": "#2a3f5f",
             "gridcolor": "white",
             "linecolor": "white",
             "minorgridcolor": "white",
             "startlinecolor": "#2a3f5f"
            },
            "baxis": {
             "endlinecolor": "#2a3f5f",
             "gridcolor": "white",
             "linecolor": "white",
             "minorgridcolor": "white",
             "startlinecolor": "#2a3f5f"
            },
            "type": "carpet"
           }
          ],
          "choropleth": [
           {
            "colorbar": {
             "outlinewidth": 0,
             "ticks": ""
            },
            "type": "choropleth"
           }
          ],
          "contour": [
           {
            "colorbar": {
             "outlinewidth": 0,
             "ticks": ""
            },
            "colorscale": [
             [
              0,
              "#0d0887"
             ],
             [
              0.1111111111111111,
              "#46039f"
             ],
             [
              0.2222222222222222,
              "#7201a8"
             ],
             [
              0.3333333333333333,
              "#9c179e"
             ],
             [
              0.4444444444444444,
              "#bd3786"
             ],
             [
              0.5555555555555556,
              "#d8576b"
             ],
             [
              0.6666666666666666,
              "#ed7953"
             ],
             [
              0.7777777777777778,
              "#fb9f3a"
             ],
             [
              0.8888888888888888,
              "#fdca26"
             ],
             [
              1,
              "#f0f921"
             ]
            ],
            "type": "contour"
           }
          ],
          "contourcarpet": [
           {
            "colorbar": {
             "outlinewidth": 0,
             "ticks": ""
            },
            "type": "contourcarpet"
           }
          ],
          "heatmap": [
           {
            "colorbar": {
             "outlinewidth": 0,
             "ticks": ""
            },
            "colorscale": [
             [
              0,
              "#0d0887"
             ],
             [
              0.1111111111111111,
              "#46039f"
             ],
             [
              0.2222222222222222,
              "#7201a8"
             ],
             [
              0.3333333333333333,
              "#9c179e"
             ],
             [
              0.4444444444444444,
              "#bd3786"
             ],
             [
              0.5555555555555556,
              "#d8576b"
             ],
             [
              0.6666666666666666,
              "#ed7953"
             ],
             [
              0.7777777777777778,
              "#fb9f3a"
             ],
             [
              0.8888888888888888,
              "#fdca26"
             ],
             [
              1,
              "#f0f921"
             ]
            ],
            "type": "heatmap"
           }
          ],
          "heatmapgl": [
           {
            "colorbar": {
             "outlinewidth": 0,
             "ticks": ""
            },
            "colorscale": [
             [
              0,
              "#0d0887"
             ],
             [
              0.1111111111111111,
              "#46039f"
             ],
             [
              0.2222222222222222,
              "#7201a8"
             ],
             [
              0.3333333333333333,
              "#9c179e"
             ],
             [
              0.4444444444444444,
              "#bd3786"
             ],
             [
              0.5555555555555556,
              "#d8576b"
             ],
             [
              0.6666666666666666,
              "#ed7953"
             ],
             [
              0.7777777777777778,
              "#fb9f3a"
             ],
             [
              0.8888888888888888,
              "#fdca26"
             ],
             [
              1,
              "#f0f921"
             ]
            ],
            "type": "heatmapgl"
           }
          ],
          "histogram": [
           {
            "marker": {
             "colorbar": {
              "outlinewidth": 0,
              "ticks": ""
             }
            },
            "type": "histogram"
           }
          ],
          "histogram2d": [
           {
            "colorbar": {
             "outlinewidth": 0,
             "ticks": ""
            },
            "colorscale": [
             [
              0,
              "#0d0887"
             ],
             [
              0.1111111111111111,
              "#46039f"
             ],
             [
              0.2222222222222222,
              "#7201a8"
             ],
             [
              0.3333333333333333,
              "#9c179e"
             ],
             [
              0.4444444444444444,
              "#bd3786"
             ],
             [
              0.5555555555555556,
              "#d8576b"
             ],
             [
              0.6666666666666666,
              "#ed7953"
             ],
             [
              0.7777777777777778,
              "#fb9f3a"
             ],
             [
              0.8888888888888888,
              "#fdca26"
             ],
             [
              1,
              "#f0f921"
             ]
            ],
            "type": "histogram2d"
           }
          ],
          "histogram2dcontour": [
           {
            "colorbar": {
             "outlinewidth": 0,
             "ticks": ""
            },
            "colorscale": [
             [
              0,
              "#0d0887"
             ],
             [
              0.1111111111111111,
              "#46039f"
             ],
             [
              0.2222222222222222,
              "#7201a8"
             ],
             [
              0.3333333333333333,
              "#9c179e"
             ],
             [
              0.4444444444444444,
              "#bd3786"
             ],
             [
              0.5555555555555556,
              "#d8576b"
             ],
             [
              0.6666666666666666,
              "#ed7953"
             ],
             [
              0.7777777777777778,
              "#fb9f3a"
             ],
             [
              0.8888888888888888,
              "#fdca26"
             ],
             [
              1,
              "#f0f921"
             ]
            ],
            "type": "histogram2dcontour"
           }
          ],
          "mesh3d": [
           {
            "colorbar": {
             "outlinewidth": 0,
             "ticks": ""
            },
            "type": "mesh3d"
           }
          ],
          "parcoords": [
           {
            "line": {
             "colorbar": {
              "outlinewidth": 0,
              "ticks": ""
             }
            },
            "type": "parcoords"
           }
          ],
          "pie": [
           {
            "automargin": true,
            "type": "pie"
           }
          ],
          "scatter": [
           {
            "marker": {
             "colorbar": {
              "outlinewidth": 0,
              "ticks": ""
             }
            },
            "type": "scatter"
           }
          ],
          "scatter3d": [
           {
            "line": {
             "colorbar": {
              "outlinewidth": 0,
              "ticks": ""
             }
            },
            "marker": {
             "colorbar": {
              "outlinewidth": 0,
              "ticks": ""
             }
            },
            "type": "scatter3d"
           }
          ],
          "scattercarpet": [
           {
            "marker": {
             "colorbar": {
              "outlinewidth": 0,
              "ticks": ""
             }
            },
            "type": "scattercarpet"
           }
          ],
          "scattergeo": [
           {
            "marker": {
             "colorbar": {
              "outlinewidth": 0,
              "ticks": ""
             }
            },
            "type": "scattergeo"
           }
          ],
          "scattergl": [
           {
            "marker": {
             "colorbar": {
              "outlinewidth": 0,
              "ticks": ""
             }
            },
            "type": "scattergl"
           }
          ],
          "scattermapbox": [
           {
            "marker": {
             "colorbar": {
              "outlinewidth": 0,
              "ticks": ""
             }
            },
            "type": "scattermapbox"
           }
          ],
          "scatterpolar": [
           {
            "marker": {
             "colorbar": {
              "outlinewidth": 0,
              "ticks": ""
             }
            },
            "type": "scatterpolar"
           }
          ],
          "scatterpolargl": [
           {
            "marker": {
             "colorbar": {
              "outlinewidth": 0,
              "ticks": ""
             }
            },
            "type": "scatterpolargl"
           }
          ],
          "scatterternary": [
           {
            "marker": {
             "colorbar": {
              "outlinewidth": 0,
              "ticks": ""
             }
            },
            "type": "scatterternary"
           }
          ],
          "surface": [
           {
            "colorbar": {
             "outlinewidth": 0,
             "ticks": ""
            },
            "colorscale": [
             [
              0,
              "#0d0887"
             ],
             [
              0.1111111111111111,
              "#46039f"
             ],
             [
              0.2222222222222222,
              "#7201a8"
             ],
             [
              0.3333333333333333,
              "#9c179e"
             ],
             [
              0.4444444444444444,
              "#bd3786"
             ],
             [
              0.5555555555555556,
              "#d8576b"
             ],
             [
              0.6666666666666666,
              "#ed7953"
             ],
             [
              0.7777777777777778,
              "#fb9f3a"
             ],
             [
              0.8888888888888888,
              "#fdca26"
             ],
             [
              1,
              "#f0f921"
             ]
            ],
            "type": "surface"
           }
          ],
          "table": [
           {
            "cells": {
             "fill": {
              "color": "#EBF0F8"
             },
             "line": {
              "color": "white"
             }
            },
            "header": {
             "fill": {
              "color": "#C8D4E3"
             },
             "line": {
              "color": "white"
             }
            },
            "type": "table"
           }
          ]
         },
         "layout": {
          "annotationdefaults": {
           "arrowcolor": "#2a3f5f",
           "arrowhead": 0,
           "arrowwidth": 1
          },
          "coloraxis": {
           "colorbar": {
            "outlinewidth": 0,
            "ticks": ""
           }
          },
          "colorscale": {
           "diverging": [
            [
             0,
             "#8e0152"
            ],
            [
             0.1,
             "#c51b7d"
            ],
            [
             0.2,
             "#de77ae"
            ],
            [
             0.3,
             "#f1b6da"
            ],
            [
             0.4,
             "#fde0ef"
            ],
            [
             0.5,
             "#f7f7f7"
            ],
            [
             0.6,
             "#e6f5d0"
            ],
            [
             0.7,
             "#b8e186"
            ],
            [
             0.8,
             "#7fbc41"
            ],
            [
             0.9,
             "#4d9221"
            ],
            [
             1,
             "#276419"
            ]
           ],
           "sequential": [
            [
             0,
             "#0d0887"
            ],
            [
             0.1111111111111111,
             "#46039f"
            ],
            [
             0.2222222222222222,
             "#7201a8"
            ],
            [
             0.3333333333333333,
             "#9c179e"
            ],
            [
             0.4444444444444444,
             "#bd3786"
            ],
            [
             0.5555555555555556,
             "#d8576b"
            ],
            [
             0.6666666666666666,
             "#ed7953"
            ],
            [
             0.7777777777777778,
             "#fb9f3a"
            ],
            [
             0.8888888888888888,
             "#fdca26"
            ],
            [
             1,
             "#f0f921"
            ]
           ],
           "sequentialminus": [
            [
             0,
             "#0d0887"
            ],
            [
             0.1111111111111111,
             "#46039f"
            ],
            [
             0.2222222222222222,
             "#7201a8"
            ],
            [
             0.3333333333333333,
             "#9c179e"
            ],
            [
             0.4444444444444444,
             "#bd3786"
            ],
            [
             0.5555555555555556,
             "#d8576b"
            ],
            [
             0.6666666666666666,
             "#ed7953"
            ],
            [
             0.7777777777777778,
             "#fb9f3a"
            ],
            [
             0.8888888888888888,
             "#fdca26"
            ],
            [
             1,
             "#f0f921"
            ]
           ]
          },
          "colorway": [
           "#636efa",
           "#EF553B",
           "#00cc96",
           "#ab63fa",
           "#FFA15A",
           "#19d3f3",
           "#FF6692",
           "#B6E880",
           "#FF97FF",
           "#FECB52"
          ],
          "font": {
           "color": "#2a3f5f"
          },
          "geo": {
           "bgcolor": "white",
           "lakecolor": "white",
           "landcolor": "#E5ECF6",
           "showlakes": true,
           "showland": true,
           "subunitcolor": "white"
          },
          "hoverlabel": {
           "align": "left"
          },
          "hovermode": "closest",
          "mapbox": {
           "style": "light"
          },
          "paper_bgcolor": "white",
          "plot_bgcolor": "#E5ECF6",
          "polar": {
           "angularaxis": {
            "gridcolor": "white",
            "linecolor": "white",
            "ticks": ""
           },
           "bgcolor": "#E5ECF6",
           "radialaxis": {
            "gridcolor": "white",
            "linecolor": "white",
            "ticks": ""
           }
          },
          "scene": {
           "xaxis": {
            "backgroundcolor": "#E5ECF6",
            "gridcolor": "white",
            "gridwidth": 2,
            "linecolor": "white",
            "showbackground": true,
            "ticks": "",
            "zerolinecolor": "white"
           },
           "yaxis": {
            "backgroundcolor": "#E5ECF6",
            "gridcolor": "white",
            "gridwidth": 2,
            "linecolor": "white",
            "showbackground": true,
            "ticks": "",
            "zerolinecolor": "white"
           },
           "zaxis": {
            "backgroundcolor": "#E5ECF6",
            "gridcolor": "white",
            "gridwidth": 2,
            "linecolor": "white",
            "showbackground": true,
            "ticks": "",
            "zerolinecolor": "white"
           }
          },
          "shapedefaults": {
           "line": {
            "color": "#2a3f5f"
           }
          },
          "ternary": {
           "aaxis": {
            "gridcolor": "white",
            "linecolor": "white",
            "ticks": ""
           },
           "baxis": {
            "gridcolor": "white",
            "linecolor": "white",
            "ticks": ""
           },
           "bgcolor": "#E5ECF6",
           "caxis": {
            "gridcolor": "white",
            "linecolor": "white",
            "ticks": ""
           }
          },
          "title": {
           "x": 0.05
          },
          "xaxis": {
           "automargin": true,
           "gridcolor": "white",
           "linecolor": "white",
           "ticks": "",
           "title": {
            "standoff": 15
           },
           "zerolinecolor": "white",
           "zerolinewidth": 2
          },
          "yaxis": {
           "automargin": true,
           "gridcolor": "white",
           "linecolor": "white",
           "ticks": "",
           "title": {
            "standoff": 15
           },
           "zerolinecolor": "white",
           "zerolinewidth": 2
          }
         }
        },
        "xaxis": {
         "rangeslider": {
          "visible": true
         },
         "title": {
          "text": "Date"
         }
        },
        "yaxis": {
         "title": {
          "text": "Tweets #PremierLeague"
         }
        }
       }
      },
      "text/html": [
       "<div>                            <div id=\"70d629f5-1fca-4229-acfe-4a92a36aba44\" class=\"plotly-graph-div\" style=\"height:525px; width:100%;\"></div>            <script type=\"text/javascript\">                require([\"plotly\"], function(Plotly) {                    window.PLOTLYENV=window.PLOTLYENV || {};                                    if (document.getElementById(\"70d629f5-1fca-4229-acfe-4a92a36aba44\")) {                    Plotly.newPlot(                        \"70d629f5-1fca-4229-acfe-4a92a36aba44\",                        [{\"mode\": \"lines+markers\", \"name\": \"lines+markers\", \"type\": \"scatter\", \"x\": [\"2020-11-21T00:00:00\", \"2020-11-22T00:00:00\", \"2020-11-23T00:00:00\", \"2020-11-24T00:00:00\", \"2020-11-25T00:00:00\"], \"y\": [55, 1088, 629, 105, 260]}],                        {\"template\": {\"data\": {\"bar\": [{\"error_x\": {\"color\": \"#2a3f5f\"}, \"error_y\": {\"color\": \"#2a3f5f\"}, \"marker\": {\"line\": {\"color\": \"#E5ECF6\", \"width\": 0.5}}, \"type\": \"bar\"}], \"barpolar\": [{\"marker\": {\"line\": {\"color\": \"#E5ECF6\", \"width\": 0.5}}, \"type\": \"barpolar\"}], \"carpet\": [{\"aaxis\": {\"endlinecolor\": \"#2a3f5f\", \"gridcolor\": \"white\", \"linecolor\": \"white\", \"minorgridcolor\": \"white\", \"startlinecolor\": \"#2a3f5f\"}, \"baxis\": {\"endlinecolor\": \"#2a3f5f\", \"gridcolor\": \"white\", \"linecolor\": \"white\", \"minorgridcolor\": \"white\", \"startlinecolor\": \"#2a3f5f\"}, \"type\": \"carpet\"}], \"choropleth\": [{\"colorbar\": {\"outlinewidth\": 0, \"ticks\": \"\"}, \"type\": \"choropleth\"}], \"contour\": [{\"colorbar\": {\"outlinewidth\": 0, \"ticks\": \"\"}, \"colorscale\": [[0.0, \"#0d0887\"], [0.1111111111111111, \"#46039f\"], [0.2222222222222222, \"#7201a8\"], [0.3333333333333333, \"#9c179e\"], [0.4444444444444444, \"#bd3786\"], [0.5555555555555556, \"#d8576b\"], [0.6666666666666666, \"#ed7953\"], [0.7777777777777778, \"#fb9f3a\"], [0.8888888888888888, \"#fdca26\"], [1.0, \"#f0f921\"]], \"type\": \"contour\"}], \"contourcarpet\": [{\"colorbar\": {\"outlinewidth\": 0, \"ticks\": \"\"}, \"type\": \"contourcarpet\"}], \"heatmap\": [{\"colorbar\": {\"outlinewidth\": 0, \"ticks\": \"\"}, \"colorscale\": [[0.0, \"#0d0887\"], [0.1111111111111111, \"#46039f\"], [0.2222222222222222, \"#7201a8\"], [0.3333333333333333, \"#9c179e\"], [0.4444444444444444, \"#bd3786\"], [0.5555555555555556, \"#d8576b\"], [0.6666666666666666, \"#ed7953\"], [0.7777777777777778, \"#fb9f3a\"], [0.8888888888888888, \"#fdca26\"], [1.0, \"#f0f921\"]], \"type\": \"heatmap\"}], \"heatmapgl\": [{\"colorbar\": {\"outlinewidth\": 0, \"ticks\": \"\"}, \"colorscale\": [[0.0, \"#0d0887\"], [0.1111111111111111, \"#46039f\"], [0.2222222222222222, \"#7201a8\"], [0.3333333333333333, \"#9c179e\"], [0.4444444444444444, \"#bd3786\"], [0.5555555555555556, \"#d8576b\"], [0.6666666666666666, \"#ed7953\"], [0.7777777777777778, \"#fb9f3a\"], [0.8888888888888888, \"#fdca26\"], [1.0, \"#f0f921\"]], \"type\": \"heatmapgl\"}], \"histogram\": [{\"marker\": {\"colorbar\": {\"outlinewidth\": 0, \"ticks\": \"\"}}, \"type\": \"histogram\"}], \"histogram2d\": [{\"colorbar\": {\"outlinewidth\": 0, \"ticks\": \"\"}, \"colorscale\": [[0.0, \"#0d0887\"], [0.1111111111111111, \"#46039f\"], [0.2222222222222222, \"#7201a8\"], [0.3333333333333333, \"#9c179e\"], [0.4444444444444444, \"#bd3786\"], [0.5555555555555556, \"#d8576b\"], [0.6666666666666666, \"#ed7953\"], [0.7777777777777778, \"#fb9f3a\"], [0.8888888888888888, \"#fdca26\"], [1.0, \"#f0f921\"]], \"type\": \"histogram2d\"}], \"histogram2dcontour\": [{\"colorbar\": {\"outlinewidth\": 0, \"ticks\": \"\"}, \"colorscale\": [[0.0, \"#0d0887\"], [0.1111111111111111, \"#46039f\"], [0.2222222222222222, \"#7201a8\"], [0.3333333333333333, \"#9c179e\"], [0.4444444444444444, \"#bd3786\"], [0.5555555555555556, \"#d8576b\"], [0.6666666666666666, \"#ed7953\"], [0.7777777777777778, \"#fb9f3a\"], [0.8888888888888888, \"#fdca26\"], [1.0, \"#f0f921\"]], \"type\": \"histogram2dcontour\"}], \"mesh3d\": [{\"colorbar\": {\"outlinewidth\": 0, \"ticks\": \"\"}, \"type\": \"mesh3d\"}], \"parcoords\": [{\"line\": {\"colorbar\": {\"outlinewidth\": 0, \"ticks\": \"\"}}, \"type\": \"parcoords\"}], \"pie\": [{\"automargin\": true, \"type\": \"pie\"}], \"scatter\": [{\"marker\": {\"colorbar\": {\"outlinewidth\": 0, \"ticks\": \"\"}}, \"type\": \"scatter\"}], \"scatter3d\": [{\"line\": {\"colorbar\": {\"outlinewidth\": 0, \"ticks\": \"\"}}, \"marker\": {\"colorbar\": {\"outlinewidth\": 0, \"ticks\": \"\"}}, \"type\": \"scatter3d\"}], \"scattercarpet\": [{\"marker\": {\"colorbar\": {\"outlinewidth\": 0, \"ticks\": \"\"}}, \"type\": \"scattercarpet\"}], \"scattergeo\": [{\"marker\": {\"colorbar\": {\"outlinewidth\": 0, \"ticks\": \"\"}}, \"type\": \"scattergeo\"}], \"scattergl\": [{\"marker\": {\"colorbar\": {\"outlinewidth\": 0, \"ticks\": \"\"}}, \"type\": \"scattergl\"}], \"scattermapbox\": [{\"marker\": {\"colorbar\": {\"outlinewidth\": 0, \"ticks\": \"\"}}, \"type\": \"scattermapbox\"}], \"scatterpolar\": [{\"marker\": {\"colorbar\": {\"outlinewidth\": 0, \"ticks\": \"\"}}, \"type\": \"scatterpolar\"}], \"scatterpolargl\": [{\"marker\": {\"colorbar\": {\"outlinewidth\": 0, \"ticks\": \"\"}}, \"type\": \"scatterpolargl\"}], \"scatterternary\": [{\"marker\": {\"colorbar\": {\"outlinewidth\": 0, \"ticks\": \"\"}}, \"type\": \"scatterternary\"}], \"surface\": [{\"colorbar\": {\"outlinewidth\": 0, \"ticks\": \"\"}, \"colorscale\": [[0.0, \"#0d0887\"], [0.1111111111111111, \"#46039f\"], [0.2222222222222222, \"#7201a8\"], [0.3333333333333333, \"#9c179e\"], [0.4444444444444444, \"#bd3786\"], [0.5555555555555556, \"#d8576b\"], [0.6666666666666666, \"#ed7953\"], [0.7777777777777778, \"#fb9f3a\"], [0.8888888888888888, \"#fdca26\"], [1.0, \"#f0f921\"]], \"type\": \"surface\"}], \"table\": [{\"cells\": {\"fill\": {\"color\": \"#EBF0F8\"}, \"line\": {\"color\": \"white\"}}, \"header\": {\"fill\": {\"color\": \"#C8D4E3\"}, \"line\": {\"color\": \"white\"}}, \"type\": \"table\"}]}, \"layout\": {\"annotationdefaults\": {\"arrowcolor\": \"#2a3f5f\", \"arrowhead\": 0, \"arrowwidth\": 1}, \"coloraxis\": {\"colorbar\": {\"outlinewidth\": 0, \"ticks\": \"\"}}, \"colorscale\": {\"diverging\": [[0, \"#8e0152\"], [0.1, \"#c51b7d\"], [0.2, \"#de77ae\"], [0.3, \"#f1b6da\"], [0.4, \"#fde0ef\"], [0.5, \"#f7f7f7\"], [0.6, \"#e6f5d0\"], [0.7, \"#b8e186\"], [0.8, \"#7fbc41\"], [0.9, \"#4d9221\"], [1, \"#276419\"]], \"sequential\": [[0.0, \"#0d0887\"], [0.1111111111111111, \"#46039f\"], [0.2222222222222222, \"#7201a8\"], [0.3333333333333333, \"#9c179e\"], [0.4444444444444444, \"#bd3786\"], [0.5555555555555556, \"#d8576b\"], [0.6666666666666666, \"#ed7953\"], [0.7777777777777778, \"#fb9f3a\"], [0.8888888888888888, \"#fdca26\"], [1.0, \"#f0f921\"]], \"sequentialminus\": [[0.0, \"#0d0887\"], [0.1111111111111111, \"#46039f\"], [0.2222222222222222, \"#7201a8\"], [0.3333333333333333, \"#9c179e\"], [0.4444444444444444, \"#bd3786\"], [0.5555555555555556, \"#d8576b\"], [0.6666666666666666, \"#ed7953\"], [0.7777777777777778, \"#fb9f3a\"], [0.8888888888888888, \"#fdca26\"], [1.0, \"#f0f921\"]]}, \"colorway\": [\"#636efa\", \"#EF553B\", \"#00cc96\", \"#ab63fa\", \"#FFA15A\", \"#19d3f3\", \"#FF6692\", \"#B6E880\", \"#FF97FF\", \"#FECB52\"], \"font\": {\"color\": \"#2a3f5f\"}, \"geo\": {\"bgcolor\": \"white\", \"lakecolor\": \"white\", \"landcolor\": \"#E5ECF6\", \"showlakes\": true, \"showland\": true, \"subunitcolor\": \"white\"}, \"hoverlabel\": {\"align\": \"left\"}, \"hovermode\": \"closest\", \"mapbox\": {\"style\": \"light\"}, \"paper_bgcolor\": \"white\", \"plot_bgcolor\": \"#E5ECF6\", \"polar\": {\"angularaxis\": {\"gridcolor\": \"white\", \"linecolor\": \"white\", \"ticks\": \"\"}, \"bgcolor\": \"#E5ECF6\", \"radialaxis\": {\"gridcolor\": \"white\", \"linecolor\": \"white\", \"ticks\": \"\"}}, \"scene\": {\"xaxis\": {\"backgroundcolor\": \"#E5ECF6\", \"gridcolor\": \"white\", \"gridwidth\": 2, \"linecolor\": \"white\", \"showbackground\": true, \"ticks\": \"\", \"zerolinecolor\": \"white\"}, \"yaxis\": {\"backgroundcolor\": \"#E5ECF6\", \"gridcolor\": \"white\", \"gridwidth\": 2, \"linecolor\": \"white\", \"showbackground\": true, \"ticks\": \"\", \"zerolinecolor\": \"white\"}, \"zaxis\": {\"backgroundcolor\": \"#E5ECF6\", \"gridcolor\": \"white\", \"gridwidth\": 2, \"linecolor\": \"white\", \"showbackground\": true, \"ticks\": \"\", \"zerolinecolor\": \"white\"}}, \"shapedefaults\": {\"line\": {\"color\": \"#2a3f5f\"}}, \"ternary\": {\"aaxis\": {\"gridcolor\": \"white\", \"linecolor\": \"white\", \"ticks\": \"\"}, \"baxis\": {\"gridcolor\": \"white\", \"linecolor\": \"white\", \"ticks\": \"\"}, \"bgcolor\": \"#E5ECF6\", \"caxis\": {\"gridcolor\": \"white\", \"linecolor\": \"white\", \"ticks\": \"\"}}, \"title\": {\"x\": 0.05}, \"xaxis\": {\"automargin\": true, \"gridcolor\": \"white\", \"linecolor\": \"white\", \"ticks\": \"\", \"title\": {\"standoff\": 15}, \"zerolinecolor\": \"white\", \"zerolinewidth\": 2}, \"yaxis\": {\"automargin\": true, \"gridcolor\": \"white\", \"linecolor\": \"white\", \"ticks\": \"\", \"title\": {\"standoff\": 15}, \"zerolinecolor\": \"white\", \"zerolinewidth\": 2}}}, \"xaxis\": {\"rangeslider\": {\"visible\": true}, \"title\": {\"text\": \"Date\"}}, \"yaxis\": {\"title\": {\"text\": \"Tweets #PremierLeague\"}}},                        {\"responsive\": true}                    ).then(function(){\n",
       "                            \n",
       "var gd = document.getElementById('70d629f5-1fca-4229-acfe-4a92a36aba44');\n",
       "var x = new MutationObserver(function (mutations, observer) {{\n",
       "        var display = window.getComputedStyle(gd).display;\n",
       "        if (!display || display === 'none') {{\n",
       "            console.log([gd, 'removed!']);\n",
       "            Plotly.purge(gd);\n",
       "            observer.disconnect();\n",
       "        }}\n",
       "}});\n",
       "\n",
       "// Listen for the removal of the full notebook cells\n",
       "var notebookContainer = gd.closest('#notebook-container');\n",
       "if (notebookContainer) {{\n",
       "    x.observe(notebookContainer, {childList: true});\n",
       "}}\n",
       "\n",
       "// Listen for the clearing of the current output cell\n",
       "var outputEl = gd.closest('.output');\n",
       "if (outputEl) {{\n",
       "    x.observe(outputEl, {childList: true});\n",
       "}}\n",
       "\n",
       "                        })                };                });            </script>        </div>"
      ]
     },
     "metadata": {},
     "output_type": "display_data"
    },
    {
     "ename": "FileNotFoundError",
     "evalue": "[Errno 2] No such file or directory: '../../Fig/Tweets_PremierLeague2.html'",
     "output_type": "error",
     "traceback": [
      "\u001b[1;31m---------------------------------------------------------------------------\u001b[0m",
      "\u001b[1;31mFileNotFoundError\u001b[0m                         Traceback (most recent call last)",
      "\u001b[1;32m<ipython-input-61-8d8c6d8ea89a>\u001b[0m in \u001b[0;36m<module>\u001b[1;34m\u001b[0m\n\u001b[0;32m     17\u001b[0m \u001b[1;31m#Show\u001b[0m\u001b[1;33m\u001b[0m\u001b[1;33m\u001b[0m\u001b[1;33m\u001b[0m\u001b[0m\n\u001b[0;32m     18\u001b[0m \u001b[0mfig\u001b[0m\u001b[1;33m.\u001b[0m\u001b[0mshow\u001b[0m\u001b[1;33m(\u001b[0m\u001b[1;33m)\u001b[0m\u001b[1;33m\u001b[0m\u001b[1;33m\u001b[0m\u001b[0m\n\u001b[1;32m---> 19\u001b[1;33m \u001b[0mfig\u001b[0m\u001b[1;33m.\u001b[0m\u001b[0mwrite_html\u001b[0m\u001b[1;33m(\u001b[0m\u001b[1;34m\"../../Fig/Tweets_PremierLeague2.html\"\u001b[0m\u001b[1;33m)\u001b[0m\u001b[1;33m\u001b[0m\u001b[1;33m\u001b[0m\u001b[0m\n\u001b[0m",
      "\u001b[1;32md:\\anaconda\\envs\\dataanalytic\\lib\\site-packages\\plotly\\basedatatypes.py\u001b[0m in \u001b[0;36mwrite_html\u001b[1;34m(self, *args, **kwargs)\u001b[0m\n\u001b[0;32m   3683\u001b[0m         \u001b[1;32mimport\u001b[0m \u001b[0mplotly\u001b[0m\u001b[1;33m.\u001b[0m\u001b[0mio\u001b[0m \u001b[1;32mas\u001b[0m \u001b[0mpio\u001b[0m\u001b[1;33m\u001b[0m\u001b[1;33m\u001b[0m\u001b[0m\n\u001b[0;32m   3684\u001b[0m \u001b[1;33m\u001b[0m\u001b[0m\n\u001b[1;32m-> 3685\u001b[1;33m         \u001b[1;32mreturn\u001b[0m \u001b[0mpio\u001b[0m\u001b[1;33m.\u001b[0m\u001b[0mwrite_html\u001b[0m\u001b[1;33m(\u001b[0m\u001b[0mself\u001b[0m\u001b[1;33m,\u001b[0m \u001b[1;33m*\u001b[0m\u001b[0margs\u001b[0m\u001b[1;33m,\u001b[0m \u001b[1;33m**\u001b[0m\u001b[0mkwargs\u001b[0m\u001b[1;33m)\u001b[0m\u001b[1;33m\u001b[0m\u001b[1;33m\u001b[0m\u001b[0m\n\u001b[0m\u001b[0;32m   3686\u001b[0m \u001b[1;33m\u001b[0m\u001b[0m\n\u001b[0;32m   3687\u001b[0m     \u001b[1;32mdef\u001b[0m \u001b[0mto_image\u001b[0m\u001b[1;33m(\u001b[0m\u001b[0mself\u001b[0m\u001b[1;33m,\u001b[0m \u001b[1;33m*\u001b[0m\u001b[0margs\u001b[0m\u001b[1;33m,\u001b[0m \u001b[1;33m**\u001b[0m\u001b[0mkwargs\u001b[0m\u001b[1;33m)\u001b[0m\u001b[1;33m:\u001b[0m\u001b[1;33m\u001b[0m\u001b[1;33m\u001b[0m\u001b[0m\n",
      "\u001b[1;32md:\\anaconda\\envs\\dataanalytic\\lib\\site-packages\\plotly\\io\\_html.py\u001b[0m in \u001b[0;36mwrite_html\u001b[1;34m(fig, file, config, auto_play, include_plotlyjs, include_mathjax, post_script, full_html, animation_opts, validate, default_width, default_height, auto_open)\u001b[0m\n\u001b[0;32m    525\u001b[0m     \u001b[1;31m# Write HTML string\u001b[0m\u001b[1;33m\u001b[0m\u001b[1;33m\u001b[0m\u001b[1;33m\u001b[0m\u001b[0m\n\u001b[0;32m    526\u001b[0m     \u001b[1;32mif\u001b[0m \u001b[0mfile_is_str\u001b[0m\u001b[1;33m:\u001b[0m\u001b[1;33m\u001b[0m\u001b[1;33m\u001b[0m\u001b[0m\n\u001b[1;32m--> 527\u001b[1;33m         \u001b[1;32mwith\u001b[0m \u001b[0mopen\u001b[0m\u001b[1;33m(\u001b[0m\u001b[0mfile\u001b[0m\u001b[1;33m,\u001b[0m \u001b[1;34m\"w\"\u001b[0m\u001b[1;33m)\u001b[0m \u001b[1;32mas\u001b[0m \u001b[0mf\u001b[0m\u001b[1;33m:\u001b[0m\u001b[1;33m\u001b[0m\u001b[1;33m\u001b[0m\u001b[0m\n\u001b[0m\u001b[0;32m    528\u001b[0m             \u001b[0mf\u001b[0m\u001b[1;33m.\u001b[0m\u001b[0mwrite\u001b[0m\u001b[1;33m(\u001b[0m\u001b[0mhtml_str\u001b[0m\u001b[1;33m)\u001b[0m\u001b[1;33m\u001b[0m\u001b[1;33m\u001b[0m\u001b[0m\n\u001b[0;32m    529\u001b[0m     \u001b[1;32melse\u001b[0m\u001b[1;33m:\u001b[0m\u001b[1;33m\u001b[0m\u001b[1;33m\u001b[0m\u001b[0m\n",
      "\u001b[1;31mFileNotFoundError\u001b[0m: [Errno 2] No such file or directory: '../../Fig/Tweets_PremierLeague2.html'"
     ]
    }
   ],
   "source": [
    "import plotly.graph_objs as go\n",
    "#Declare figure\n",
    "fig = go.Figure()\n",
    "\n",
    "#add a trace\n",
    "fig.add_trace(go.Scatter(x=prin.Date, y=prin['Coun'], mode='lines+markers',\n",
    "                    name='lines+markers'))\n",
    "#Update X and Y axis with title\n",
    "fig.update_xaxes(\n",
    "    title = 'Date',rangeslider_visible=True\n",
    ")\n",
    "\n",
    "fig.update_yaxes(\n",
    "    title = 'Tweets #PremierLeague'\n",
    ")\n",
    "\n",
    "#Show\n",
    "fig.show()\n",
    "fig.write_html(\"../../Fig/Tweets_PremierLeague2.html\")"
   ]
  },
  {
   "cell_type": "code",
   "execution_count": null,
   "metadata": {},
   "outputs": [],
   "source": [
    "import plotly.graph_objs as go\n",
    "#Declare figure\n",
    "fig = go.Figure()\n",
    "#add a trace\n",
    "fig.add_trace(go.Scatter(x=prin.Date, y=prin['Coun'], connectgaps=False))\n",
    "#Update X and Y axis with title\n",
    "fig.update_xaxes(\n",
    "    title = 'Date',rangeslider_visible=True\n",
    ")\n",
    "fig.update_yaxes(\n",
    "    title = 'Tweets #PremierLeague'\n",
    ")\n",
    "#Show\n",
    "fig.show()\n",
    "fig.write_html(\"../../Fig/Tweets_PremierLeague.html\")"
   ]
  },
  {
   "cell_type": "code",
   "execution_count": null,
   "metadata": {},
   "outputs": [],
   "source": [
    "df_eng.User.value_counts()"
   ]
  },
  {
   "cell_type": "code",
   "execution_count": null,
   "metadata": {
    "scrolled": true
   },
   "outputs": [],
   "source": [
    "# visualizing the comments' languages b) neat and clean\n",
    "\n",
    "ax = df_eng.User.value_counts().plot(kind='barh', figsize=(10,5), color=\"steelblue\", \n",
    "                                             fontsize=12);\n",
    "\n",
    "ax.set_title(\"\\nWhat are the most frequent users written in the #PremierLeague?\\n\", \n",
    "             fontsize=14, fontweight='bold')\n",
    "ax.set_xlabel(\" Total Number of Comments\", fontsize=12)\n",
    "ax.set_yticklabels(df_eng.User.value_counts().index[0:5], fontsize=10)\n",
    "\n",
    "# create a list to collect the plt.patches data\n",
    "totals = []\n",
    "\n",
    "# find the ind. values and append to list\n",
    "for i in ax.patches:\n",
    "    totals.append(i.get_width())\n",
    "# get total\n",
    "total = sum(totals)\n",
    "\n",
    "# set individual bar labels using above list\n",
    "for i in ax.patches:\n",
    "    ax.text(x=i.get_width(), y=i.get_y()+.35, \n",
    "            s=str(round((i.get_width()/total)*100, 2))+'%', \n",
    "            fontsize=10, color='black')\n",
    "\n",
    "# invert for largest on top \n",
    "fig = ax.invert_yaxis()\n",
    "\n",
    "ax.figure.savefig(\"../Fig/freq-user_#PremierLeague.png\")"
   ]
  },
  {
   "cell_type": "code",
   "execution_count": null,
   "metadata": {},
   "outputs": [],
   "source": []
  },
  {
   "cell_type": "markdown",
   "metadata": {},
   "source": [
    "# NFL"
   ]
  },
  {
   "cell_type": "markdown",
   "metadata": {},
   "source": [
    "## Data Cleaning"
   ]
  },
  {
   "cell_type": "code",
   "execution_count": null,
   "metadata": {},
   "outputs": [],
   "source": [
    "#Import the data\n",
    "df = pd.read_csv('../datasets/_2-NFL - Búsqueda de Twitter _ Twitter.csv', error_bad_lines=False)\n",
    "df"
   ]
  },
  {
   "cell_type": "code",
   "execution_count": null,
   "metadata": {},
   "outputs": [],
   "source": [
    "# Change the name of the columns \n",
    "df.columns = \"Name\",\"User\" , \"Date\", \"Text\", \"Comment\", \"Retweet\", \"Likes\" "
   ]
  },
  {
   "cell_type": "code",
   "execution_count": null,
   "metadata": {},
   "outputs": [],
   "source": [
    "# checking shape ...\n",
    "print(\"The dataset has {} rows and {} columns.\".format(*df.shape))\n",
    "\n",
    "# ... and duplicates\n",
    "print(\"It contains {} duplicates.\".format(df.Text.duplicated().sum()))"
   ]
  },
  {
   "cell_type": "code",
   "execution_count": null,
   "metadata": {},
   "outputs": [],
   "source": [
    "df.info()"
   ]
  },
  {
   "cell_type": "code",
   "execution_count": null,
   "metadata": {},
   "outputs": [],
   "source": [
    "# How look like the null-values in the Name, looks 'normal' so move on\n",
    "df[df.Name.isnull()]"
   ]
  },
  {
   "cell_type": "code",
   "execution_count": null,
   "metadata": {},
   "outputs": [],
   "source": [
    "# How look like the null-values in the User, this are empty in the Text value to\n",
    "df[df.User.isnull()]"
   ]
  },
  {
   "cell_type": "code",
   "execution_count": null,
   "metadata": {},
   "outputs": [],
   "source": [
    "# Dropped the values duplicates\n",
    "df.drop(list(df[df.Text.duplicated()].index), axis=0,inplace=True)"
   ]
  },
  {
   "cell_type": "code",
   "execution_count": null,
   "metadata": {},
   "outputs": [],
   "source": [
    "# Reset the index\n",
    "df.reset_index(drop=True, inplace = True)"
   ]
  },
  {
   "cell_type": "code",
   "execution_count": null,
   "metadata": {},
   "outputs": [],
   "source": [
    "# Checking the values in Date variable, the tweets of the 25/nov are counting by hours\n",
    "df.Date.unique()"
   ]
  },
  {
   "cell_type": "code",
   "execution_count": null,
   "metadata": {},
   "outputs": [],
   "source": [
    "# Repleced the date, for later trasform to datatime\n",
    "df.loc[:,\"Date\"] = \"27-11-2020\""
   ]
  },
  {
   "cell_type": "code",
   "execution_count": null,
   "metadata": {},
   "outputs": [],
   "source": [
    "# Filled the null values in Date, using the ffill method \n",
    "df.Date.fillna(method='ffill', inplace=True) "
   ]
  },
  {
   "cell_type": "code",
   "execution_count": null,
   "metadata": {},
   "outputs": [],
   "source": [
    "#Trasformed to Datetime\n",
    "df.Date = pd.to_datetime(df.Date, format='%d-%m-%Y')"
   ]
  },
  {
   "cell_type": "code",
   "execution_count": null,
   "metadata": {},
   "outputs": [],
   "source": [
    "df.Date.value_counts()"
   ]
  },
  {
   "cell_type": "code",
   "execution_count": null,
   "metadata": {
    "scrolled": true
   },
   "outputs": [],
   "source": [
    "df.User.value_counts()"
   ]
  },
  {
   "cell_type": "code",
   "execution_count": null,
   "metadata": {},
   "outputs": [],
   "source": []
  },
  {
   "cell_type": "markdown",
   "metadata": {},
   "source": [
    "## Data Trasformation"
   ]
  },
  {
   "cell_type": "code",
   "execution_count": null,
   "metadata": {},
   "outputs": [],
   "source": [
    "df.User.value_counts()"
   ]
  },
  {
   "cell_type": "code",
   "execution_count": null,
   "metadata": {},
   "outputs": [],
   "source": [
    "# Trasformed the User names to lower case\n",
    "df[\"User\"] = df['User'].map(lambda x: x.lower() if isinstance(x,str) else x)\n",
    "\n",
    "#Genereted a list of user that are magazines, newspaper, and the because these aren't User who express their feeling for the sport, \n",
    "#they are working for the sports just informing. Dropped the results\n",
    "\n",
    "listofno = (list(df[df.User.str.contains(\"news\")].User)+ list(df[df.User.str.contains(\"times\")].User) + \n",
    "            list(df[df.User.str.contains(\"review\")].User) + list(df[df.User.str.contains(\"sport\")].User) +\n",
    "            list(df[df.User.str.contains(\"nfl\")].User)) \n",
    "\n",
    "# Dropped the User duplicates in the list\n",
    "listofno = list(dict.fromkeys(listofno)) \n",
    "listofno "
   ]
  },
  {
   "cell_type": "code",
   "execution_count": null,
   "metadata": {},
   "outputs": [],
   "source": [
    "# Selected the user that aren't in the listofno\n",
    "df1 = df[~df.User.isin(listofno)]\n",
    "df1"
   ]
  },
  {
   "cell_type": "code",
   "execution_count": null,
   "metadata": {},
   "outputs": [],
   "source": [
    "# Removed the break lines in the tweets \n",
    "df1.Text = df1.Text.apply(lambda x: x.replace(\"\\n\", \" \"))\n",
    "#Create a new column with all the Hashtags used \n",
    "df1[\"Hashtags\"] = df1.Text.apply(lambda x: ' '.join((re.findall(r'\\B#\\w*[a-zA-Z]+\\w*', x))))\n",
    "#Create a new column without the Hashtags \n",
    "df1[\"Clean\"] = df1.Text.apply(lambda x: re.sub(r'\\B#\\w*[a-zA-Z]+\\w*',\" \", x, flags=re.MULTILINE))\n",
    "df = df1.copy()"
   ]
  },
  {
   "cell_type": "code",
   "execution_count": null,
   "metadata": {
    "scrolled": true
   },
   "outputs": [],
   "source": [
    "df"
   ]
  },
  {
   "cell_type": "code",
   "execution_count": null,
   "metadata": {},
   "outputs": [],
   "source": [
    "#Created a new column with the language\n",
    "df['language'] = df['Clean'].apply(language_detection)"
   ]
  },
  {
   "cell_type": "code",
   "execution_count": null,
   "metadata": {},
   "outputs": [],
   "source": []
  },
  {
   "cell_type": "code",
   "execution_count": null,
   "metadata": {},
   "outputs": [],
   "source": [
    "# Visualizated types of language\n",
    "df.language.value_counts(normalize=True).head(10).sort_values(ascending = False)"
   ]
  },
  {
   "cell_type": "code",
   "execution_count": null,
   "metadata": {},
   "outputs": [],
   "source": [
    "df.language.value_counts().sum()"
   ]
  },
  {
   "cell_type": "code",
   "execution_count": null,
   "metadata": {},
   "outputs": [],
   "source": [
    "# visualizing the comments' languages b) neat and clean\n",
    "ax = df.language.value_counts().head(5).plot(kind='barh', figsize=(9,5), color=\"darkred\", \n",
    "                                             fontsize=12);\n",
    "\n",
    "ax.set_title(\"\\nWhat are the most frequent languages comments are written in #NFL?\\n\", \n",
    "             fontsize=12, fontweight='bold')\n",
    "ax.set_xlabel(\" Total Number of Comments\", fontsize=10)\n",
    "ax.set_yticklabels(['English',  'Spanish', 'German',  'Portuguese', 'Catalan',])\n",
    "\n",
    "# create a list to collect the plt.patches data\n",
    "totals = []\n",
    "\n",
    "# find the ind. values and append to list\n",
    "for i in ax.patches:\n",
    "    totals.append(i.get_width())\n",
    "# get total\n",
    "total = df.language.value_counts().sum() \n",
    "\n",
    "# set individual bar labels using above list\n",
    "for i in ax.patches:\n",
    "    ax.text(x=i.get_width(), y=i.get_y()+.35, \n",
    "            s=str(round((i.get_width()/total)*100, 2))+'%', \n",
    "            fontsize=10, color='black')\n",
    "\n",
    "# invert for largest on top \n",
    "ax.invert_yaxis()\n",
    "ax.figure.savefig(\"../Fig/freq-lang_#NFL.png\")"
   ]
  },
  {
   "cell_type": "code",
   "execution_count": null,
   "metadata": {
    "scrolled": false
   },
   "outputs": [],
   "source": [
    "df_eng = df[(df['language']=='en')].reset_index(drop=True)\n",
    "df_de  = df[(df['language']=='de')].reset_index(drop=True)\n",
    "df_fr  = df[(df['language']=='fr')].reset_index(drop=True)\n"
   ]
  },
  {
   "cell_type": "code",
   "execution_count": null,
   "metadata": {},
   "outputs": [],
   "source": []
  },
  {
   "cell_type": "markdown",
   "metadata": {},
   "source": [
    "## VADER"
   ]
  },
  {
   "cell_type": "code",
   "execution_count": null,
   "metadata": {},
   "outputs": [],
   "source": [
    "df_eng.reset_index(drop=True)"
   ]
  },
  {
   "cell_type": "code",
   "execution_count": null,
   "metadata": {},
   "outputs": [],
   "source": [
    "%%time\n",
    "\n",
    "df_eng['sentiment_neg'] = df_eng['Clean'].apply(negative_score)\n",
    "df_eng['sentiment_neu'] = df_eng['Clean'].apply(neutral_score)\n",
    "df_eng['sentiment_pos'] = df_eng['Clean'].apply(positive_score)\n",
    "df_eng['sentiment_compound'] = df_eng['Clean'].apply(compound_score)"
   ]
  },
  {
   "cell_type": "code",
   "execution_count": null,
   "metadata": {},
   "outputs": [],
   "source": [
    "df_eng"
   ]
  },
  {
   "cell_type": "code",
   "execution_count": null,
   "metadata": {},
   "outputs": [],
   "source": [
    "df_eng[df_eng.sentiment_neu == 1]"
   ]
  },
  {
   "cell_type": "code",
   "execution_count": null,
   "metadata": {},
   "outputs": [],
   "source": [
    "a = df_eng[['User','sentiment_compound']].groupby('User').agg(['count','mean'])\n",
    "a = a.sentiment_compound.reset_index()\n",
    "a = a.copy()\n",
    "a.columns = \"User\" , \"Count\", \"sentiment_compound\""
   ]
  },
  {
   "cell_type": "code",
   "execution_count": null,
   "metadata": {},
   "outputs": [],
   "source": [
    "a[a.sentiment_compound == 0].sort_values(by=\"Count\")"
   ]
  },
  {
   "cell_type": "code",
   "execution_count": null,
   "metadata": {},
   "outputs": [],
   "source": [
    "# all scores in 4 histograms\n",
    "fig, axes = plt.subplots(2, 2, figsize=(10,8))\n",
    "\n",
    "# plot all 4 histograms\n",
    "df_eng.hist('sentiment_neg', bins=25, ax=axes[0,0], color='lightcoral', alpha=0.6)\n",
    "axes[0,0].set_title('Negative Sentiment Score')\n",
    "\n",
    "df_eng.hist('sentiment_neu', bins=25, ax=axes[0,1], color='lightsteelblue', alpha=0.6)\n",
    "axes[0,1].set_title('Neutral Sentiment Score')\n",
    "\n",
    "df_eng.hist('sentiment_pos', bins=25, ax=axes[1,0], color='chartreuse', alpha=0.6)\n",
    "axes[1,0].set_title('Positive Sentiment Score')\n",
    "\n",
    "df_eng.hist('sentiment_compound', bins=25, ax=axes[1,1], color='navajowhite', alpha=0.6)\n",
    "axes[1,1].set_title('Compound')\n",
    "\n",
    "# plot common x- and y-label\n",
    "fig.text(0.5, 0.04, 'Sentiment Scores',  fontweight='bold', ha='center')\n",
    "fig.text(0.04, 0.5, 'Number of Reviews', fontweight='bold', va='center', rotation='vertical')\n",
    "\n",
    "# plot title\n",
    "plt.suptitle('Sentiment Analysis of PremierLeague Hashtag\\n\\n', fontsize=12, fontweight='bold');"
   ]
  },
  {
   "cell_type": "code",
   "execution_count": null,
   "metadata": {},
   "outputs": [],
   "source": [
    "# Categorized the compound\n",
    "df_eng['comp_cat'] = df_eng['sentiment_compound'].apply(lambda c: 'pos' if c >=0.5 else ('neg' if c <=-0.5  else 'neu'))\n"
   ]
  },
  {
   "cell_type": "code",
   "execution_count": null,
   "metadata": {
    "scrolled": false
   },
   "outputs": [],
   "source": [
    "df_eng"
   ]
  },
  {
   "cell_type": "code",
   "execution_count": null,
   "metadata": {},
   "outputs": [],
   "source": [
    "df_eng['comp_cat'].value_counts(normalize=True)"
   ]
  },
  {
   "cell_type": "code",
   "execution_count": null,
   "metadata": {},
   "outputs": [],
   "source": [
    "# assign the data\n",
    "data = df_eng['comp_cat'].value_counts(normalize=True)\n",
    "names = ['Neutral Comments','Positive Comments', 'Negative Comments']\n",
    "\n",
    "\n",
    "# call a pie chart\n",
    "plt.pie(data, labels= names, colors=['lightgray', 'limegreen', 'indianred' ], \n",
    "        autopct='%.2f%%', pctdistance=0.8,\n",
    "        wedgeprops={'linewidth':7, 'edgecolor':'white' })\n",
    "\n",
    "# create circle for the center of the plot to make the pie look like a donut\n",
    "my_circle = plt.Circle((0,0), 0.6, color='white')\n",
    "\n",
    "# plot the donut chart\n",
    "plt.title('Sentimental Analysis of Premier League Hashtag\\n', fontweight='bold')\n",
    "\n",
    "fig = plt.gcf()\n",
    "fig.set_size_inches(7,7)\n",
    "fig.gca().add_artist(my_circle)\n",
    "plt.show()\n",
    "\n",
    "\n",
    "fig.savefig(\"../Fig/SA_#PremierLeague.png\")"
   ]
  },
  {
   "cell_type": "code",
   "execution_count": null,
   "metadata": {},
   "outputs": [],
   "source": [
    "# full dataframe with NEGATIVE comments\n",
    "df_neg = df_eng.loc[df_eng.sentiment_compound <= -0.50]\n",
    "\n",
    "# only corpus of NEGATIVE comments\n",
    "neg_comments = df_neg['Text'].tolist()"
   ]
  },
  {
   "cell_type": "code",
   "execution_count": null,
   "metadata": {},
   "outputs": [],
   "source": [
    "df_neg"
   ]
  },
  {
   "cell_type": "code",
   "execution_count": null,
   "metadata": {},
   "outputs": [],
   "source": [
    "for i in df_neg.Text:\n",
    "    if len(i) < 120:\n",
    "        print(i)"
   ]
  },
  {
   "cell_type": "code",
   "execution_count": null,
   "metadata": {},
   "outputs": [],
   "source": [
    "# vectorizing text\n",
    "vectorizer = CountVectorizer(stop_words='english')\n",
    "docs = vectorizer.fit_transform(neg_comments)\n",
    "features = vectorizer.get_feature_names()\n",
    "\n",
    "# preparing the plot\n",
    "set_palette('pastel')\n",
    "plt.figure(figsize=(18,8))\n",
    "plt.title('The Top 10 most frequent words used in NEGATIVE comments\\n', fontweight='bold')\n",
    "\n",
    "# instantiating and fitting the FreqDistVisualizer, plotting the top 30 most frequent terms\n",
    "visualizer = FreqDistVisualizer(features=features, n=10)\n",
    "visualizer.fit(docs)\n",
    "visualizer.poof;"
   ]
  },
  {
   "cell_type": "code",
   "execution_count": null,
   "metadata": {},
   "outputs": [],
   "source": []
  },
  {
   "cell_type": "markdown",
   "metadata": {},
   "source": [
    "## Word Cleaning"
   ]
  },
  {
   "cell_type": "code",
   "execution_count": null,
   "metadata": {},
   "outputs": [],
   "source": [
    "df_eng[\"Clean\"] = df_eng['Clean'].apply(lambda x: cleaning(x)) "
   ]
  },
  {
   "cell_type": "code",
   "execution_count": null,
   "metadata": {},
   "outputs": [],
   "source": [
    "from collections import Counter\n",
    "\n",
    "vocab = Counter()\n",
    "for tweet in df_eng[\"Clean\"]:\n",
    "    for word in tweet.split(' '):\n",
    "        vocab[word] += 1\n",
    "\n",
    "vocab.most_common(20)"
   ]
  },
  {
   "cell_type": "raw",
   "metadata": {},
   "source": [
    "from nltk.probability import FreqDist\n",
    "\n",
    "freq_dist = FreqDist([word for text in df_eng[\"Clean\"].str.replace('[^a-za-z0-9^,!.\\/+-=]',' ') for word in text.split()])\n",
    "plt.figure(figsize=(20, 7))\n",
    "plt.title('Word frequency on question body (Raw data)').set_fontsize(25)\n",
    "plt.xlabel('').set_fontsize(25)\n",
    "plt.ylabel('').set_fontsize(25)\n",
    "freq_dist.plot(30,cumulative=False)\n",
    "plt.show()"
   ]
  },
  {
   "cell_type": "code",
   "execution_count": null,
   "metadata": {},
   "outputs": [],
   "source": [
    "df_eng.info()"
   ]
  },
  {
   "cell_type": "code",
   "execution_count": null,
   "metadata": {},
   "outputs": [],
   "source": [
    "prin = df_eng.Date.value_counts().reset_index()\n",
    "prin.columns= \"Date\", \"Coun\"\n"
   ]
  },
  {
   "cell_type": "code",
   "execution_count": null,
   "metadata": {},
   "outputs": [],
   "source": [
    "prin.Coun.mean()"
   ]
  },
  {
   "cell_type": "code",
   "execution_count": null,
   "metadata": {},
   "outputs": [],
   "source": [
    "import plotly.graph_objs as go\n",
    "#Declare figure\n",
    "fig = go.Figure()\n",
    "\n",
    "#add a trace\n",
    "fig.add_trace(go.Scatter(x=prin.Date, y=prin['Coun'], mode='lines+markers',\n",
    "                    name='lines+markers'))\n",
    "#Update X and Y axis with title\n",
    "fig.update_xaxes(\n",
    "    title = 'Date',rangeslider_visible=True\n",
    ")\n",
    "\n",
    "fig.update_yaxes(\n",
    "    title = 'Tweets #NFL'\n",
    ")\n",
    "\n",
    "#Show\n",
    "fig.show()\n",
    "fig.write_html(\"../../Fig/Tweets_NFL.html\")"
   ]
  },
  {
   "cell_type": "code",
   "execution_count": null,
   "metadata": {},
   "outputs": [],
   "source": [
    "import plotly.graph_objs as go\n",
    "#Declare figure\n",
    "fig = go.Figure()\n",
    "#add a trace\n",
    "fig.add_trace(go.Scatter(x=prin.Date, y=prin['Coun'], connectgaps=False))\n",
    "#Update X and Y axis with title\n",
    "fig.update_xaxes(\n",
    "    title = 'Date',rangeslider_visible=True\n",
    ")\n",
    "fig.update_yaxes(\n",
    "    title = 'Tweets #NFL'\n",
    ")\n",
    "#Show\n",
    "fig.show()\n",
    "fig.write_html(\"../../Fig/Tweets_NFL2.html\")"
   ]
  },
  {
   "cell_type": "code",
   "execution_count": null,
   "metadata": {
    "scrolled": true
   },
   "outputs": [],
   "source": [
    "# visualizing the comments' languages b) neat and clean\n",
    "ax = df_eng.User.value_counts().head(5).plot(kind='barh', figsize=(10,5), color=\"darkred\", \n",
    "                                             fontsize=12);\n",
    "\n",
    "ax.set_title(\"\\nWhat are the most frequent users written in the #NFL?\\n\", \n",
    "             fontsize=14, fontweight='bold')\n",
    "ax.set_xlabel(\" Total Number of Comments\", fontsize=12)\n",
    "ax.set_yticklabels(df_eng.User.value_counts().index[0:5], fontsize=10)\n",
    "\n",
    "# create a list to collect the plt.patches data\n",
    "totals = []\n",
    "\n",
    "# find the ind. values and append to list\n",
    "for i in ax.patches:\n",
    "    totals.append(i.get_width())\n",
    "# get total\n",
    "total = sum(totals)\n",
    "\n",
    "# set individual bar labels using above list\n",
    "for i in ax.patches:\n",
    "    ax.text(x=i.get_width(), y=i.get_y()+.35, \n",
    "            s=str(round((i.get_width()/total)*100, 2))+'%', \n",
    "            fontsize=10, color='black')\n",
    "\n",
    "# invert for largest on top \n",
    "fig = ax.invert_yaxis()\n",
    "\n",
    "ax.figure.savefig(\"../../Fig/freq-user_#Tweets_NFL.png\")"
   ]
  },
  {
   "cell_type": "code",
   "execution_count": null,
   "metadata": {},
   "outputs": [],
   "source": []
  },
  {
   "cell_type": "markdown",
   "metadata": {},
   "source": [
    "# NBA"
   ]
  },
  {
   "cell_type": "markdown",
   "metadata": {},
   "source": [
    "## Data Cleaning"
   ]
  },
  {
   "cell_type": "code",
   "execution_count": null,
   "metadata": {},
   "outputs": [],
   "source": [
    "#Import the data\n",
    "df = pd.read_csv('../datasets/_3-NBAPlayoffs- Búsqueda de Twitter _ Twitter.csv', error_bad_lines=False)\n",
    "df"
   ]
  },
  {
   "cell_type": "code",
   "execution_count": null,
   "metadata": {},
   "outputs": [],
   "source": [
    "# Change the name of the columns \n",
    "df.columns = \"Name\",\"User\" , \"Date\", \"Text\", \"Comment\", \"Retweet\", \"Likes\", \"Desc\""
   ]
  },
  {
   "cell_type": "code",
   "execution_count": null,
   "metadata": {},
   "outputs": [],
   "source": [
    "# Checking shape ...\n",
    "print(\"The dataset has {} rows and {} columns.\".format(*df.shape))\n",
    "\n",
    "# ... and duplicates\n",
    "print(\"It contains {} duplicates.\".format(df.Text.duplicated().sum()))"
   ]
  },
  {
   "cell_type": "code",
   "execution_count": null,
   "metadata": {},
   "outputs": [],
   "source": [
    "df.info()"
   ]
  },
  {
   "cell_type": "code",
   "execution_count": null,
   "metadata": {},
   "outputs": [],
   "source": [
    "# How look like the null-values in the Name, looks 'normal' so move on\n",
    "df[df.Name.isnull()]"
   ]
  },
  {
   "cell_type": "code",
   "execution_count": null,
   "metadata": {},
   "outputs": [],
   "source": [
    "# How look like the null-values in the User, this are empty in the Text value to\n",
    "df[df.User.isnull()]"
   ]
  },
  {
   "cell_type": "code",
   "execution_count": null,
   "metadata": {},
   "outputs": [],
   "source": [
    "# Selected all the rows that have not null values in User\n",
    "df = df[~df.User.isnull()]"
   ]
  },
  {
   "cell_type": "code",
   "execution_count": null,
   "metadata": {},
   "outputs": [],
   "source": [
    "# Dropped the values duplicates\n",
    "df.drop(list(df[df.Text.duplicated()].index), axis=0,inplace=True)"
   ]
  },
  {
   "cell_type": "code",
   "execution_count": null,
   "metadata": {},
   "outputs": [],
   "source": [
    "# Reset the index\n",
    "df.reset_index(drop=True, inplace = True)"
   ]
  },
  {
   "cell_type": "code",
   "execution_count": null,
   "metadata": {},
   "outputs": [],
   "source": [
    "# Checking the values in Date variable, the tweets of the 25/nov are counting by hours\n",
    "df.Date.unique()"
   ]
  },
  {
   "cell_type": "code",
   "execution_count": null,
   "metadata": {},
   "outputs": [],
   "source": [
    "df#.loc[df.Date == \"20h\"]"
   ]
  },
  {
   "cell_type": "code",
   "execution_count": null,
   "metadata": {},
   "outputs": [],
   "source": [
    "# Standarized the Date\n",
    "df.loc[0:3 ,\"Date\"] = \"23 nov.\""
   ]
  },
  {
   "cell_type": "code",
   "execution_count": null,
   "metadata": {},
   "outputs": [],
   "source": [
    "# Added the 2020 in the Date\n",
    "df.loc[:,\"Date\"] += \" 2020\""
   ]
  },
  {
   "cell_type": "code",
   "execution_count": null,
   "metadata": {},
   "outputs": [],
   "source": [
    "# Repleced the Nov, for later trasform to datatime\n",
    "df[\"Date\" ]= df.Date.str.replace(\" oct. \", \"-10-\")\n",
    "df[\"Date\" ]= df.Date.str.replace(\" nov. \", \"-11-\")"
   ]
  },
  {
   "cell_type": "code",
   "execution_count": null,
   "metadata": {},
   "outputs": [],
   "source": [
    "# Filled the null values in Date, using the ffill method \n",
    "df.Date.fillna(method='ffill', inplace=True) "
   ]
  },
  {
   "cell_type": "code",
   "execution_count": null,
   "metadata": {},
   "outputs": [],
   "source": [
    "#Trasformed to Datetime\n",
    "df.Date = pd.to_datetime(df.Date, format='%d-%m-%Y')"
   ]
  },
  {
   "cell_type": "code",
   "execution_count": null,
   "metadata": {},
   "outputs": [],
   "source": [
    "df.Date.value_counts()"
   ]
  },
  {
   "cell_type": "code",
   "execution_count": null,
   "metadata": {
    "scrolled": true
   },
   "outputs": [],
   "source": [
    "df.User.value_counts()"
   ]
  },
  {
   "cell_type": "code",
   "execution_count": null,
   "metadata": {
    "scrolled": true
   },
   "outputs": [],
   "source": [
    "df.Name.value_counts()"
   ]
  },
  {
   "cell_type": "markdown",
   "metadata": {},
   "source": [
    "## Data Trasformation"
   ]
  },
  {
   "cell_type": "code",
   "execution_count": null,
   "metadata": {},
   "outputs": [],
   "source": [
    "# Trasformed the User names to lower case\n",
    "df[\"User\"] = df['User'].map(lambda x: x.lower() if isinstance(x,str) else x)\n",
    "\n",
    "#Genereted a list of user that are magazines, newspaper, and the because these aren't User who express their feeling for the sport, \n",
    "#they are working for the sports just informing. Dropped the results\n",
    "\n",
    "listofno = (list(df[df.User.str.contains(\"news\")].User)+ list(df[df.User.str.contains(\"times\")].User) + \n",
    "            list(df[df.User.str.contains(\"review\")].User) + list(df[df.User.str.contains(\"sport\")].User) \n",
    "            + list(df[df.User.str.contains(\"nba\")].User + list(df[df.User.str.contains(\"radio\")].User)) \n",
    "listofno = listofno + [\"@nba_alinstante\"]\n",
    "\n",
    "\n",
    "# Dropped the User duplicates in the list\n",
    "listofno = list(dict.fromkeys(listofno)) \n",
    "listofno "
   ]
  },
  {
   "cell_type": "code",
   "execution_count": null,
   "metadata": {},
   "outputs": [],
   "source": [
    "# Selected the user that aren't in the listofno\n",
    "df1 = df[~df.User.isin(listofno)]\n",
    "df1= df1[~df.Text.isnull()]"
   ]
  },
  {
   "cell_type": "code",
   "execution_count": null,
   "metadata": {},
   "outputs": [],
   "source": [
    "# Removed the break lines in the tweets \n",
    "df1.Text = df1.Text.apply(lambda x: x.replace(\"\\n\", \" \"))\n",
    "#Create a new column with all the Hashtags used \n",
    "df1[\"Hashtags\"] = df1.Text.apply(lambda x: ' '.join((re.findall(r'\\B#\\w*[a-zA-Z]+\\w*', x))))\n",
    "#Create a new column without the Hashtags \n",
    "df1[\"Clean\"] = df1.Text.apply(lambda x: re.sub(r'\\B#\\w*[a-zA-Z]+\\w*',\" \", x, flags=re.MULTILINE))\n",
    "df = df1.copy()"
   ]
  },
  {
   "cell_type": "code",
   "execution_count": null,
   "metadata": {},
   "outputs": [],
   "source": [
    "df"
   ]
  },
  {
   "cell_type": "code",
   "execution_count": null,
   "metadata": {},
   "outputs": [],
   "source": [
    "#Created a new column with the language\n",
    "df['language'] = df['Clean'].apply(language_detection)\n"
   ]
  },
  {
   "cell_type": "code",
   "execution_count": null,
   "metadata": {},
   "outputs": [],
   "source": [
    "# Visualizated types of language\n",
    "df.language.value_counts(normalize=True).head(10).sort_values(ascending = False)"
   ]
  },
  {
   "cell_type": "code",
   "execution_count": null,
   "metadata": {},
   "outputs": [],
   "source": [
    "# visualizing the comments' languages b) neat and clean\n",
    "ax = df.language.value_counts().head(5).plot(kind='barh', figsize=(9,5), color=\"grey\", \n",
    "                                             fontsize=12);\n",
    "\n",
    "ax.set_title(\"\\nWhat are the most frequent languages comments are written in #NBA?\\n\", \n",
    "             fontsize=12, fontweight='bold')\n",
    "ax.set_xlabel(\" Total Number of Comments\", fontsize=10)\n",
    "ax.set_yticklabels(['English', 'Spanish', 'French', 'Portuguese', 'Italian' ])\n",
    "\n",
    "# create a list to collect the plt.patches data\n",
    "totals = []\n",
    "\n",
    "# find the ind. values and append to list\n",
    "for i in ax.patches:\n",
    "    totals.append(i.get_width())\n",
    "# get total\n",
    "total = df.language.value_counts().sum()\n",
    "\n",
    "# set individual bar labels using above list\n",
    "for i in ax.patches:\n",
    "    ax.text(x=i.get_width(), y=i.get_y()+.35, \n",
    "            s=str(round((i.get_width()/total)*100, 2))+'%', \n",
    "            fontsize=10, color='black')\n",
    "\n",
    "# invert for largest on top \n",
    "ax.invert_yaxis()\n",
    "ax.figure.savefig(\"../Fig/freq-lang_#NBA.png\")"
   ]
  },
  {
   "cell_type": "code",
   "execution_count": null,
   "metadata": {},
   "outputs": [],
   "source": [
    "df = df.reset_index(drop=True)"
   ]
  },
  {
   "cell_type": "code",
   "execution_count": null,
   "metadata": {
    "scrolled": false
   },
   "outputs": [],
   "source": [
    "df_eng = df[(df['language']=='en')]\n",
    "df_de  = df[(df['language']=='de')]\n",
    "df_fr  = df[(df['language']=='fr')]\n"
   ]
  },
  {
   "cell_type": "markdown",
   "metadata": {},
   "source": [
    "## VADER"
   ]
  },
  {
   "cell_type": "code",
   "execution_count": null,
   "metadata": {},
   "outputs": [],
   "source": [
    "df_eng.reset_index(drop=True)"
   ]
  },
  {
   "cell_type": "code",
   "execution_count": null,
   "metadata": {},
   "outputs": [],
   "source": [
    "%%time\n",
    "\n",
    "df_eng['sentiment_neg'] = df_eng['Clean'].apply(negative_score)\n",
    "df_eng['sentiment_neu'] = df_eng['Clean'].apply(neutral_score)\n",
    "df_eng['sentiment_pos'] = df_eng['Clean'].apply(positive_score)\n",
    "df_eng['sentiment_compound'] = df_eng['Clean'].apply(compound_score)"
   ]
  },
  {
   "cell_type": "code",
   "execution_count": null,
   "metadata": {},
   "outputs": [],
   "source": [
    "df_eng"
   ]
  },
  {
   "cell_type": "code",
   "execution_count": null,
   "metadata": {},
   "outputs": [],
   "source": [
    "df_eng[df_eng.sentiment_neu == 1]"
   ]
  },
  {
   "cell_type": "code",
   "execution_count": null,
   "metadata": {},
   "outputs": [],
   "source": [
    "a = df_eng[['User','sentiment_compound']].groupby('User').agg(['count','mean'])\n",
    "a = a.sentiment_compound.reset_index()\n",
    "a = a.copy()\n",
    "a.columns = \"User\" , \"Count\", \"sentiment_compound\""
   ]
  },
  {
   "cell_type": "code",
   "execution_count": null,
   "metadata": {},
   "outputs": [],
   "source": [
    "a[a.sentiment_compound == 0].sort_values(by=\"Count\")"
   ]
  },
  {
   "cell_type": "code",
   "execution_count": null,
   "metadata": {},
   "outputs": [],
   "source": [
    "# all scores in 4 histograms\n",
    "fig, axes = plt.subplots(2, 2, figsize=(10,8))\n",
    "\n",
    "# plot all 4 histograms\n",
    "df_eng.hist('sentiment_neg', bins=25, ax=axes[0,0], color='lightcoral', alpha=0.6)\n",
    "axes[0,0].set_title('Negative Sentiment Score')\n",
    "\n",
    "df_eng.hist('sentiment_neu', bins=25, ax=axes[0,1], color='lightsteelblue', alpha=0.6)\n",
    "axes[0,1].set_title('Neutral Sentiment Score')\n",
    "\n",
    "df_eng.hist('sentiment_pos', bins=25, ax=axes[1,0], color='chartreuse', alpha=0.6)\n",
    "axes[1,0].set_title('Positive Sentiment Score')\n",
    "\n",
    "df_eng.hist('sentiment_compound', bins=25, ax=axes[1,1], color='navajowhite', alpha=0.6)\n",
    "axes[1,1].set_title('Compound')\n",
    "\n",
    "# plot common x- and y-label\n",
    "fig.text(0.5, 0.04, 'Sentiment Scores',  fontweight='bold', ha='center')\n",
    "fig.text(0.04, 0.5, 'Number of Reviews', fontweight='bold', va='center', rotation='vertical')\n",
    "\n",
    "# plot title\n",
    "plt.suptitle('Sentiment Analysis of PremierLeague Hashtag\\n\\n', fontsize=12, fontweight='bold');"
   ]
  },
  {
   "cell_type": "code",
   "execution_count": null,
   "metadata": {},
   "outputs": [],
   "source": [
    "# Categorized the compound\n",
    "df_eng['comp_cat'] = df_eng['sentiment_compound'].apply(lambda c: 'pos' if c >=0.5 else ('neg' if c <=-0.5  else 'neu'))\n"
   ]
  },
  {
   "cell_type": "code",
   "execution_count": null,
   "metadata": {
    "scrolled": false
   },
   "outputs": [],
   "source": [
    "df_eng"
   ]
  },
  {
   "cell_type": "code",
   "execution_count": null,
   "metadata": {},
   "outputs": [],
   "source": [
    "df_eng['comp_cat'].value_counts(normalize=True)"
   ]
  },
  {
   "cell_type": "code",
   "execution_count": null,
   "metadata": {},
   "outputs": [],
   "source": [
    "# assign the data\n",
    "data = df_eng['comp_cat'].value_counts(normalize=True)\n",
    "names = ['Neutral Comments','Positive Comments', 'Negative Comments']\n",
    "\n",
    "\n",
    "# call a pie chart\n",
    "plt.pie(data, labels= names, colors=['lightgray', 'limegreen', 'indianred' ], \n",
    "        autopct='%.2f%%', pctdistance=0.8,\n",
    "        wedgeprops={'linewidth':7, 'edgecolor':'white' })\n",
    "\n",
    "# create circle for the center of the plot to make the pie look like a donut\n",
    "my_circle = plt.Circle((0,0), 0.6, color='white')\n",
    "\n",
    "# plot the donut chart\n",
    "plt.title('Sentimental Analysis of Premier League Hashtag\\n', fontweight='bold')\n",
    "\n",
    "fig = plt.gcf()\n",
    "fig.set_size_inches(7,7)\n",
    "fig.gca().add_artist(my_circle)\n",
    "plt.show()\n",
    "\n",
    "\n",
    "fig.savefig(\"../Fig/SA_#NBA.png\")"
   ]
  },
  {
   "cell_type": "code",
   "execution_count": null,
   "metadata": {},
   "outputs": [],
   "source": [
    "# full dataframe with NEGATIVE comments\n",
    "df_neg = df_eng.loc[df_eng.sentiment_compound <= -0.50]\n",
    "\n",
    "# only corpus of NEGATIVE comments\n",
    "neg_comments = df_neg['Text'].tolist()"
   ]
  },
  {
   "cell_type": "code",
   "execution_count": null,
   "metadata": {},
   "outputs": [],
   "source": [
    "df_neg"
   ]
  },
  {
   "cell_type": "code",
   "execution_count": null,
   "metadata": {
    "scrolled": true
   },
   "outputs": [],
   "source": [
    "for i in df_neg.Text:\n",
    "    if len(i) < 120:\n",
    "        print(i)"
   ]
  },
  {
   "cell_type": "code",
   "execution_count": null,
   "metadata": {},
   "outputs": [],
   "source": [
    "# vectorizing text\n",
    "vectorizer = CountVectorizer(stop_words='english')\n",
    "docs = vectorizer.fit_transform(neg_comments)\n",
    "features = vectorizer.get_feature_names()\n",
    "\n",
    "# preparing the plot\n",
    "set_palette('pastel')\n",
    "plt.figure(figsize=(18,8))\n",
    "plt.title('The Top 10 most frequent words used in NEGATIVE comments\\n', fontweight='bold')\n",
    "\n",
    "# instantiating and fitting the FreqDistVisualizer, plotting the top 30 most frequent terms\n",
    "visualizer = FreqDistVisualizer(features=features, n=10)\n",
    "visualizer.fit(docs)\n",
    "visualizer.poof;"
   ]
  },
  {
   "cell_type": "code",
   "execution_count": null,
   "metadata": {},
   "outputs": [],
   "source": []
  },
  {
   "cell_type": "markdown",
   "metadata": {},
   "source": [
    "## Word Cleaning"
   ]
  },
  {
   "cell_type": "code",
   "execution_count": null,
   "metadata": {},
   "outputs": [],
   "source": [
    "df_eng[\"Clean\"] = df_eng['Clean'].apply(lambda x: cleaning(x)) "
   ]
  },
  {
   "cell_type": "code",
   "execution_count": null,
   "metadata": {},
   "outputs": [],
   "source": [
    "from collections import Counter\n",
    "\n",
    "vocab = Counter()\n",
    "for tweet in df_eng[\"Clean\"]:\n",
    "    for word in tweet.split(' '):\n",
    "        vocab[word] += 1\n",
    "\n",
    "vocab.most_common(20)"
   ]
  },
  {
   "cell_type": "code",
   "execution_count": null,
   "metadata": {},
   "outputs": [],
   "source": [
    "from nltk.probability import FreqDist\n",
    "\n",
    "freq_dist = FreqDist([word for text in df_eng[\"Clean\"].str.replace('[^a-za-z0-9^,!.\\/+-=]',' ') for word in text.split()])\n",
    "plt.figure(figsize=(20, 7))\n",
    "plt.title('Word frequency on question body (Raw data)').set_fontsize(25)\n",
    "plt.xlabel('').set_fontsize(25)\n",
    "plt.ylabel('').set_fontsize(25)\n",
    "freq_dist.plot(30,cumulative=False)\n",
    "plt.show()"
   ]
  },
  {
   "cell_type": "code",
   "execution_count": null,
   "metadata": {},
   "outputs": [],
   "source": [
    "df_eng.info()"
   ]
  },
  {
   "cell_type": "code",
   "execution_count": null,
   "metadata": {},
   "outputs": [],
   "source": [
    "prin = df_eng.Date.value_counts().reset_index()\n",
    "prin.columns= \"Date\", \"Coun\"\n",
    "prin = prin.sort_values(by=\"Date\")"
   ]
  },
  {
   "cell_type": "code",
   "execution_count": null,
   "metadata": {},
   "outputs": [],
   "source": [
    "prin.Coun.mean()"
   ]
  },
  {
   "cell_type": "code",
   "execution_count": null,
   "metadata": {
    "scrolled": false
   },
   "outputs": [],
   "source": [
    "import plotly.graph_objs as go\n",
    "#Declare figure\n",
    "fig = go.Figure()\n",
    "\n",
    "#add a trace\n",
    "fig.add_trace(go.Scatter(x=prin.Date, y=prin['Coun'], mode='lines+markers',\n",
    "                    name='lines+markers'))\n",
    "#Update X and Y axis with title\n",
    "fig.update_xaxes(\n",
    "    title = 'Date',rangeslider_visible=True\n",
    ")\n",
    "\n",
    "fig.update_yaxes(\n",
    "    title = 'Tweets #PremierLeague'\n",
    ")\n",
    "\n",
    "#Show\n",
    "fig.show()\n",
    "fig.write_html(\"../Fig/Tweets_NBA.html\")"
   ]
  },
  {
   "cell_type": "code",
   "execution_count": null,
   "metadata": {},
   "outputs": [],
   "source": [
    "import plotly.graph_objs as go\n",
    "#Declare figure\n",
    "fig = go.Figure()\n",
    "#add a trace\n",
    "fig.add_trace(go.Scatter(x=prin.Date, y=prin['Coun'], connectgaps=False))\n",
    "#Update X and Y axis with title\n",
    "fig.update_xaxes(\n",
    "    title = 'Date',rangeslider_visible=True\n",
    ")\n",
    "fig.update_yaxes(\n",
    "    title = 'Tweets #PremierLeague'\n",
    ")\n",
    "#Show\n",
    "fig.show()\n",
    "fig.write_html(\"../../Fig/Tweets_PremierLeague.html\")"
   ]
  },
  {
   "cell_type": "code",
   "execution_count": null,
   "metadata": {},
   "outputs": [],
   "source": [
    "df_eng.User.value_counts()"
   ]
  },
  {
   "cell_type": "code",
   "execution_count": null,
   "metadata": {
    "scrolled": true
   },
   "outputs": [],
   "source": [
    "# visualizing the comments' languages b) neat and clean\n",
    "\n",
    "ax = df_eng.User.value_counts().plot(kind='barh', figsize=(10,5), color=\"grey\", \n",
    "                                             fontsize=12);\n",
    "\n",
    "ax.set_title(\"\\nWhat are the most frequent users written in the #PremierLeague?\\n\", \n",
    "             fontsize=14, fontweight='bold')\n",
    "ax.set_xlabel(\" Total Number of Comments\", fontsize=12)\n",
    "ax.set_yticklabels(df_eng.User.value_counts().index[0:5], fontsize=10)\n",
    "\n",
    "# create a list to collect the plt.patches data\n",
    "totals = []\n",
    "\n",
    "# find the ind. values and append to list\n",
    "for i in ax.patches:\n",
    "    totals.append(i.get_width())\n",
    "# get total\n",
    "total = sum(totals)\n",
    "\n",
    "# set individual bar labels using above list\n",
    "for i in ax.patches:\n",
    "    ax.text(x=i.get_width(), y=i.get_y()+.35, \n",
    "            s=str(round((i.get_width()/total)*100, 2))+'%', \n",
    "            fontsize=10, color='black')\n",
    "\n",
    "# invert for largest on top \n",
    "fig = ax.invert_yaxis()\n",
    "\n",
    "ax.figure.savefig(\"../Fig/freq-user_#nba.png\")"
   ]
  },
  {
   "cell_type": "code",
   "execution_count": null,
   "metadata": {},
   "outputs": [],
   "source": []
  }
 ],
 "metadata": {
  "kernelspec": {
   "display_name": "Python 3",
   "language": "python",
   "name": "python3"
  },
  "language_info": {
   "codemirror_mode": {
    "name": "ipython",
    "version": 3
   },
   "file_extension": ".py",
   "mimetype": "text/x-python",
   "name": "python",
   "nbconvert_exporter": "python",
   "pygments_lexer": "ipython3",
   "version": "3.7.9"
  },
  "toc": {
   "base_numbering": 1,
   "nav_menu": {},
   "number_sections": true,
   "sideBar": true,
   "skip_h1_title": false,
   "title_cell": "Table of Contents",
   "title_sidebar": "Contents",
   "toc_cell": false,
   "toc_position": {
    "height": "calc(100% - 180px)",
    "left": "10px",
    "top": "150px",
    "width": "384px"
   },
   "toc_section_display": true,
   "toc_window_display": true
  }
 },
 "nbformat": 4,
 "nbformat_minor": 4
}
